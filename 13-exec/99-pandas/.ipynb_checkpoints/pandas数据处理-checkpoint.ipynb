{
 "cells": [
  {
   "cell_type": "markdown",
   "metadata": {},
   "source": [
    "- 抓取中国票房网站的数据\n",
    "- url = 'www.cbooo.cn'"
   ]
  },
  {
   "cell_type": "code",
   "execution_count": 59,
   "metadata": {
    "collapsed": true
   },
   "outputs": [],
   "source": [
    "import pandas as pd\n",
    "import requests\n",
    "from bs4 import BeautifulSoup"
   ]
  },
  {
   "cell_type": "code",
   "execution_count": 2,
   "metadata": {
    "collapsed": true
   },
   "outputs": [],
   "source": [
    "url='http://www.cbooo.cn/year?year=2018'"
   ]
  },
  {
   "cell_type": "code",
   "execution_count": 44,
   "metadata": {},
   "outputs": [],
   "source": [
    "datas = requests.get(url).text\n",
    "# datas"
   ]
  },
  {
   "cell_type": "code",
   "execution_count": 5,
   "metadata": {},
   "outputs": [],
   "source": [
    "# 利用bs4解析\n",
    "soup = BeautifulSoup(datas,'lxml')"
   ]
  },
  {
   "cell_type": "code",
   "execution_count": 45,
   "metadata": {},
   "outputs": [],
   "source": [
    "# 获取数据集合\n",
    "movies_table = soup.find_all('table',{'id':'tbContent'})[0]\n",
    "# movies_table"
   ]
  },
  {
   "cell_type": "code",
   "execution_count": 46,
   "metadata": {},
   "outputs": [],
   "source": [
    "movies = movies_table.find_all('tr')\n",
    "# movies"
   ]
  },
  {
   "cell_type": "code",
   "execution_count": 47,
   "metadata": {},
   "outputs": [],
   "source": [
    "# 获取电影名称\n",
    "names = [tr.find_all('td')[0].a.get('title') for tr in movies[1:]]\n",
    "# names"
   ]
  },
  {
   "cell_type": "code",
   "execution_count": 48,
   "metadata": {},
   "outputs": [],
   "source": [
    "# 获取电影的url地址\n",
    "href= [tr.find_all('td')[0].a.get('href') for tr in movies[1:]]\n",
    "# href"
   ]
  },
  {
   "cell_type": "code",
   "execution_count": 49,
   "metadata": {},
   "outputs": [],
   "source": [
    "# 获取电影类型\n",
    "types= [tr.find_all('td')[1].string for tr in movies[1:]]\n",
    "# types"
   ]
  },
  {
   "cell_type": "code",
   "execution_count": 50,
   "metadata": {},
   "outputs": [],
   "source": [
    "# 票房数据\n",
    "boxoffice = [int(tr.find_all('td')[2].string) for tr in movies[1:]]\n",
    "# boxoffice"
   ]
  },
  {
   "cell_type": "code",
   "execution_count": 51,
   "metadata": {},
   "outputs": [],
   "source": [
    "# 平均票价\n",
    "mean_price = [int(tr.find_all('td')[3].string) for tr in movies[1:]]\n",
    "# mean_price"
   ]
  },
  {
   "cell_type": "code",
   "execution_count": 52,
   "metadata": {},
   "outputs": [],
   "source": [
    "# 场均人次\n",
    "mean_people = [int(tr.find_all('td')[4].string) for tr in movies[1:]]\n",
    "# mean_people"
   ]
  },
  {
   "cell_type": "code",
   "execution_count": 53,
   "metadata": {},
   "outputs": [],
   "source": [
    "# 获取国家和地区\n",
    "countries = [tr.find_all('td')[5].string for tr in movies[1:]]\n",
    "# countries"
   ]
  },
  {
   "cell_type": "code",
   "execution_count": 54,
   "metadata": {},
   "outputs": [],
   "source": [
    "# 获取上映时间\n",
    "times = [tr.find_all('td')[6].string for tr in movies[1:]]\n",
    "# times"
   ]
  },
  {
   "cell_type": "code",
   "execution_count": 55,
   "metadata": {
    "collapsed": true
   },
   "outputs": [],
   "source": [
    "# 获取每个详情页的导演\n",
    "def getInfo(url):\n",
    "    html = requests.get(url)\n",
    "    soup = BeautifulSoup(html.text,'lxml')\n",
    "    daoyan = soup.select('dl.dltext dd p a')[0].get_text()\n",
    "    return daoyan"
   ]
  },
  {
   "cell_type": "code",
   "execution_count": 56,
   "metadata": {
    "collapsed": true
   },
   "outputs": [],
   "source": [
    "daoyans = []"
   ]
  },
  {
   "cell_type": "code",
   "execution_count": 57,
   "metadata": {},
   "outputs": [
    {
     "name": "stdout",
     "output_type": "stream",
     "text": [
      "http://www.cbooo.cn/m/655823\n",
      "http://www.cbooo.cn/m/663419\n",
      "http://www.cbooo.cn/m/676313\n",
      "http://www.cbooo.cn/m/671983\n",
      "http://www.cbooo.cn/m/675789\n",
      "http://www.cbooo.cn/m/656875\n",
      "http://www.cbooo.cn/m/662209\n",
      "http://www.cbooo.cn/m/667168\n",
      "http://www.cbooo.cn/m/663359\n",
      "http://www.cbooo.cn/m/665526\n",
      "http://www.cbooo.cn/m/657862\n",
      "http://www.cbooo.cn/m/663327\n",
      "http://www.cbooo.cn/m/677028\n",
      "http://www.cbooo.cn/m/678141\n",
      "http://www.cbooo.cn/m/657756\n",
      "http://www.cbooo.cn/m/644333\n",
      "http://www.cbooo.cn/m/676242\n",
      "http://www.cbooo.cn/m/676391\n",
      "http://www.cbooo.cn/m/676247\n",
      "http://www.cbooo.cn/m/678587\n",
      "http://www.cbooo.cn/m/589946\n",
      "http://www.cbooo.cn/m/670328\n",
      "http://www.cbooo.cn/m/644530\n",
      "http://www.cbooo.cn/m/662063\n",
      "http://www.cbooo.cn/m/644135\n"
     ]
    }
   ],
   "source": [
    "for url in href:\n",
    "    print(url)\n",
    "    daoyans.append(getInfo(str(url)))"
   ]
  },
  {
   "cell_type": "code",
   "execution_count": 64,
   "metadata": {},
   "outputs": [],
   "source": [
    "# 进行数据存储\n",
    "df = pd.DataFrame({\n",
    "    'names':names,\n",
    "    'href':href,\n",
    "    'types':types,\n",
    "    'boxoffice(万)':boxoffice,\n",
    "    'mean_price':mean_price,\n",
    "    'mean_people':mean_people,\n",
    "    'countries':countries,\n",
    "    'times':times,\n",
    "    'daoyans':daoyans\n",
    "})"
   ]
  },
  {
   "cell_type": "code",
   "execution_count": 66,
   "metadata": {
    "scrolled": true
   },
   "outputs": [
    {
     "data": {
      "text/html": [
       "<div>\n",
       "<style>\n",
       "    .dataframe thead tr:only-child th {\n",
       "        text-align: right;\n",
       "    }\n",
       "\n",
       "    .dataframe thead th {\n",
       "        text-align: left;\n",
       "    }\n",
       "\n",
       "    .dataframe tbody tr th {\n",
       "        vertical-align: top;\n",
       "    }\n",
       "</style>\n",
       "<table border=\"1\" class=\"dataframe\">\n",
       "  <thead>\n",
       "    <tr style=\"text-align: right;\">\n",
       "      <th></th>\n",
       "      <th>boxoffice(万)</th>\n",
       "      <th>countries</th>\n",
       "      <th>daoyans</th>\n",
       "      <th>href</th>\n",
       "      <th>mean_people</th>\n",
       "      <th>mean_price</th>\n",
       "      <th>names</th>\n",
       "      <th>times</th>\n",
       "      <th>types</th>\n",
       "    </tr>\n",
       "  </thead>\n",
       "  <tbody>\n",
       "    <tr>\n",
       "      <th>0</th>\n",
       "      <td>365078</td>\n",
       "      <td>中国/中国香港</td>\n",
       "      <td>林超贤 Dante Lam</td>\n",
       "      <td>http://www.cbooo.cn/m/655823</td>\n",
       "      <td>33</td>\n",
       "      <td>39</td>\n",
       "      <td>红海行动</td>\n",
       "      <td>2018-02-16</td>\n",
       "      <td>动作</td>\n",
       "    </tr>\n",
       "    <tr>\n",
       "      <th>1</th>\n",
       "      <td>339769</td>\n",
       "      <td>中国</td>\n",
       "      <td>陈思诚 Sicheng Chen</td>\n",
       "      <td>http://www.cbooo.cn/m/663419</td>\n",
       "      <td>39</td>\n",
       "      <td>39</td>\n",
       "      <td>唐人街探案2</td>\n",
       "      <td>2018-02-16</td>\n",
       "      <td>喜剧</td>\n",
       "    </tr>\n",
       "    <tr>\n",
       "      <th>2</th>\n",
       "      <td>309713</td>\n",
       "      <td>中国</td>\n",
       "      <td>文牧野 Muye Wen</td>\n",
       "      <td>http://www.cbooo.cn/m/676313</td>\n",
       "      <td>27</td>\n",
       "      <td>35</td>\n",
       "      <td>我不是药神</td>\n",
       "      <td>2018-07-05</td>\n",
       "      <td>剧情</td>\n",
       "    </tr>\n",
       "    <tr>\n",
       "      <th>3</th>\n",
       "      <td>254719</td>\n",
       "      <td>中国</td>\n",
       "      <td>闫非 Fei Yan</td>\n",
       "      <td>http://www.cbooo.cn/m/671983</td>\n",
       "      <td>28</td>\n",
       "      <td>35</td>\n",
       "      <td>西虹市首富</td>\n",
       "      <td>2018-07-27</td>\n",
       "      <td>喜剧</td>\n",
       "    </tr>\n",
       "    <tr>\n",
       "      <th>4</th>\n",
       "      <td>239053</td>\n",
       "      <td>美国</td>\n",
       "      <td>安东尼·罗素 Anthony Russo</td>\n",
       "      <td>http://www.cbooo.cn/m/675789</td>\n",
       "      <td>19</td>\n",
       "      <td>38</td>\n",
       "      <td>复仇者联盟3：无限战争</td>\n",
       "      <td>2018-05-11</td>\n",
       "      <td>动作</td>\n",
       "    </tr>\n",
       "  </tbody>\n",
       "</table>\n",
       "</div>"
      ],
      "text/plain": [
       "   boxoffice(万) countries               daoyans                          href  \\\n",
       "0        365078   中国/中国香港         林超贤 Dante Lam  http://www.cbooo.cn/m/655823   \n",
       "1        339769        中国      陈思诚 Sicheng Chen  http://www.cbooo.cn/m/663419   \n",
       "2        309713        中国          文牧野 Muye Wen  http://www.cbooo.cn/m/676313   \n",
       "3        254719        中国            闫非 Fei Yan  http://www.cbooo.cn/m/671983   \n",
       "4        239053        美国  安东尼·罗素 Anthony Russo  http://www.cbooo.cn/m/675789   \n",
       "\n",
       "   mean_people  mean_price        names       times types  \n",
       "0           33          39         红海行动  2018-02-16    动作  \n",
       "1           39          39       唐人街探案2  2018-02-16    喜剧  \n",
       "2           27          35        我不是药神  2018-07-05    剧情  \n",
       "3           28          35        西虹市首富  2018-07-27    喜剧  \n",
       "4           19          38  复仇者联盟3：无限战争  2018-05-11    动作  "
      ]
     },
     "execution_count": 66,
     "metadata": {},
     "output_type": "execute_result"
    }
   ],
   "source": [
    "# 查看所有结果集\n",
    "df\n",
    "# 查看前5行\n",
    "df.head()\n"
   ]
  },
  {
   "cell_type": "code",
   "execution_count": 68,
   "metadata": {
    "collapsed": true
   },
   "outputs": [],
   "source": [
    "# 数据存储\n",
    "df.to_csv('movies.csv')"
   ]
  },
  {
   "cell_type": "code",
   "execution_count": null,
   "metadata": {
    "collapsed": true
   },
   "outputs": [],
   "source": [
    "# liunx中查找文件\n",
    "find / -name \"movies.csv\" -type f"
   ]
  }
 ],
 "metadata": {
  "kernelspec": {
   "display_name": "Python 3",
   "language": "python",
   "name": "python3"
  },
  "language_info": {
   "codemirror_mode": {
    "name": "ipython",
    "version": 3
   },
   "file_extension": ".py",
   "mimetype": "text/x-python",
   "name": "python",
   "nbconvert_exporter": "python",
   "pygments_lexer": "ipython3",
   "version": "3.6.3"
  }
 },
 "nbformat": 4,
 "nbformat_minor": 2
}
