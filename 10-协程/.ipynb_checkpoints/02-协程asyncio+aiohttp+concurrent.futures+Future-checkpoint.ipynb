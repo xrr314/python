{
 "cells": [
  {
   "cell_type": "markdown",
   "metadata": {},
   "source": [
    "# asyncio\n",
    "- python3.4开始引入标准库当中,内置对异步io支持\n",
    "- asyncio本身是一个消息循环\n",
    "- 步骤:\n",
    "    - 创建消息循环\n",
    "    - 把协程导入\n",
    "    -关闭"
   ]
  },
  {
   "cell_type": "code",
   "execution_count": 1,
   "metadata": {},
   "outputs": [
    {
     "name": "stdout",
     "output_type": "stream",
     "text": [
      "Hello world!(<_MainThread(MainThread, started 139859808741120)>)\n",
      "Start....(<_MainThread(MainThread, started 139859808741120)>)\n",
      "Hello world!(<_MainThread(MainThread, started 139859808741120)>)\n",
      "Start....(<_MainThread(MainThread, started 139859808741120)>)\n",
      "Done....(<_MainThread(MainThread, started 139859808741120)>)\n",
      "Hello again! (<_MainThread(MainThread, started 139859808741120)>)\n",
      "Done....(<_MainThread(MainThread, started 139859808741120)>)\n",
      "Hello again! (<_MainThread(MainThread, started 139859808741120)>)\n"
     ]
    }
   ],
   "source": [
    "import threading\n",
    "#引入异步io包\n",
    "import asyncio\n",
    "\n",
    "#使用协程\n",
    "@asyncio.coroutine\n",
    "def hello():\n",
    "    print('Hello world!(%s)'%threading.currentThread())\n",
    "    print('Start....(%s)'%threading.currentThread())\n",
    "    yield from asyncio.sleep(5)\n",
    "    print('Done....(%s)'%threading.currentThread())\n",
    "    print('Hello again! (%s)'%threading.currentThread())\n",
    " \n",
    "# 启动消息循环\n",
    "loop=asyncio.get_event_loop()\n",
    "#定义任务\n",
    "tasks=[hello(),hello()]\n",
    "#asyncio使用wait等待task\n",
    "loop.run_until_complete(asyncio.wait(tasks))\n",
    "loop.close()"
   ]
  },
  {
   "cell_type": "code",
   "execution_count": 1,
   "metadata": {},
   "outputs": [
    {
     "name": "stdout",
     "output_type": "stream",
     "text": [
      "wget www.163.com...\n",
      "wget www.sina.com.cn...\n",
      "wget www.souhu.com...\n",
      "www.sina.com.cn header > HTTP/1.1 302 Moved Temporarily\n",
      "\n",
      "www.sina.com.cn header > Server: nginx\n",
      "\n",
      "www.sina.com.cn header > Date: Sat, 13 Oct 2018 03:50:07 GMT\n",
      "\n",
      "www.sina.com.cn header > Content-Type: text/html\n",
      "\n",
      "www.sina.com.cn header > Content-Length: 154\n",
      "\n",
      "www.sina.com.cn header > Connection: close\n",
      "\n",
      "www.sina.com.cn header > Location: https://www.sina.com.cn/\n",
      "\n",
      "www.sina.com.cn header > X-Via-CDN: f=edge,s=cmcc.fujian.ha2ts4.183.nb.sinaedge.com,c=111.145.72.29;\n",
      "\n",
      "www.sina.com.cn header > X-Via-Edge: 15394026071781d48916f9ffc057010e250f0\n",
      "\n",
      "www.163.com header > HTTP/1.0 302 Moved Temporarily\n",
      "\n",
      "www.163.com header > Server: Cdn Cache Server V2.0\n",
      "\n",
      "www.163.com header > Date: Sat, 13 Oct 2018 03:50:07 GMT\n",
      "\n",
      "www.163.com header > Content-Length: 0\n",
      "\n",
      "www.163.com header > Location: http://www.163.com/special/0077jt/error_isp.html\n",
      "\n",
      "www.163.com header > Connection: close\n",
      "\n"
     ]
    }
   ],
   "source": [
    "import asyncio\n",
    "@asyncio.coroutine\n",
    "def wget(host):\n",
    "    print('wget %s...'%host)\n",
    "    #异步请求网络地址\n",
    "    connect=asyncio.open_connection(host,80)\n",
    "    # 注意yield from的用法\n",
    "    reader,writer=yield from connect\n",
    "    header='GET / HTTP/1.0\\r\\nHost: %s\\r\\n\\r\\n' % host\n",
    "    writer.write(header.encode('utf-8'))\n",
    "    yield from writer.drain()\n",
    "    while True:\n",
    "        line= yield from reader.readline()\n",
    "        #http协议的换行使用\\r\\n\n",
    "        if line ==b'\\r\\n':\n",
    "            break\n",
    "        print('%s header > %s' % (host, line.decode('utf-8'.rstrip())))\n",
    "    writer.close()\n",
    "    \n",
    "loop=asyncio.get_event_loop()\n",
    "tasks=[wget(host) for host in ['www.sina.com.cn','www.souhu.com','www.163.com']]\n",
    "loop.run_until_complete(asyncio.wait(tasks))\n",
    "loop.close()"
   ]
  },
  {
   "cell_type": "markdown",
   "metadata": {},
   "source": [
    "# asyncio and await\n",
    "- 为了更好的表示异步io\n",
    "- Python3.5引入\n",
    "- 让协程代码更加简洁\n",
    "- 使用上,可以单间的进行替换\n",
    "    - 用async替换@asyncio.coroutine\n",
    "    - await 替换yield from"
   ]
  },
  {
   "cell_type": "markdown",
   "metadata": {},
   "source": [
    "# aiohttp\n",
    "- asyncio实现单线程的并发io,在客户端用处不大\n",
    "- 在服务器端可以asyncio+coroutine配合,因为http是io操作\n",
    "- asyncio实现了tcp,udp,ssl等协议\n",
    "- aiohttp是给予asyncio实现的http框架\n",
    "- pip install aiohttp"
   ]
  },
  {
   "cell_type": "code",
   "execution_count": 4,
   "metadata": {},
   "outputs": [
    {
     "ename": "ModuleNotFoundError",
     "evalue": "No module named 'aiohttp'",
     "output_type": "error",
     "traceback": [
      "\u001b[0;31m---------------------------------------------------------------------------\u001b[0m",
      "\u001b[0;31mModuleNotFoundError\u001b[0m                       Traceback (most recent call last)",
      "\u001b[0;32m<ipython-input-4-207186e34314>\u001b[0m in \u001b[0;36m<module>\u001b[0;34m()\u001b[0m\n\u001b[1;32m      1\u001b[0m \u001b[0;31m#aiohttp案例\u001b[0m\u001b[0;34m\u001b[0m\u001b[0;34m\u001b[0m\u001b[0m\n\u001b[1;32m      2\u001b[0m \u001b[0;32mimport\u001b[0m \u001b[0masyncio\u001b[0m\u001b[0;34m\u001b[0m\u001b[0m\n\u001b[0;32m----> 3\u001b[0;31m \u001b[0;32mfrom\u001b[0m \u001b[0maiohttp\u001b[0m \u001b[0;32mimport\u001b[0m \u001b[0mweb\u001b[0m\u001b[0;34m\u001b[0m\u001b[0m\n\u001b[0m\u001b[1;32m      4\u001b[0m \u001b[0;34m\u001b[0m\u001b[0m\n\u001b[1;32m      5\u001b[0m \u001b[0;34m\u001b[0m\u001b[0m\n",
      "\u001b[0;31mModuleNotFoundError\u001b[0m: No module named 'aiohttp'"
     ]
    }
   ],
   "source": [
    "#aiohttp案例\n",
    "import asyncio\n",
    "from aiohttp import web\n",
    "\n",
    "\n",
    "async def index(request):\n",
    "    await asyncio.sleep(0.5)\n",
    "    return web.Response(body=b'<h1>Index</h1>')\n",
    "\n",
    "async def hello(request):\n",
    "    await asyncio.sleep(0.5)\n",
    "    text='<h1>hello,%s!</h1>' % request.match_info['name']\n",
    "    return web.Response(body=text.encode('utf-8'))\n",
    "\n",
    "async def init(loop):\n",
    "    app=web.Application(loop=loop)\n",
    "    app.router.add_route('GET','/',index)\n",
    "    app.router.add_route('GET','/hello/{name}',hello)\n",
    "    srv=await loop.create_server(app.match_handler(),'127.0.0.1',8000)\n",
    "    print('Serve  started at http:.//127.0.0.1:8000')\n",
    "    return srv\n",
    "\n",
    "loop=asyncio.get_event_loop()\n",
    "loop.run_until_complete(init(loop))\n",
    "loop.run_forever"
   ]
  },
  {
   "cell_type": "markdown",
   "metadata": {},
   "source": [
    "# concurrent.futures\n",
    "- python3新增的库\n",
    "- 类似其他语言的线程池,概念\n",
    "- 利用multiprocessiong实现真正的并行计算\n",
    "- 核心原来:以子进程的形式,并行运行多个python解释器\n",
    "    从而令python程序可以利用多核CPU来提升执行速度\n",
    "    由于子进程与主解释器相分离,所以他们的全局解释器锁也是相互独立的\n",
    "    每个子进程能够完整的使用一个CPU内核\n",
    "- concurrent.futures.Executor\n",
    "- ThreadPoolExecutor\n",
    "- ProcessPoolExecutor\n",
    "- 执行的时候需要自行选择\n",
    "- submit(fn,args,kwargs)\n",
    "    - fn:异步执行的函数\n",
    "    - args,kwargs参数"
   ]
  },
  {
   "cell_type": "code",
   "execution_count": 3,
   "metadata": {},
   "outputs": [
    {
     "name": "stdout",
     "output_type": "stream",
     "text": [
      "False\n",
      "False\n",
      "<bound method Future.result of <Future at 0x7f0bf953add8 state=running>>\n",
      "<bound method Future.result of <Future at 0x7f0bf953aeb8 state=running>>\n"
     ]
    }
   ],
   "source": [
    "#关于concurrent的案例\n",
    "from concurrent.futures import ThreadPoolExecutor\n",
    "import time\n",
    "\n",
    "def return_future(msg):\n",
    "    time.sleep(3)\n",
    "    return msg\n",
    "\n",
    "#创建一个线程池\n",
    "pool=ThreadPoolExecutor(max_workers=2)\n",
    "\n",
    "#往线程池加入2个task\n",
    "f1=pool.submit(return_future,'hello')\n",
    "f2=pool.submit(return_future,'world')\n",
    "\n",
    "# 等待执行完毕\n",
    "print(f1.done())\n",
    "time.sleep(3)\n",
    "print(f2.done())\n",
    "\n",
    "# 结果\n",
    "print(f1.result)\n",
    "print(f2.result)"
   ]
  },
  {
   "cell_type": "markdown",
   "metadata": {},
   "source": [
    "# current 中map函数\n",
    "- map(fn,\\*iterables,timeout=None)\n",
    "    - 跟map函数类似\n",
    "    - 函数需要进行异步执行\n",
    "    - timeout:超时时间\n",
    "    - map跟submit使用一个就行\n",
    "    \n",
    "# Future\n",
    "    - "
   ]
  },
  {
   "cell_type": "code",
   "execution_count": 6,
   "metadata": {},
   "outputs": [
    {
     "name": "stdout",
     "output_type": "stream",
     "text": [
      "1\n",
      "2\n",
      "ok\n",
      "ok\n"
     ]
    }
   ],
   "source": [
    "# map案例\n",
    "import time,re\n",
    "import os,datetime\n",
    "from concurrent import futures\n",
    "\n",
    "data=['1','2']\n",
    "\n",
    "def wait_on(argument):\n",
    "    print(argument)\n",
    "    time.sleep(2)\n",
    "    return 'ok'\n",
    "\n",
    "ex=futures.ThreadPoolExecutor(max_workers=2)\n",
    "for i in ex.map(wait_on,data):\n",
    "    print(i)"
   ]
  }
 ],
 "metadata": {
  "kernelspec": {
   "display_name": "Python 3",
   "language": "python",
   "name": "python3"
  },
  "language_info": {
   "codemirror_mode": {
    "name": "ipython",
    "version": 3
   },
   "file_extension": ".py",
   "mimetype": "text/x-python",
   "name": "python",
   "nbconvert_exporter": "python",
   "pygments_lexer": "ipython3",
   "version": "3.6.3"
  }
 },
 "nbformat": 4,
 "nbformat_minor": 2
}
