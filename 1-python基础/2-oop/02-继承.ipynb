{
 "cells": [
  {
   "cell_type": "code",
   "execution_count": 18,
   "metadata": {},
   "outputs": [
    {
     "name": "stdout",
     "output_type": "stream",
     "text": [
      "sec\n",
      "Sleeping...\n",
      "123\n",
      "make_test...\n",
      "20\n"
     ]
    }
   ],
   "source": [
    "#继承的语法\n",
    "#在python中,任何类都有一个共同的父类object\n",
    "class Person():\n",
    "    name='Noname'\n",
    "    age=18\n",
    "    __sorce=0#成绩是秘密\n",
    "    _petname='sec'#收保护的,子类可用\n",
    "    def sleep(self):\n",
    "        print('Sleeping...')\n",
    "        return None\n",
    "\n",
    "#父类写在括号内\n",
    "class Teacher(Person):\n",
    "    age=20\n",
    "    teacher_id=123\n",
    "    def make_test(self):\n",
    "        print('make_test...')\n",
    "\n",
    "t=Teacher()\n",
    "print(t._petname)\n",
    "\n",
    "#私有访问问题\n",
    "#print(t.__sorce)\n",
    "\n",
    "t.sleep()\n",
    "\n",
    "print(t.teacher_id)\n",
    "t.make_test()\n",
    "print(t.age)"
   ]
  },
  {
   "cell_type": "code",
   "execution_count": 33,
   "metadata": {},
   "outputs": [
    {
     "name": "stdout",
     "output_type": "stream",
     "text": [
      "赚点小钱\n",
      "for_test\n",
      "为了学生\n"
     ]
    }
   ],
   "source": [
    "#子类扩充父类功能\n",
    "class Person():\n",
    "    name='xrr'\n",
    "    age=18\n",
    "    def work(self):\n",
    "        print('赚点小钱')\n",
    "    \n",
    "class teacher(Person):\n",
    "    name='just'\n",
    "    age=20\n",
    "    def make_test(self):\n",
    "        print('for_test')\n",
    "    def work(self):\n",
    "        #使用子类对象来冒充父类对象,两种写法\n",
    "        #Person.work(self)\n",
    "        super().work()\n",
    "        \n",
    "        \n",
    "        self.make_test()\n",
    "        print('为了学生')\n",
    "        return None\n",
    "    \n",
    "t=teacher()\n",
    "t.work()"
   ]
  },
  {
   "cell_type": "code",
   "execution_count": 35,
   "metadata": {},
   "outputs": [
    {
     "name": "stdout",
     "output_type": "stream",
     "text": [
      "i am a dog\n"
     ]
    }
   ],
   "source": [
    "#构造函数的概念\n",
    "class Dog():\n",
    "    #__init__就是构造函数\n",
    "    #每一次实例化的时候,第一个被调用\n",
    "    #主要工作是进行初始化,所以得名\n",
    "    def __init__(self):\n",
    "        print('i am a dog')\n",
    "        \n",
    "kkk=Dog()"
   ]
  },
  {
   "cell_type": "code",
   "execution_count": 54,
   "metadata": {},
   "outputs": [
    {
     "name": "stdout",
     "output_type": "stream",
     "text": [
      "i am a dog\n",
      "********************\n",
      "i am a paxing,xxx\n",
      "********************\n",
      "i am an Animal\n"
     ]
    }
   ],
   "source": [
    "#继承中的构造函数\n",
    "class Animal():\n",
    "    def __init__(self):\n",
    "        print('i am an Animal')\n",
    "    pass\n",
    "\n",
    "class PaXing(Animal):\n",
    "    def __init__(self,name):\n",
    "        print('i am a paxing,{0}'.format(name))\n",
    "class Dog(PaXing):\n",
    "    def __init__(self):\n",
    "        print('i am a dog')\n",
    "    pass\n",
    "\n",
    "class Cat(PaXing):\n",
    "    pass\n",
    "        \n",
    "class WuGui(Animal):\n",
    "    pass\n",
    "\n",
    "kaka=Dog()\n",
    "print(\"*\"*20)\n",
    "xiaomao=Cat('xxx')\n",
    "print('*'*20)\n",
    "wu=WuGui()"
   ]
  },
  {
   "cell_type": "code",
   "execution_count": 56,
   "metadata": {},
   "outputs": [
    {
     "name": "stdout",
     "output_type": "stream",
     "text": [
      "<class 'type'>\n",
      "Help on class super in module builtins:\n",
      "\n",
      "class super(object)\n",
      " |  super() -> same as super(__class__, <first argument>)\n",
      " |  super(type) -> unbound super object\n",
      " |  super(type, obj) -> bound super object; requires isinstance(obj, type)\n",
      " |  super(type, type2) -> bound super object; requires issubclass(type2, type)\n",
      " |  Typical use to call a cooperative superclass method:\n",
      " |  class C(B):\n",
      " |      def meth(self, arg):\n",
      " |          super().meth(arg)\n",
      " |  This works for class methods too:\n",
      " |  class C(B):\n",
      " |      @classmethod\n",
      " |      def cmeth(cls, arg):\n",
      " |          super().cmeth(arg)\n",
      " |  \n",
      " |  Methods defined here:\n",
      " |  \n",
      " |  __get__(self, instance, owner, /)\n",
      " |      Return an attribute of instance, which is of type owner.\n",
      " |  \n",
      " |  __getattribute__(self, name, /)\n",
      " |      Return getattr(self, name).\n",
      " |  \n",
      " |  __init__(self, /, *args, **kwargs)\n",
      " |      Initialize self.  See help(type(self)) for accurate signature.\n",
      " |  \n",
      " |  __new__(*args, **kwargs) from builtins.type\n",
      " |      Create and return a new object.  See help(type) for accurate signature.\n",
      " |  \n",
      " |  __repr__(self, /)\n",
      " |      Return repr(self).\n",
      " |  \n",
      " |  ----------------------------------------------------------------------\n",
      " |  Data descriptors defined here:\n",
      " |  \n",
      " |  __self__\n",
      " |      the instance invoking super(); may be None\n",
      " |  \n",
      " |  __self_class__\n",
      " |      the type of the instance invoking super(); may be None\n",
      " |  \n",
      " |  __thisclass__\n",
      " |      the class invoking super()\n",
      "\n"
     ]
    }
   ],
   "source": [
    "print(type(super))\n",
    "help(super)"
   ]
  }
 ],
 "metadata": {
  "kernelspec": {
   "display_name": "Python 3",
   "language": "python",
   "name": "python3"
  },
  "language_info": {
   "codemirror_mode": {
    "name": "ipython",
    "version": 3
   },
   "file_extension": ".py",
   "mimetype": "text/x-python",
   "name": "python",
   "nbconvert_exporter": "python",
   "pygments_lexer": "ipython3",
   "version": "3.6.3"
  }
 },
 "nbformat": 4,
 "nbformat_minor": 2
}
