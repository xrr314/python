{
 "cells": [
  {
   "cell_type": "code",
   "execution_count": 5,
   "metadata": {},
   "outputs": [
    {
     "name": "stdout",
     "output_type": "stream",
     "text": [
      "(<class '__main__.A'>, <class 'object'>)\n",
      "(<class '__main__.B'>, <class '__main__.A'>, <class 'object'>)\n",
      "(<class '__main__.C'>, <class '__main__.B'>, <class '__main__.A'>, <class 'object'>)\n"
     ]
    }
   ],
   "source": [
    "class A():\n",
    "    pass\n",
    "class B(A):\n",
    "    pass\n",
    "#不推荐\n",
    "class C(B,A):\n",
    "    pass\n",
    "print(A.__mro__)\n",
    "print(B.__mro__)\n",
    "print(C.__mro__)"
   ]
  },
  {
   "cell_type": "code",
   "execution_count": 10,
   "metadata": {},
   "outputs": [
    {
     "name": "stdout",
     "output_type": "stream",
     "text": [
      "i am working\n",
      "i am a SuperMane\n",
      "i am flying\n",
      "i am swimming\n"
     ]
    }
   ],
   "source": [
    "#多继承的例子\n",
    "#子类可以直接拥有父类的属性和方法,除了私有属性和方法外\n",
    "class Fish():\n",
    "    def __init__(self,name):\n",
    "        self.name=name\n",
    "    def swim(self):\n",
    "        print('i am swimming')\n",
    "class Bird():\n",
    "    def __init__(self,name):\n",
    "        self.name=name\n",
    "    def fly(self):\n",
    "        print('i am flying')\n",
    "class Person():\n",
    "    def __init__(self,name):\n",
    "        self.name=name\n",
    "    def worked(self):\n",
    "        print('i am working')\n",
    "        \n",
    "class SuperMan(Person,Bird,Fish):\n",
    "    def __init__(self,name):\n",
    "        self.name=name\n",
    "        print('i am a SuperMane')\n",
    "    pass\n",
    "\n",
    "#单继承的例子\n",
    "class Student(Person):\n",
    "    def __init__(self,name):\n",
    "        self.name=name\n",
    "stu=Student('xrr1')\n",
    "stu.worked()\n",
    "#多继承的例子\n",
    "s=SuperMan('xrr')\n",
    "s.fly()\n",
    "s.swim()"
   ]
  },
  {
   "cell_type": "code",
   "execution_count": 11,
   "metadata": {
    "collapsed": true
   },
   "outputs": [],
   "source": [
    "#菱形继承问题\n",
    "class A():\n",
    "    pass\n",
    "class B(A):\n",
    "    pass\n",
    "class C(A):\n",
    "    pass\n",
    "class D(B,C):\n",
    "    pass"
   ]
  },
  {
   "cell_type": "code",
   "execution_count": 16,
   "metadata": {},
   "outputs": [
    {
     "name": "stdout",
     "output_type": "stream",
     "text": [
      "in init func\n",
      "<__main__.Person object at 0x7f7b14093470>\n"
     ]
    }
   ],
   "source": [
    "#构造函数例子\n",
    "class Person():\n",
    "    #对Person进行实例化的时候\n",
    "    #姓名要确定\n",
    "    #年龄要确定\n",
    "    #地址要确定\n",
    "    def __init__(self,name,age,addr):\n",
    "        self.name=name\n",
    "        self.age=age\n",
    "        self.addr=addr\n",
    "        print('in init func')\n",
    "    pass\n",
    "p=Person('xrr',18,'我家咯')\n",
    "print(p)"
   ]
  },
  {
   "cell_type": "code",
   "execution_count": 19,
   "metadata": {},
   "outputs": [
    {
     "name": "stdout",
     "output_type": "stream",
     "text": [
      "B\n"
     ]
    }
   ],
   "source": [
    "#构造函数的调用顺序-1\n",
    "#如果子类没有写构造函数,则自动向上查找,直到找到位置\n",
    "class A():\n",
    "    pass\n",
    "class B(A):\n",
    "    def __init__(self):\n",
    "        print('B')\n",
    "class C(B):\n",
    "    pass\n",
    "\n",
    "#此时,首先查找c的构造函数\n",
    "#如果没有,则向上按照mro顺序查找父类的构造函数,直到找到为止\n",
    "#此时,如果找到构造函数,参数要依次对应\n",
    "c=C()"
   ]
  },
  {
   "cell_type": "code",
   "execution_count": 21,
   "metadata": {},
   "outputs": [
    {
     "ename": "TypeError",
     "evalue": "__init__() missing 1 required positional argument: 'name'",
     "output_type": "error",
     "traceback": [
      "\u001b[0;31m---------------------------------------------------------------------------\u001b[0m",
      "\u001b[0;31mTypeError\u001b[0m                                 Traceback (most recent call last)",
      "\u001b[0;32m<ipython-input-21-fe8bf07c0233>\u001b[0m in \u001b[0;36m<module>\u001b[0;34m()\u001b[0m\n\u001b[1;32m     12\u001b[0m \u001b[0;31m#如果没有,则向上按照mro顺序查找父类的构造函数,直到找到为止\u001b[0m\u001b[0;34m\u001b[0m\u001b[0;34m\u001b[0m\u001b[0m\n\u001b[1;32m     13\u001b[0m \u001b[0;31m#此时,如果找到构造函数,参数要依次对应\u001b[0m\u001b[0;34m\u001b[0m\u001b[0;34m\u001b[0m\u001b[0m\n\u001b[0;32m---> 14\u001b[0;31m \u001b[0mc\u001b[0m\u001b[0;34m=\u001b[0m\u001b[0mC\u001b[0m\u001b[0;34m(\u001b[0m\u001b[0;34m)\u001b[0m\u001b[0;34m\u001b[0m\u001b[0m\n\u001b[0m",
      "\u001b[0;31mTypeError\u001b[0m: __init__() missing 1 required positional argument: 'name'"
     ]
    }
   ],
   "source": [
    "#构造函数的调用顺序-2\n",
    "#如果子类没有写构造函数,则自动向上查找,直到找到位置\n",
    "class A():\n",
    "    pass\n",
    "class B(A):\n",
    "    def __init__(self,name):\n",
    "        print('B')\n",
    "class C(B):\n",
    "    pass\n",
    "\n",
    "#此时,首先查找c的构造函数\n",
    "#如果没有,则向上按照mro顺序查找父类的构造函数,直到找到为止\n",
    "#此时,如果找到构造函数,参数要依次对应\n",
    "c=C()"
   ]
  },
  {
   "cell_type": "code",
   "execution_count": 29,
   "metadata": {},
   "outputs": [
    {
     "name": "stdout",
     "output_type": "stream",
     "text": [
      "B\n",
      "c的附加功能\n"
     ]
    }
   ],
   "source": [
    "#构造函数的调用顺序-3\n",
    "#如果子类没有写构造函数,则自动向上查找,直到找到位置\n",
    "class A():\n",
    "    pass\n",
    "class B(A):\n",
    "    def __init__(self,name):\n",
    "        print('B')\n",
    "class C(B):\n",
    "    #c中想要扩展b的构造方法\n",
    "    #即调用b的构造函数后添加一些功能\n",
    "    #由两种方式\n",
    "    '''\n",
    "    #方式1\n",
    "    def __init__(self,name):\n",
    "        #添加父类的构造函数\n",
    "        B.__init__(self,name)\n",
    "        #添加自己的功能\n",
    "        print('c的附加功能')\n",
    "    '''\n",
    "    #方式2\n",
    "    def __init__(self,name):\n",
    "        #添加父类的构造函数\n",
    "        super(C,self).__init__(name)\n",
    "        #添加自己的功能\n",
    "        print('c的附加功能')\n",
    "\n",
    "\n",
    "#此时,首先查找c的构造函数\n",
    "#如果没有,则向上按照mro顺序查找父类的构造函数,直到找到为止\n",
    "#此时,如果找到构造函数,参数要依次对应\n",
    "c=C('我是C的实例')"
   ]
  },
  {
   "cell_type": "code",
   "execution_count": 40,
   "metadata": {},
   "outputs": [
    {
     "name": "stdout",
     "output_type": "stream",
     "text": [
      "(<class '__main__.Tutor'>, <class '__main__.Teacher'>, <class '__main__.Student'>, <class '__main__.Person'>, <class 'object'>)\n",
      "{}\n",
      "{'__module__': '__main__', '__doc__': None}\n",
      "* * * * * * * * * * * * * * * * * * * * * * * * * * * * * * \n",
      "(<class '__main__.TutorMixin'>, <class '__main__.Person'>, <class '__main__.TeacherMixin'>, <class '__main__.StudentMixin'>, <class 'object'>)\n",
      "{}\n",
      "{'__module__': '__main__', '__doc__': None}\n"
     ]
    }
   ],
   "source": [
    "#原来的多继承写法和Mixin写法\n",
    "#原来的多继承\n",
    "class Person():\n",
    "    name='xrr'\n",
    "    age=18\n",
    "    def eat(self):\n",
    "        print('eating...')\n",
    "    def drink(self):\n",
    "        print('drinking...')\n",
    "    def sleep(self):\n",
    "        print('sleeping...')\n",
    "class Teacher(Person):\n",
    "    def work(self):\n",
    "        print('working...')\n",
    "        \n",
    "class Student(Person):\n",
    "    def study(self):\n",
    "        print('study...')\n",
    "\n",
    "class Tutor(Teacher,Student):\n",
    "    pass\n",
    "\n",
    "t=Tutor()\n",
    "print(Tutor.__mro__)\n",
    "print(t.__dict__)\n",
    "print(Tutor.__dict__)\n",
    "\n",
    "print('* ' * 30)\n",
    "\n",
    "#Mixin写法\n",
    "#teacher和student类不用继承person\n",
    "class TeacherMixin():\n",
    "    def work(self):\n",
    "        print('work')\n",
    "class StudentMixin():\n",
    "    def study(self):\n",
    "        print('study')\n",
    "class TutorMixin(Person,TeacherMixin,StudentMixin):\n",
    "    pass\n",
    "\n",
    "tt=TutorMixin()\n",
    "print(TutorMixin.__mro__)\n",
    "print(tt.__dict__)\n",
    "print(Tutor.__dict__)"
   ]
  },
  {
   "cell_type": "code",
   "execution_count": 42,
   "metadata": {},
   "outputs": [
    {
     "name": "stdout",
     "output_type": "stream",
     "text": [
      "True\n"
     ]
    }
   ],
   "source": [
    "#issubclass判断前面的参数是否是后面参数的子类\n",
    "class A():\n",
    "    pass\n",
    "class B(A):\n",
    "    pass\n",
    "class C():\n",
    "    pass\n",
    "print(issubclass(B,A))"
   ]
  },
  {
   "cell_type": "code",
   "execution_count": 44,
   "metadata": {},
   "outputs": [
    {
     "name": "stdout",
     "output_type": "stream",
     "text": [
      "True\n"
     ]
    }
   ],
   "source": [
    "#isinstance\n",
    "class A():\n",
    "    pass\n",
    "a=A()\n",
    "print(isinstance(a,A))"
   ]
  },
  {
   "cell_type": "code",
   "execution_count": 46,
   "metadata": {},
   "outputs": [
    {
     "name": "stdout",
     "output_type": "stream",
     "text": [
      "True\n",
      "False\n"
     ]
    }
   ],
   "source": [
    "#hasattr 判断一个对象是够包含成员xxx\n",
    "class A():\n",
    "    name='None'\n",
    "    \n",
    "a=A()\n",
    "print(hasattr(a,'name'))\n",
    "print(hasattr(a,'age'))"
   ]
  },
  {
   "cell_type": "code",
   "execution_count": 52,
   "metadata": {},
   "outputs": [
    {
     "name": "stdout",
     "output_type": "stream",
     "text": [
      "xrr\n"
     ]
    }
   ],
   "source": [
    "#help案例\n",
    "#我想知道某个方法的具体用法\n",
    "#help(setattr)\n",
    "\n",
    "class A():\n",
    "    name=None\n",
    "a=A()\n",
    "setattr(a,'name','xrr')\n",
    "print(a.name)"
   ]
  },
  {
   "cell_type": "code",
   "execution_count": 57,
   "metadata": {},
   "outputs": [
    {
     "data": {
      "text/plain": [
       "['__class__',\n",
       " '__delattr__',\n",
       " '__dict__',\n",
       " '__dir__',\n",
       " '__doc__',\n",
       " '__eq__',\n",
       " '__format__',\n",
       " '__ge__',\n",
       " '__getattribute__',\n",
       " '__gt__',\n",
       " '__hash__',\n",
       " '__init__',\n",
       " '__init_subclass__',\n",
       " '__le__',\n",
       " '__lt__',\n",
       " '__module__',\n",
       " '__ne__',\n",
       " '__new__',\n",
       " '__reduce__',\n",
       " '__reduce_ex__',\n",
       " '__repr__',\n",
       " '__setattr__',\n",
       " '__sizeof__',\n",
       " '__str__',\n",
       " '__subclasshook__',\n",
       " '__weakref__',\n",
       " 'name']"
      ]
     },
     "execution_count": 57,
     "metadata": {},
     "output_type": "execute_result"
    }
   ],
   "source": [
    "class A():\n",
    "    name='xrr'\n",
    "    pass\n",
    "a=A()\n",
    "#help(dir)\n",
    "dir(a)"
   ]
  }
 ],
 "metadata": {
  "kernelspec": {
   "display_name": "Python 3",
   "language": "python",
   "name": "python3"
  },
  "language_info": {
   "codemirror_mode": {
    "name": "ipython",
    "version": 3
   },
   "file_extension": ".py",
   "mimetype": "text/x-python",
   "name": "python",
   "nbconvert_exporter": "python",
   "pygments_lexer": "ipython3",
   "version": "3.6.3"
  }
 },
 "nbformat": 4,
 "nbformat_minor": 2
}
