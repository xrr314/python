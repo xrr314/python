{
 "cells": [
  {
   "cell_type": "code",
   "execution_count": 5,
   "metadata": {},
   "outputs": [
    {
     "name": "stdout",
     "output_type": "stream",
     "text": [
      "[1, 2, 3, 4, 5, 6]\n",
      "[1, 2, 300, 4, 5, 6]\n",
      "[1, 2, 300, 4, 5, 6]\n",
      "9\n",
      "109\n",
      "9\n"
     ]
    }
   ],
   "source": [
    "#传值与传址？？？\n",
    "#对于简单的数值，直接采用传值操作\n",
    "#对于复杂的变量，采用传址操作\n",
    "an=[1,2,3,4,5,6]\n",
    "bn=9\n",
    "\n",
    "def a(n):\n",
    "    n[2]=300\n",
    "    print(n)\n",
    "\n",
    "def b(n):\n",
    "    n += 100\n",
    "    print(n)\n",
    "\n",
    "#传址\n",
    "print(an)\n",
    "a(an)\n",
    "print(an)\n",
    "\n",
    "#传值\n",
    "print(bn)\n",
    "b(bn)\n",
    "print(bn)"
   ]
  },
  {
   "cell_type": "markdown",
   "metadata": {},
   "source": [
    "# 关于列表的函数"
   ]
  },
  {
   "cell_type": "code",
   "execution_count": 7,
   "metadata": {},
   "outputs": [
    {
     "data": {
      "text/plain": [
       "['a', 'i love you', 45, 766, (5+4j)]"
      ]
     },
     "execution_count": 7,
     "metadata": {},
     "output_type": "execute_result"
    }
   ],
   "source": [
    "l=['a','i love you',45,766,5+4j]\n",
    "l"
   ]
  },
  {
   "cell_type": "code",
   "execution_count": 12,
   "metadata": {},
   "outputs": [
    {
     "name": "stdout",
     "output_type": "stream",
     "text": [
      "[1, 2, 3, 4, 100]\n"
     ]
    }
   ],
   "source": [
    "#append插入一个内容,在末尾追加\n",
    "a=[i  for i in range(1,5)]\n",
    "a.append(100)\n",
    "print(a)"
   ]
  },
  {
   "cell_type": "code",
   "execution_count": 13,
   "metadata": {},
   "outputs": [
    {
     "name": "stdout",
     "output_type": "stream",
     "text": [
      "[1, 2, 3, 4, 100]\n",
      "[1, 2, 10, 3, 4, 100]\n"
     ]
    }
   ],
   "source": [
    "#insert 指定位置插入\n",
    "print(a)\n",
    "a.insert(2,10)\n",
    "print(a)"
   ]
  },
  {
   "cell_type": "code",
   "execution_count": 16,
   "metadata": {},
   "outputs": [
    {
     "name": "stdout",
     "output_type": "stream",
     "text": [
      "[1, 2, 3, 4, 5, 6]\n",
      "6\n",
      "[1, 2, 3, 4, 5]\n"
     ]
    }
   ],
   "source": [
    "#删除\n",
    "#del，删除指定的下标的值\n",
    "#pop,从对位拿出一个元素，即把最后一个元素取出来\n",
    "a=[1,2,3,4,5,6]\n",
    "print(a)\n",
    "last_v=a.pop()\n",
    "print(last_v)\n",
    "print(a)"
   ]
  },
  {
   "cell_type": "code",
   "execution_count": 19,
   "metadata": {},
   "outputs": [
    {
     "name": "stdout",
     "output_type": "stream",
     "text": [
      "140221356855496\n",
      "[2, 3, 4, 5]\n",
      "140221356855496\n"
     ]
    }
   ],
   "source": [
    "#remove 在列表中删除指定的元素\n",
    "#最好需要先判断是否有这个元素if x in a: a.remove(x)\n",
    "a=[1,2,3,4,5]\n",
    "print(id(a))\n",
    "a.remove(1)\n",
    "print(a)\n",
    "print(id(a))"
   ]
  },
  {
   "cell_type": "code",
   "execution_count": 25,
   "metadata": {},
   "outputs": [
    {
     "name": "stdout",
     "output_type": "stream",
     "text": [
      "[1, 2, 3, 4, 5]\n",
      "140221357057736\n",
      "[]\n",
      "140221357057736\n",
      "[]\n",
      "140221357058184\n"
     ]
    }
   ],
   "source": [
    "#clear: 清空list内的数据清空\n",
    "b=[1,2,3,4,5]\n",
    "print(b)\n",
    "print(id(b))\n",
    "b.clear()\n",
    "print(b)\n",
    "print(id(b))\n",
    "\n",
    "#也可以这样，直接改变改变变量指向的地址b=list()/b=[]\n",
    "b=list()\n",
    "print(b)\n",
    "print(id(b))"
   ]
  },
  {
   "cell_type": "code",
   "execution_count": 29,
   "metadata": {},
   "outputs": [
    {
     "name": "stdout",
     "output_type": "stream",
     "text": [
      "[1, 2, 3, 4, 5]\n",
      "140221357057736\n",
      "[5, 4, 3, 2, 1]\n",
      "140221357057736\n"
     ]
    }
   ],
   "source": [
    "#reverse:翻转\n",
    "a=[1,2,3,4,5]\n",
    "print(a)\n",
    "print(id(a))\n",
    "a.reverse()\n",
    "print(a)\n",
    "print(id(a))"
   ]
  },
  {
   "cell_type": "code",
   "execution_count": 32,
   "metadata": {},
   "outputs": [
    {
     "name": "stdout",
     "output_type": "stream",
     "text": [
      "[1, 2, 3, 4, 5]\n",
      "140221357435144\n",
      "[1, 2, 3, 4, 5, 6, 7, 8, 9, 10]\n",
      "140221357435144\n"
     ]
    }
   ],
   "source": [
    "#extend:扩展列表，两个列表，把一个直接拼接到另一个后面\n",
    "a=[1,2,3,4,5]\n",
    "b=[6,7,8,9,10]\n",
    "print(a)\n",
    "print(id(a))\n",
    "\n",
    "a.extend(b)\n",
    "\n",
    "print(a)\n",
    "print(id(a))"
   ]
  },
  {
   "cell_type": "code",
   "execution_count": 39,
   "metadata": {},
   "outputs": [
    {
     "name": "stdout",
     "output_type": "stream",
     "text": [
      "0\n"
     ]
    }
   ],
   "source": [
    "#count:查找列表中的指定值或元素的个数\n",
    "a=[1,2,3,4,5,1,1]\n",
    "number_a=a.count(6)\n",
    "print(number_a)"
   ]
  },
  {
   "cell_type": "code",
   "execution_count": 51,
   "metadata": {},
   "outputs": [
    {
     "name": "stdout",
     "output_type": "stream",
     "text": [
      "140221355789320\n",
      "[1, 2, 3, 777, 5, 666]\n",
      "140221355789320\n",
      "[1, 2, 3, 777, 5, 666]\n",
      "140221355793160\n",
      "[1, 123, 3, 4, 5, 666]\n"
     ]
    }
   ],
   "source": [
    "#copy 拷贝，浅拷贝\n",
    "    #只拷贝一层内容\n",
    "#list是一个传址类型\n",
    "a=[1,2,3,4,5,666]\n",
    "b=a\n",
    "c=a.copy()\n",
    "b[3]=777\n",
    "c[1]=123\n",
    "print(id(a))\n",
    "print(a)\n",
    "print(id(b))\n",
    "print(b)\n",
    "print(id(c))\n",
    "print(c)"
   ]
  },
  {
   "cell_type": "code",
   "execution_count": 52,
   "metadata": {
    "scrolled": false
   },
   "outputs": [
    {
     "name": "stdout",
     "output_type": "stream",
     "text": [
      "140221355787400\n",
      "140221356195720\n",
      "----\n",
      "140221355862152\n",
      "140221355862152\n",
      "[1, 2, 3, [1, 2, 666]]\n",
      "[1, 2, 3, [1, 2, 666]]\n"
     ]
    }
   ],
   "source": [
    "#深拷贝跟浅拷贝的区别\n",
    "#出现下列问题的原因是：copy只是浅拷贝，只拷贝一层\n",
    "#深拷贝需要特定工具\n",
    "a0=[1,2,3]\n",
    "a=[1,2,3,[1,2,3]]\n",
    "b=a.copy()\n",
    "print(id(a))\n",
    "print(id(b))\n",
    "print('----')\n",
    "print(id(a[3]))\n",
    "print(id(b[3]))\n",
    "a[3][2]=666\n",
    "print(a)\n",
    "print(b)"
   ]
  },
  {
   "cell_type": "markdown",
   "metadata": {},
   "source": [
    "# 元组-tuple\n",
    "- 元组可以看成一个不可更改的list\n",
    "## 元组创建"
   ]
  },
  {
   "cell_type": "code",
   "execution_count": 63,
   "metadata": {},
   "outputs": [
    {
     "name": "stdout",
     "output_type": "stream",
     "text": [
      "<class 'tuple'>\n",
      "<class 'tuple'>\n",
      "(1,)\n",
      "<class 'int'>\n",
      "1\n",
      "<class 'tuple'>\n",
      "(1,)\n",
      "<class 'tuple'>\n",
      "(1, 2, 3, 4)\n",
      "--使用其他结构创建--\n",
      "<class 'tuple'>\n",
      "(1, 2, 3, 4, 5)\n"
     ]
    }
   ],
   "source": [
    "#创建空元组\n",
    "t=()\n",
    "print(type(t))\n",
    "\n",
    "#创建只有一个值的元组\n",
    "t=(1,)\n",
    "t1=(1)\n",
    "t2=1,\n",
    "print(type(t))\n",
    "print(t)\n",
    "print(type(t1))\n",
    "print(t1)\n",
    "print(type(t2))\n",
    "print(t2)\n",
    "\n",
    "\n",
    "#创建多个值的元组\n",
    "t=(1,2,3,4,)\n",
    "print(type(t))\n",
    "print(t)\n",
    "\n",
    "print('--使用其他结构创建--')\n",
    "#使用其他结构创建\n",
    "l=[1,2,3,4,5]\n",
    "t=tuple(l)\n",
    "print(type(t))\n",
    "print(t)"
   ]
  },
  {
   "cell_type": "markdown",
   "metadata": {},
   "source": [
    "## 元组的特性\n",
    "- 是序列表，有序\n",
    "- 元组数据值可以访问，不可修改\n",
    "    - 内容不可修改\n",
    "- 元组数据可以任意类型\n",
    "- 除了不能修改，同list有相同特性\n",
    "- 也就是，list具有的一些操作，比如索引，分片，序列相加，相乘。。。"
   ]
  },
  {
   "cell_type": "code",
   "execution_count": 70,
   "metadata": {},
   "outputs": [
    {
     "name": "stdout",
     "output_type": "stream",
     "text": [
      "5\n",
      "(1, 2, 3, 4, 5)\n",
      "(1, 3)\n"
     ]
    }
   ],
   "source": [
    "#索引\n",
    "t=(1,2,3,4,5)\n",
    "print(t[4])\n",
    "print(t)\n",
    "#分片\n",
    "t1=t[:3:2]\n",
    "print(t1)"
   ]
  },
  {
   "cell_type": "code",
   "execution_count": 76,
   "metadata": {},
   "outputs": [
    {
     "name": "stdout",
     "output_type": "stream",
     "text": [
      "140221355947856\n",
      "<class 'tuple'>\n",
      "140221356247560\n",
      "(1, 2, 3, 4, 5, 6)\n"
     ]
    }
   ],
   "source": [
    "#序列相加\n",
    "t1=(1,2,3)\n",
    "t2=(4,5,6)\n",
    "print(id(t1))\n",
    "\n",
    "#此处进行了传址操作\n",
    "t1=t1+t2\n",
    "print(type(t1))\n",
    "print(id(t1))\n",
    "print(t1)"
   ]
  },
  {
   "cell_type": "code",
   "execution_count": 78,
   "metadata": {},
   "outputs": [
    {
     "name": "stdout",
     "output_type": "stream",
     "text": [
      "[1, 2, 3, 1, 2, 3, 1, 2, 3]\n"
     ]
    }
   ],
   "source": [
    "#元组相乘\n",
    "t=[1,2,3]\n",
    "t*=3\n",
    "print(t)"
   ]
  },
  {
   "cell_type": "code",
   "execution_count": 83,
   "metadata": {},
   "outputs": [
    {
     "name": "stdout",
     "output_type": "stream",
     "text": [
      "yes\n"
     ]
    }
   ],
   "source": [
    "#成员检测\n",
    "t=[1,2,3]\n",
    "if 2 in t:\n",
    "    print('yes')\n",
    "else:\n",
    "    print('打扰了')"
   ]
  },
  {
   "cell_type": "code",
   "execution_count": 91,
   "metadata": {},
   "outputs": [
    {
     "name": "stdout",
     "output_type": "stream",
     "text": [
      "1 2 3 en? hh~ \n",
      "1 -- 2 -- 3\n",
      "4 -- 5 -- 6\n",
      "7 -- 8 -- 9\n"
     ]
    }
   ],
   "source": [
    "#元组遍历\n",
    "#单层元组遍历\n",
    "t=(1,2,3,'en?','hh~')\n",
    "for i in t:\n",
    "    print(i,end=' ')\n",
    "print('')\n",
    "#双层元组的遍历\n",
    "t=((1,2,3),(4,5,6),(7,8,9))\n",
    "for k,v,w in t:\n",
    "    print(k,'--',v,'--',w)"
   ]
  }
 ],
 "metadata": {
  "kernelspec": {
   "display_name": "Python 3",
   "language": "python",
   "name": "python3"
  },
  "language_info": {
   "codemirror_mode": {
    "name": "ipython",
    "version": 3
   },
   "file_extension": ".py",
   "mimetype": "text/x-python",
   "name": "python",
   "nbconvert_exporter": "python",
   "pygments_lexer": "ipython3",
   "version": "3.6.3"
  }
 },
 "nbformat": 4,
 "nbformat_minor": 2
}
