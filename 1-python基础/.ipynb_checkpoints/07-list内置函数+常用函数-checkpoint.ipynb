{
 "cells": [
  {
   "cell_type": "markdown",
   "metadata": {},
   "source": [
    "# 汉诺塔问题\n",
    "- 输出盘子的移动方式\n",
    "- 规则\n",
    "    - 总共三个塔（a,b,c），将a塔上的n个盘子移动到c上去\n",
    "    - 每次移动一个盘子\n",
    "    - 任何一次移动，三个塔的状态必须小在上，大在下"
   ]
  },
  {
   "cell_type": "code",
   "execution_count": 21,
   "metadata": {},
   "outputs": [
    {
     "name": "stdout",
     "output_type": "stream",
     "text": [
      "A --> B\n",
      "A --> C\n",
      "B --> C\n",
      "A --> B\n",
      "C --> A\n",
      "C --> B\n",
      "A --> B\n",
      "A --> C\n",
      "B --> C\n",
      "B --> A\n",
      "C --> A\n",
      "B --> C\n",
      "A --> B\n",
      "A --> C\n",
      "B --> C\n"
     ]
    }
   ],
   "source": [
    "#参数含义，n总共的盘子数，a原来盘子的位置，b借助移动的盘子，c目标盘子\n",
    "def f(n,a,b,c):\n",
    "    if n == 1 :\n",
    "        print(a,'-->',c)\n",
    "        return None\n",
    "    elif n==2 :\n",
    "        print(a,'-->',b)\n",
    "        print(a,'-->',c)\n",
    "        print(b,'-->',c)\n",
    "        return None\n",
    "    else:\n",
    "        #把a上n-1个盘子移动到b上\n",
    "        f(n-1,a,c,b)\n",
    "        #把a上原来最大的盘子放到c上\n",
    "        print(a,'-->',c)\n",
    "        #把b上的盘子放到c上\n",
    "        f(n-1,b,a,c)\n",
    "f(4,'A','B','C')"
   ]
  },
  {
   "cell_type": "markdown",
   "metadata": {},
   "source": [
    "# List（列表）\n",
    "- del：删除"
   ]
  },
  {
   "cell_type": "code",
   "execution_count": 24,
   "metadata": {},
   "outputs": [
    {
     "name": "stdout",
     "output_type": "stream",
     "text": [
      "139858569834760\n",
      "[1, 3, 4, 5, 6, 7, 8]\n",
      "139858569834760\n"
     ]
    }
   ],
   "source": [
    "#del删除\n",
    "a=[1,2,3,4,5,6,7,8]\n",
    "print(id(a))\n",
    "del a[1]\n",
    "print(a)\n",
    "print(id(a))\n",
    "del a"
   ]
  },
  {
   "cell_type": "markdown",
   "metadata": {},
   "source": [
    "### 列表相加\n",
    "- 使用加号链接两个列表"
   ]
  },
  {
   "cell_type": "code",
   "execution_count": 26,
   "metadata": {},
   "outputs": [
    {
     "name": "stdout",
     "output_type": "stream",
     "text": [
      "[1, 2, 3, 4, 5, 5, 6, 7, 8, 9, 'a', 'b', 'c']\n"
     ]
    }
   ],
   "source": [
    "a = [1,2,3,4,5]\n",
    "b = [5,6,7,8,9]\n",
    "c = ['a','b','c']\n",
    "d = a + b + c\n",
    "print(d)"
   ]
  },
  {
   "cell_type": "markdown",
   "metadata": {},
   "source": [
    "### 列表相乘"
   ]
  },
  {
   "cell_type": "code",
   "execution_count": 28,
   "metadata": {},
   "outputs": [
    {
     "name": "stdout",
     "output_type": "stream",
     "text": [
      "[1, 2, 3, 4, 5, 1, 2, 3, 4, 5]\n"
     ]
    }
   ],
   "source": [
    "#列表相乘\n",
    "#列表直接和一个整数相乘\n",
    "#相当于把n个列表接在一起\n",
    "a=[1,2,3,4,5]\n",
    "b=a*2\n",
    "print(b)"
   ]
  },
  {
   "cell_type": "markdown",
   "metadata": {},
   "source": [
    "### 成员资格运算\n",
    "- 判断一个元素是否在list中"
   ]
  },
  {
   "cell_type": "code",
   "execution_count": 33,
   "metadata": {},
   "outputs": [
    {
     "name": "stdout",
     "output_type": "stream",
     "text": [
      "False\n",
      "True\n"
     ]
    }
   ],
   "source": [
    "a = [1,2,3,4,5]\n",
    "b = 8\n",
    "c = b in a\n",
    "print(c)\n",
    "d = b not in a\n",
    "print(d)"
   ]
  },
  {
   "cell_type": "markdown",
   "metadata": {},
   "source": [
    "# 链表的遍历\n",
    "- for\n",
    "    - 在in后面的所有元素，要是可迭代的\n",
    "- while\n",
    "    - 不推荐使用"
   ]
  },
  {
   "cell_type": "code",
   "execution_count": 36,
   "metadata": {},
   "outputs": [
    {
     "name": "stdout",
     "output_type": "stream",
     "text": [
      "1\n",
      "2\n",
      "3\n",
      "4\n",
      "5\n"
     ]
    }
   ],
   "source": [
    "#for\n",
    "a=[1,2,3,4,5]\n",
    "for i in a:\n",
    "    print(i)"
   ]
  },
  {
   "cell_type": "code",
   "execution_count": 38,
   "metadata": {},
   "outputs": [
    {
     "name": "stdout",
     "output_type": "stream",
     "text": [
      "xrr is male\n"
     ]
    }
   ],
   "source": [
    "#问题残留：如何一次打印出每一个字母\n",
    "b=['xrr is male']\n",
    "for i in b:\n",
    "    print(i)"
   ]
  },
  {
   "cell_type": "code",
   "execution_count": 1,
   "metadata": {},
   "outputs": [
    {
     "name": "stdout",
     "output_type": "stream",
     "text": [
      "1\n",
      "2\n",
      "3\n",
      "4\n",
      "5\n",
      "6\n"
     ]
    }
   ],
   "source": [
    "# while访问list\n",
    "#一般不用while\n",
    "a=[1,2,3,4,5,6]\n",
    "length=len(a)\n",
    "i=0\n",
    "while(i<length):\n",
    "    print(a[i])\n",
    "    i+=1"
   ]
  },
  {
   "cell_type": "code",
   "execution_count": 9,
   "metadata": {},
   "outputs": [
    {
     "name": "stdout",
     "output_type": "stream",
     "text": [
      "one -- 1\n",
      "two -- 2\n",
      "three -- 3\n"
     ]
    }
   ],
   "source": [
    "#双层列表循环\n",
    "a=[['one',1],['two',2],['three',3]]\n",
    "for k,v in a:\n",
    "    print(k,'--',v)"
   ]
  },
  {
   "cell_type": "code",
   "execution_count": 11,
   "metadata": {},
   "outputs": [
    {
     "name": "stdout",
     "output_type": "stream",
     "text": [
      "one -- 1 -- 1\n",
      "two -- 2 -- 2\n",
      "three -- 3 -- 3\n"
     ]
    }
   ],
   "source": [
    "#双层列表循环2\n",
    "a=[['one',1,'1'],['two',2,'2'],['three',3,'3']]\n",
    "for k,v,w in a:\n",
    "    print(k,'--',v,'--',w)"
   ]
  },
  {
   "cell_type": "markdown",
   "metadata": {},
   "source": [
    "# 列表内涵\n",
    "- 通过简单的方法创作列表"
   ]
  },
  {
   "cell_type": "code",
   "execution_count": 19,
   "metadata": {
    "scrolled": true
   },
   "outputs": [
    {
     "name": "stdout",
     "output_type": "stream",
     "text": [
      "['a', 'b', 'c']\n",
      "['aa', 'bb', 'cc']\n",
      "[2, 4, 6]\n",
      "[1, 2, 3, 4, 5, 6, 7, 8, 9]\n",
      "[2, 4, 6, 8]\n"
     ]
    }
   ],
   "source": [
    "#for创建\n",
    "a=['a','b','c']\n",
    "a1=[1,2,3]\n",
    "\n",
    "#用list a创建一个list b\n",
    "b = [i for i in a]\n",
    "print(b)\n",
    "\n",
    "#对a中元素进行操作后放入c中\n",
    "c = [i*2 for i in a]\n",
    "c1 = [i*2 for i in a1]\n",
    "print(c)\n",
    "print(c1)\n",
    "\n",
    "#还能够有过滤原list中的内容\n",
    "a=[i  for i in range(1,10)]\n",
    "print(a)\n",
    "b=[m for m in a if m%2==0]\n",
    "print(b)"
   ]
  },
  {
   "cell_type": "code",
   "execution_count": 26,
   "metadata": {},
   "outputs": [
    {
     "name": "stdout",
     "output_type": "stream",
     "text": [
      "[1, 2, 3]\n",
      "[100, 200, 300]\n",
      "[101, 201, 102, 202, 103, 203]\n"
     ]
    }
   ],
   "source": [
    "#列表生成式嵌套\n",
    "#由2个列表a、b\n",
    "a=[i for i in range(1,4)]\n",
    "print(a)\n",
    "b=[i for i in range(100,400) if i%100==0]\n",
    "print(b)\n",
    "#列表生成可以嵌套\n",
    "c=[m+n for m in a for n in b if m+n<300]\n",
    "print(c)"
   ]
  },
  {
   "cell_type": "markdown",
   "metadata": {},
   "source": [
    "# 列表的常用函数"
   ]
  },
  {
   "cell_type": "code",
   "execution_count": 34,
   "metadata": {},
   "outputs": [
    {
     "name": "stdout",
     "output_type": "stream",
     "text": [
      "99\n",
      "99\n",
      "python\n",
      "[1, 2, 3, 4]\n",
      "['i', ' ', 'l', 'o', 'v', 'e', ' ', 'y', 'o', 'u']\n",
      "[10, 11, 12, 13, 14]\n"
     ]
    }
   ],
   "source": [
    "#len:求列表长度\n",
    "a=[x for x in range(1,100)]\n",
    "print(len(a))\n",
    "\n",
    "#max:求列表的最大值\n",
    "#min:同理\n",
    "print(max(a))\n",
    "b=['man','python','film']\n",
    "print(max(b))\n",
    "\n",
    "#list：将其他格式的数据准换成list\n",
    "a=[1,2,3,4]\n",
    "print(list(a))\n",
    "#将str类型的数据拆分\n",
    "s='i love you'\n",
    "print(list(s))\n",
    "#将range类型转换成list\n",
    "print(list(range(10,15)))"
   ]
  }
 ],
 "metadata": {
  "kernelspec": {
   "display_name": "Python 3",
   "language": "python",
   "name": "python3"
  },
  "language_info": {
   "codemirror_mode": {
    "name": "ipython",
    "version": 3
   },
   "file_extension": ".py",
   "mimetype": "text/x-python",
   "name": "python",
   "nbconvert_exporter": "python",
   "pygments_lexer": "ipython3",
   "version": "3.6.3"
  }
 },
 "nbformat": 4,
 "nbformat_minor": 2
}
