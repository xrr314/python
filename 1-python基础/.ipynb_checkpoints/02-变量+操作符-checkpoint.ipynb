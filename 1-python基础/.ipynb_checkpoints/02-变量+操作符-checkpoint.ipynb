{
 "cells": [
  {
   "cell_type": "markdown",
   "metadata": {},
   "source": [
    "# 字符串\n",
    "- 转义字符\n",
    "- 格式化\n",
    "- 内建函数（后延）\n",
    "\n",
    "## 转义字符\n",
    " - 用一个特殊的方法表示出一系列不方便写出的内容，如：回车，换行，退格键\n",
    " - 借助反斜杠字符，一旦字符串出现反斜杠后面的一个/几个字符表示已经不是原来的意思了，进行转义\n",
    " - 在字符串中，一旦出现反斜杠加倍小心\n",
    " - 不同系统对换行操作有不同的理解\n",
    "     - windows: \\n\n",
    "     - linux: \\r\\n"
   ]
  },
  {
   "cell_type": "code",
   "execution_count": 2,
   "metadata": {},
   "outputs": [
    {
     "name": "stdout",
     "output_type": "stream",
     "text": [
      "wo xihuan ni \n"
     ]
    }
   ],
   "source": [
    "s=\"wo xihuan ni \"\n",
    "print(s)"
   ]
  },
  {
   "cell_type": "code",
   "execution_count": 9,
   "metadata": {},
   "outputs": [
    {
     "name": "stdout",
     "output_type": "stream",
     "text": [
      "let’s go\n",
      "let's go\n",
      "c:\\user\n",
      "i love \r\n",
      " you\n"
     ]
    }
   ],
   "source": [
    "#如何打出Let's go来\n",
    "#1、使用嵌套引号\n",
    "#2、转义字符\n",
    "s=\"let’s go\"\n",
    "print(s)\n",
    "\n",
    "ss='let\\'s go'\n",
    "print(ss)\n",
    "\n",
    "#\\\\=\\\n",
    "sss='c:\\\\user'\n",
    "print(sss)\n",
    "\n",
    "#回车换行符\\r\\n\n",
    "s1='i love \\r\\n you'\n",
    "print(s1)"
   ]
  },
  {
   "cell_type": "markdown",
   "metadata": {},
   "source": [
    "## 字符串的格式化\n",
    "- 吧字符串按一定格式打印/填充\n",
    "- 格式化有2中方式\n",
    "    - 利用百分号（%）\n",
    "    - 利用format函数"
   ]
  },
  {
   "cell_type": "code",
   "execution_count": 10,
   "metadata": {
    "collapsed": true
   },
   "outputs": [],
   "source": [
    "s=\"xxx您好，我喜欢你\""
   ]
  },
  {
   "cell_type": "markdown",
   "metadata": {},
   "source": [
    "### 利用百分号格式化\n",
    "- 在字符串中，利用%表示一个特殊的含义，表示对字符进行格式化\n",
    "- %d:此处应该放入一个整数\n",
    "- %s表示此处应该放入一个字符串"
   ]
  },
  {
   "cell_type": "code",
   "execution_count": 15,
   "metadata": {},
   "outputs": [
    {
     "name": "stdout",
     "output_type": "stream",
     "text": [
      "i love %s\n",
      "i love you\n",
      "i love you\n"
     ]
    }
   ],
   "source": [
    "s='i love %s'\n",
    "print(s)\n",
    "\n",
    "print('i love %s' %'you')\n",
    "\n",
    "print(s%'you')"
   ]
  },
  {
   "cell_type": "code",
   "execution_count": 17,
   "metadata": {},
   "outputs": [
    {
     "name": "stdout",
     "output_type": "stream",
     "text": [
      "I am 123 years old\n"
     ]
    }
   ],
   "source": [
    "s='I am %d years old'\n",
    "print(s%123)"
   ]
  },
  {
   "cell_type": "code",
   "execution_count": 23,
   "metadata": {},
   "outputs": [
    {
     "name": "stdout",
     "output_type": "stream",
     "text": [
      "i am xrr,i am 12 years old\n"
     ]
    }
   ],
   "source": [
    "s='i am %s,i am %d years old'\n",
    "print(s%('xrr',12))"
   ]
  },
  {
   "cell_type": "markdown",
   "metadata": {},
   "source": [
    "### format函数进行格式化\n",
    "- 直接用format函数进行格式化\n",
    "- 推荐使用\n",
    "- 在使用上以{}和：来代替%，后面用format带参数完成"
   ]
  },
  {
   "cell_type": "code",
   "execution_count": 28,
   "metadata": {},
   "outputs": [
    {
     "name": "stdout",
     "output_type": "stream",
     "text": [
      "i love you\n",
      "yes,i am 13 years old,i love you and i am 13 years old\n"
     ]
    }
   ],
   "source": [
    "s='i love {}'.format('you')\n",
    "print(s)\n",
    "\n",
    "ss='yes,i am {1} years old,i love {0} and i am {1} years old'.format('you',13)\n",
    "print(ss)"
   ]
  },
  {
   "cell_type": "markdown",
   "metadata": {},
   "source": [
    "## None\n",
    "- 表示什么都没有\n",
    "- 如果函数没有返回值，可以返回None\n",
    "- 用来占位置\n",
    "- 用来接触变量的绑定"
   ]
  },
  {
   "cell_type": "markdown",
   "metadata": {},
   "source": [
    "# 表达式\n",
    "- 由一个/几个数字/者变量和运算符组成的一行代码\n",
    "- 通常有一个返回结果\n",
    "# 运算符\n",
    "- 由一个以上的值经过变化得到新值的过程叫做运算\n",
    "- 用于运算的符号就做运算符\n",
    "- 运算符的分类\n",
    "    - 算数运算符\n",
    "    - 比较/关系运算符\n",
    "    - 赋值运算符\n",
    "    - 逻辑运算符\n",
    "    - 位运算\n",
    "    - 成员运算\n",
    "    - 身份运算符"
   ]
  },
  {
   "cell_type": "markdown",
   "metadata": {},
   "source": [
    "## 算数运算符\n",
    "- 进行算数运算的符号\n",
    "- python没有自增减运算符"
   ]
  },
  {
   "cell_type": "code",
   "execution_count": 1,
   "metadata": {},
   "outputs": [
    {
     "name": "stdout",
     "output_type": "stream",
     "text": [
      "5.0\n",
      "1\n",
      "4\n",
      "16\n"
     ]
    }
   ],
   "source": [
    "# +-*/ 跟正常算术运算符一致\n",
    "a=9+3-5*7/5\n",
    "print(a)\n",
    "\n",
    "# %求余运算\n",
    "b=9%4\n",
    "print(b)\n",
    "\n",
    "#取整\n",
    "c=9//2\n",
    "print(c)\n",
    "\n",
    "#幂运算\n",
    "d=2**4\n",
    "print(d)"
   ]
  },
  {
   "cell_type": "markdown",
   "metadata": {},
   "source": [
    "## 比较运算符\n",
    "- 对两个变量或者值进行比较的运算符\n",
    "- 比较结果是一个布尔值"
   ]
  },
  {
   "cell_type": "code",
   "execution_count": 7,
   "metadata": {},
   "outputs": [
    {
     "name": "stdout",
     "output_type": "stream",
     "text": [
      "False\n",
      "False\n",
      "True\n"
     ]
    }
   ],
   "source": [
    "# ==\n",
    "print(1==2)\n",
    "\n",
    "a=3**4\n",
    "b= a == 80\n",
    "print(b)\n",
    "\n",
    "# !=\n",
    "print(9!=8)\n",
    "\n",
    "# >、>=、<、<="
   ]
  },
  {
   "cell_type": "markdown",
   "metadata": {},
   "source": [
    "## 赋值运算符"
   ]
  },
  {
   "cell_type": "code",
   "execution_count": 9,
   "metadata": {},
   "outputs": [
    {
     "name": "stdout",
     "output_type": "stream",
     "text": [
      "7\n"
     ]
    }
   ],
   "source": [
    "# =\n",
    "# +=\n",
    "a=0\n",
    "a+=7\n",
    "print(a)\n",
    "\n",
    "#所有的数学运算符都有这种形式"
   ]
  },
  {
   "cell_type": "markdown",
   "metadata": {},
   "source": [
    "# 逻辑运算符\n",
    "- 对布尔值进行计算的符号\n",
    "- and逻辑与\n",
    "- or逻辑或\n",
    "- not逻辑非\n",
    "- python中没有异或运算"
   ]
  },
  {
   "cell_type": "code",
   "execution_count": 12,
   "metadata": {},
   "outputs": [
    {
     "name": "stdout",
     "output_type": "stream",
     "text": [
      "False\n",
      "True\n",
      "False\n"
     ]
    }
   ],
   "source": [
    "a=True\n",
    "b=False\n",
    "print(a and b)\n",
    "print(a or b)\n",
    "print(not a)"
   ]
  },
  {
   "cell_type": "markdown",
   "metadata": {},
   "source": [
    "# 成员运算符\n",
    "- 用来检测某一个变量是否是另一个变量的成员\n",
    "- in\n",
    "- not in"
   ]
  },
  {
   "cell_type": "code",
   "execution_count": 16,
   "metadata": {},
   "outputs": [
    {
     "name": "stdout",
     "output_type": "stream",
     "text": [
      "False\n",
      "True\n"
     ]
    }
   ],
   "source": [
    "#案例\n",
    "l=[1,2,3,4,5,6]\n",
    "a=7\n",
    "print(a in l)\n",
    "print(a not in l)"
   ]
  },
  {
   "cell_type": "markdown",
   "metadata": {},
   "source": [
    "## 身份运算\n",
    "- is用来检测两个变量是否同一个变量\n",
    "    - 语法就是var1 is var2\n",
    "- is not两个变量不是一个变量"
   ]
  },
  {
   "cell_type": "code",
   "execution_count": 17,
   "metadata": {},
   "outputs": [
    {
     "name": "stdout",
     "output_type": "stream",
     "text": [
      "True\n"
     ]
    }
   ],
   "source": [
    "a=9\n",
    "b=9\n",
    "print(a is b)"
   ]
  }
 ],
 "metadata": {
  "kernelspec": {
   "display_name": "Python 3",
   "language": "python",
   "name": "python3"
  },
  "language_info": {
   "codemirror_mode": {
    "name": "ipython",
    "version": 3
   },
   "file_extension": ".py",
   "mimetype": "text/x-python",
   "name": "python",
   "nbconvert_exporter": "python",
   "pygments_lexer": "ipython3",
   "version": "3.6.3"
  }
 },
 "nbformat": 4,
 "nbformat_minor": 2
}
