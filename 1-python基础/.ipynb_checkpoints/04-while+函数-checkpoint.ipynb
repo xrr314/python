{
 "cells": [
  {
   "cell_type": "markdown",
   "metadata": {},
   "source": [
    "# while循环\n",
    "- 一个循环语句\n",
    "- 表示当某条件成立的时候，就循环\n",
    "- 不知道具体的循环次数，当能够确定循环的条件\n",
    "- while语法\n",
    "    - else在循环结束执行一次\n",
    "    \n",
    "            while 条件表达式 ：\n",
    "                语句块\n",
    "            #另一种方式\n",
    "            while 条件表达式：\n",
    "                语句块\n",
    "            else:\n",
    "                语句块"
   ]
  },
  {
   "cell_type": "code",
   "execution_count": 15,
   "metadata": {},
   "outputs": [
    {
     "name": "stdout",
     "output_type": "stream",
     "text": [
      "第1年总共有10670.0块钱\n",
      "第2年总共有11384.89块钱\n",
      "第3年总共有12147.677629999998块钱\n",
      "第4年总共有12961.572031209998块钱\n",
      "第5年总共有13829.997357301068块钱\n",
      "第6年总共有14756.607180240238块钱\n",
      "第7年总共有15745.299861316334块钱\n",
      "第8年总共有16800.23495202453块钱\n",
      "第9年总共有17925.85069381017块钱\n",
      "第10年总共有19126.88269029545块钱\n",
      "第11年总共有20408.383830545245块钱\n",
      "完成目标！！！\n"
     ]
    }
   ],
   "source": [
    "# 如果说年利率是6.7%，本利是每年翻滚，则多少年后本钱翻倍\n",
    "benjin=10000\n",
    "i=0\n",
    "while benjin<20000 :\n",
    "    benjin *=1.067\n",
    "    i+=1\n",
    "    print('第{0}年总共有{1}块钱'.format(i,benjin))\n",
    "else:\n",
    "    print('完成目标！！！')"
   ]
  },
  {
   "cell_type": "markdown",
   "metadata": {},
   "source": [
    "# 函数\n",
    "- 代码的一种组织形式\n",
    "- 一个函数一般完成一项特定的功能\n",
    "- 函数使用\n",
    "    - 函数需要先定义\n",
    "    - 使用函数，俗称调用"
   ]
  },
  {
   "cell_type": "code",
   "execution_count": 23,
   "metadata": {},
   "outputs": [
    {
     "name": "stdout",
     "output_type": "stream",
     "text": [
      "3\n",
      "4\n",
      "我是一个函数\n",
      "我要完成一个功能\n",
      "我结束了\n"
     ]
    }
   ],
   "source": [
    "#定义一个函数\n",
    "#函数名，自己定义，起名要遵循命名规则\n",
    "#后面的括号和冒号不能省，括号类可有有参数\n",
    "def func():\n",
    "    print('我是一个函数')\n",
    "    print('我要完成一个功能')\n",
    "    print('我结束了')\n",
    "\n",
    "for i in range(3,5):\n",
    "    print(i)\n",
    "    if(i==4):\n",
    "        func()      "
   ]
  },
  {
   "cell_type": "markdown",
   "metadata": {},
   "source": [
    "## 函数的参数和返回值\n",
    "- 参数：负责给函数传递一些必要的数据或者信息\n",
    "- 返回值：函数的执行结果\n",
    "    - 使用return关键词\n",
    "    - 如果没有return，系统默认返回一个None\n",
    "    - 函数一执行return，则无条件返回"
   ]
  },
  {
   "cell_type": "code",
   "execution_count": 29,
   "metadata": {},
   "outputs": [
    {
     "name": "stdout",
     "output_type": "stream",
     "text": [
      "rr,你肿么了\n",
      "sir,你不说话我走了\n",
      "我已经和rr打过招呼了，rr没有理我\n"
     ]
    }
   ],
   "source": [
    "def hello(person):\n",
    "    print('{0},你肿么了'.format(person))\n",
    "    print('sir,你不说话我走了')\n",
    "    \n",
    "    return '我已经和{0}打过招呼了，{1}没有理我'.format(person,person)\n",
    "res=hello('rr')\n",
    "print(res)"
   ]
  },
  {
   "cell_type": "code",
   "execution_count": 36,
   "metadata": {},
   "outputs": [
    {
     "name": "stdout",
     "output_type": "stream",
     "text": [
      "111\n",
      "aaa\n"
     ]
    }
   ],
   "source": [
    "#return例子:return无条件返回，函数下面的内容不会执行了\n",
    "def hello():\n",
    "    print('111')\n",
    "    return 'aaa'\n",
    "    print('222')\n",
    "    return('bbb')\n",
    "print(hello())"
   ]
  },
  {
   "cell_type": "code",
   "execution_count": 37,
   "metadata": {},
   "outputs": [
    {
     "name": "stdout",
     "output_type": "stream",
     "text": [
      "Help on built-in function print in module builtins:\n",
      "\n",
      "print(...)\n",
      "    print(value, ..., sep=' ', end='\\n', file=sys.stdout, flush=False)\n",
      "    \n",
      "    Prints the values to a stream, or to sys.stdout by default.\n",
      "    Optional keyword arguments:\n",
      "    file:  a file-like object (stream); defaults to the current sys.stdout.\n",
      "    sep:   string inserted between values, default a space.\n",
      "    end:   string appended after the last value, default a newline.\n",
      "    flush: whether to forcibly flush the stream.\n",
      "\n"
     ]
    }
   ],
   "source": [
    "#查询函数帮助文档\n",
    "#1、用help函数\n",
    "help(print)"
   ]
  },
  {
   "cell_type": "code",
   "execution_count": 44,
   "metadata": {},
   "outputs": [
    {
     "name": "stdout",
     "output_type": "stream",
     "text": [
      "1 \n",
      "2 4 \n",
      "3 6 9 \n",
      "4 8 12 16 \n",
      "5 10 15 20 25 \n",
      "6 12 18 24 30 36 \n",
      "7 14 21 28 35 42 49 \n",
      "8 16 24 32 40 48 56 64 \n",
      "9 18 27 36 45 54 63 72 81 \n"
     ]
    }
   ],
   "source": [
    "#99乘法表 v1\n",
    "for i in range(1,10):\n",
    "    for j in range(1,i+1):\n",
    "        #print执行完后自动换行,需要定义print函数中的一些参数\n",
    "        print(i*j,end=' ')\n",
    "    print()"
   ]
  },
  {
   "cell_type": "code",
   "execution_count": 50,
   "metadata": {},
   "outputs": [
    {
     "name": "stdout",
     "output_type": "stream",
     "text": [
      "1 \n",
      "2 4 \n",
      "3 6 9 \n",
      "4 8 12 16 \n",
      "5 10 15 20 25 \n",
      "6 12 18 24 30 36 \n",
      "7 14 21 28 35 42 49 \n",
      "8 16 24 32 40 48 56 64 \n",
      "9 18 27 36 45 54 63 72 81 \n"
     ]
    }
   ],
   "source": [
    "#99乘法 v2 使用函数\n",
    "def printLine(row):\n",
    "        for col in range(1,row+1):\n",
    "            #print执行完后自动换行,需要定义print函数中的一些参数\n",
    "            print(row*col,end=' ')\n",
    "        print()\n",
    "for row in range(1,10):\n",
    "    printLine(row)\n"
   ]
  },
  {
   "cell_type": "markdown",
   "metadata": {},
   "source": [
    "## 参数详解\n",
    "- [参考资料]https://www.cnblogs.com/bingabcd/p/6671368.html\n",
    "- 参数分类：\n",
    "    - 普通参数\n",
    "    - 默认参数\n",
    "    - 关键词参数\n",
    "    - 收集参数"
   ]
  },
  {
   "cell_type": "markdown",
   "metadata": {},
   "source": [
    "### 普通参数\n",
    "- c参见上例\n",
    "- 定义的时候直接定义变量名\n",
    "- 调用的时候直接吧变量或者值放入指定位置\n",
    "\n",
    "        def 函数（参数1，参数2）：\n",
    "            函数体\n",
    "### 默认参数\n",
    "- 形参带有默认值，如果调用的时候没有对其赋值，则调用默认值\n",
    "           \n",
    "        def 函数名（p1=v1,p2=v2,...）:\n",
    "            函数体"
   ]
  },
  {
   "cell_type": "code",
   "execution_count": 57,
   "metadata": {},
   "outputs": [
    {
     "name": "stdout",
     "output_type": "stream",
     "text": [
      "xrr,年龄18，性别男\n",
      "wsh,年龄18，性别女\n"
     ]
    }
   ],
   "source": [
    "#默认参数示例\n",
    "def func(name,age,sex='男'):\n",
    "    print('{0},年龄{1}，性别{2}'.format(name,age,sex))\n",
    "func('xrr',18)\n",
    "func('wsh',18,'女')"
   ]
  }
 ],
 "metadata": {
  "kernelspec": {
   "display_name": "Python 3",
   "language": "python",
   "name": "python3"
  },
  "language_info": {
   "codemirror_mode": {
    "name": "ipython",
    "version": 3
   },
   "file_extension": ".py",
   "mimetype": "text/x-python",
   "name": "python",
   "nbconvert_exporter": "python",
   "pygments_lexer": "ipython3",
   "version": "3.6.3"
  }
 },
 "nbformat": 4,
 "nbformat_minor": 2
}
