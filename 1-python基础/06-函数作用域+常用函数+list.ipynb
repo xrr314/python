{
 "cells": [
  {
   "cell_type": "markdown",
   "metadata": {},
   "source": [
    "# 变量作用域\n",
    "- 变量作用范围限制\n",
    "- 分类：按照作用域分类\n",
    "    - 全局（global):在函数外部定义\n",
    "    - 局部（local）:在函数内定义\n",
    "- 变量的作用范围：\n",
    "    - 全局变量：在整个全局范围都有效\n",
    "    - 全局变量可以在局部使用\n",
    "    - 局部变量在局部范围可以使用\n",
    "    - 局部变量在全局无法使用\n",
    "- LEGB原则\n",
    "    - L(local)局部作用域\n",
    "    - E(enclosing function locale)外部嵌套函数作用域\n",
    "    - G(global module)函数定义所在模块作用域\n",
    "    - B(buildin)Python内置模块作用域"
   ]
  },
  {
   "cell_type": "code",
   "execution_count": 5,
   "metadata": {},
   "outputs": [
    {
     "name": "stdout",
     "output_type": "stream",
     "text": [
      "100\n",
      "100\n",
      "99\n"
     ]
    }
   ],
   "source": [
    "a1=100\n",
    "def func():\n",
    "    print(a1)\n",
    "    a2=99\n",
    "    print(a2)\n",
    "    \n",
    "print(a1)\n",
    "func()"
   ]
  },
  {
   "cell_type": "markdown",
   "metadata": {},
   "source": [
    "## 提升局部变量为全部变量\n",
    "- 使用global"
   ]
  },
  {
   "cell_type": "code",
   "execution_count": 16,
   "metadata": {},
   "outputs": [
    {
     "name": "stdout",
     "output_type": "stream",
     "text": [
      "100\n",
      "99\n",
      "100\n"
     ]
    }
   ],
   "source": [
    "def fun():\n",
    "    global b1 \n",
    "    b1 = 100\n",
    "    print(b1)\n",
    "    b2=99\n",
    "    print(b2)\n",
    "    \n",
    "\n",
    "#需要函数先执行过之后，b1才能提升为全局变量\n",
    "#且定义和赋值要分开\n",
    "fun()    \n",
    "print(b1)\n",
    "#print(b2)"
   ]
  },
  {
   "cell_type": "markdown",
   "metadata": {},
   "source": [
    "# globals,locals函数\n",
    "- 通过globals和locals显示全局变量和出局部变量"
   ]
  },
  {
   "cell_type": "code",
   "execution_count": 21,
   "metadata": {},
   "outputs": [
    {
     "name": "stdout",
     "output_type": "stream",
     "text": [
      "locals={'e': 111, 'd': 200, 'c': 100}\n",
      "globals={'__name__': '__main__', '__doc__': 'Automatically created module for IPython interactive environment', '__package__': None, '__loader__': None, '__spec__': None, '__builtin__': <module 'builtins' (built-in)>, '__builtins__': <module 'builtins' (built-in)>, '_ih': ['', 'a1=100\\ndef func():\\n    print(a1)\\n    a2=99\\n    print(a2)\\n    \\nprint(a1)', 'a1=100\\ndef func():\\n    print(a1)\\n    a2=99\\n    print(a2)\\n    \\nprint(a1)\\nfunc()', 'a1=100\\ndef func():\\n    print(a1)\\n    a2=99\\n    print(a2)\\n    \\nprint(a1)\\nfunc()\\nprint(a2)', 'a1=100\\ndef func():\\n    print(a1)\\n    a2=99\\n    print(a2)\\n    \\nprint(a1)\\nfunc()', 'a1=100\\ndef func():\\n    print(a1)\\n    a2=99\\n    print(a2)\\n    \\nprint(a1)\\nfunc()', 'def fun():\\n    b1=100\\n    print(b1)\\n    b2=99\\n    print(b2)\\n    \\nprint(b1)\\nprint(b2)\\nfun()', 'def fun():\\n    global b1=100\\n    print(b1)\\n    b2=99\\n    print(b2)\\n    \\nprint(b1)\\nprint(b2)\\nfun()', 'def fun():\\n    global b1 = 100\\n    print(b1)\\n    b2=99\\n    print(b2)\\n    \\nprint(b1)\\nprint(b2)\\nfun()', 'def fun():\\n    global b1 = 100\\n    print(b1)\\n    b2=99\\n    print(b2)\\n    \\nprint(b1)\\n#print(b2)\\nfun()', 'def fun():\\n    global b1 \\n    b1 = 100\\n    print(b1)\\n    b2=99\\n    print(b2)\\n    \\nprint(b1)\\n#print(b2)\\nfun()', 'def fun():\\n    global b1 \\n    b1 = 100\\n    print(b1)\\n    b2=99\\n    print(b2)\\n    \\n\\nfun()    \\nprint(b1)\\n#print(b2)', 'def fun():\\n    global b1 \\n    b1 = 100\\n    print(b1)\\n    b2=99\\n    print(b2)\\n    \\n\\n#需要函数先执行过之后，b1才能提升为全局变量\\nfun()    \\nprint(b1)\\n#print(b2)', 'def fun():\\n    global b1 =100\\n    print(b1)\\n    b2=99\\n    print(b2)\\n    \\n\\n#需要函数先执行过之后，b1才能提升为全局变量\\nfun()    \\nprint(b1)\\n#print(b2)', 'def fun():\\n    global b1 \\n    b1 = 100\\n    print(b1)\\n    b2=99\\n    print(b2)\\n    \\n\\n#需要函数先执行过之后，b1才能提升为全局变量\\nfun()    \\nprint(b1)\\n#print(b2)', 'def fun():\\n    global b1 \\n    b1 = 100\\n    print(b1)\\n    b2=99\\n    print(b2)\\n    \\n\\n#需要函数先执行过之后，b1才能提升为全局变量\\n#且定义和赋值要分开\\nfun()    \\nprint(b1)\\n#print(b2)', 'def fun():\\n    global b1 \\n    b1 = 100\\n    print(b1)\\n    b2=99\\n    print(b2)\\n    \\n\\n#需要函数先执行过之后，b1才能提升为全局变量\\n#且定义和赋值要分开\\nfun()    \\nprint(b1)\\n#print(b2)', \"#globals 和 locals\\na = 1\\nb = 2\\ndef fun(c,d)：\\n    e=111\\n    print('locals={0}'.format(locals()))\\n    print('global{0}'.format(globals()))\", \"#globals 和 locals\\na = 1\\nb = 2\\ndef fun(c,d):\\n    e=111\\n    print('locals={0}'.format(locals()))\\n    print('global{0}'.format(globals()))\\nfun()\", \"#globals 和 locals\\na = 1\\nb = 2\\ndef fun(c,d):\\n    e=111\\n    print('locals={0}'.format(locals()))\\n    print('global{0}'.format(globals()))\\nfun(100,200)\", \"#globals 和 locals\\na = 1\\nb = 2\\ndef fun(c,d):\\n    e=111\\n    print('locals={0}'.format(locals()))\\n    print('globals={0}'.format(globals()))\\nfun(100,200)\", \"#globals 和 locals\\na = 1\\nb = 2\\ndef fun(c,d):\\n    e=111\\n    print('locals={0}'.format(locals()))\\n    print('globals={0}'.format(globals()))\\nfun(100,200)\"], '_oh': {}, '_dh': ['/home/tlxy/桌面/python入门'], 'In': ['', 'a1=100\\ndef func():\\n    print(a1)\\n    a2=99\\n    print(a2)\\n    \\nprint(a1)', 'a1=100\\ndef func():\\n    print(a1)\\n    a2=99\\n    print(a2)\\n    \\nprint(a1)\\nfunc()', 'a1=100\\ndef func():\\n    print(a1)\\n    a2=99\\n    print(a2)\\n    \\nprint(a1)\\nfunc()\\nprint(a2)', 'a1=100\\ndef func():\\n    print(a1)\\n    a2=99\\n    print(a2)\\n    \\nprint(a1)\\nfunc()', 'a1=100\\ndef func():\\n    print(a1)\\n    a2=99\\n    print(a2)\\n    \\nprint(a1)\\nfunc()', 'def fun():\\n    b1=100\\n    print(b1)\\n    b2=99\\n    print(b2)\\n    \\nprint(b1)\\nprint(b2)\\nfun()', 'def fun():\\n    global b1=100\\n    print(b1)\\n    b2=99\\n    print(b2)\\n    \\nprint(b1)\\nprint(b2)\\nfun()', 'def fun():\\n    global b1 = 100\\n    print(b1)\\n    b2=99\\n    print(b2)\\n    \\nprint(b1)\\nprint(b2)\\nfun()', 'def fun():\\n    global b1 = 100\\n    print(b1)\\n    b2=99\\n    print(b2)\\n    \\nprint(b1)\\n#print(b2)\\nfun()', 'def fun():\\n    global b1 \\n    b1 = 100\\n    print(b1)\\n    b2=99\\n    print(b2)\\n    \\nprint(b1)\\n#print(b2)\\nfun()', 'def fun():\\n    global b1 \\n    b1 = 100\\n    print(b1)\\n    b2=99\\n    print(b2)\\n    \\n\\nfun()    \\nprint(b1)\\n#print(b2)', 'def fun():\\n    global b1 \\n    b1 = 100\\n    print(b1)\\n    b2=99\\n    print(b2)\\n    \\n\\n#需要函数先执行过之后，b1才能提升为全局变量\\nfun()    \\nprint(b1)\\n#print(b2)', 'def fun():\\n    global b1 =100\\n    print(b1)\\n    b2=99\\n    print(b2)\\n    \\n\\n#需要函数先执行过之后，b1才能提升为全局变量\\nfun()    \\nprint(b1)\\n#print(b2)', 'def fun():\\n    global b1 \\n    b1 = 100\\n    print(b1)\\n    b2=99\\n    print(b2)\\n    \\n\\n#需要函数先执行过之后，b1才能提升为全局变量\\nfun()    \\nprint(b1)\\n#print(b2)', 'def fun():\\n    global b1 \\n    b1 = 100\\n    print(b1)\\n    b2=99\\n    print(b2)\\n    \\n\\n#需要函数先执行过之后，b1才能提升为全局变量\\n#且定义和赋值要分开\\nfun()    \\nprint(b1)\\n#print(b2)', 'def fun():\\n    global b1 \\n    b1 = 100\\n    print(b1)\\n    b2=99\\n    print(b2)\\n    \\n\\n#需要函数先执行过之后，b1才能提升为全局变量\\n#且定义和赋值要分开\\nfun()    \\nprint(b1)\\n#print(b2)', \"#globals 和 locals\\na = 1\\nb = 2\\ndef fun(c,d)：\\n    e=111\\n    print('locals={0}'.format(locals()))\\n    print('global{0}'.format(globals()))\", \"#globals 和 locals\\na = 1\\nb = 2\\ndef fun(c,d):\\n    e=111\\n    print('locals={0}'.format(locals()))\\n    print('global{0}'.format(globals()))\\nfun()\", \"#globals 和 locals\\na = 1\\nb = 2\\ndef fun(c,d):\\n    e=111\\n    print('locals={0}'.format(locals()))\\n    print('global{0}'.format(globals()))\\nfun(100,200)\", \"#globals 和 locals\\na = 1\\nb = 2\\ndef fun(c,d):\\n    e=111\\n    print('locals={0}'.format(locals()))\\n    print('globals={0}'.format(globals()))\\nfun(100,200)\", \"#globals 和 locals\\na = 1\\nb = 2\\ndef fun(c,d):\\n    e=111\\n    print('locals={0}'.format(locals()))\\n    print('globals={0}'.format(globals()))\\nfun(100,200)\"], 'Out': {}, 'get_ipython': <bound method InteractiveShell.get_ipython of <ipykernel.zmqshell.ZMQInteractiveShell object at 0x7f470752c4e0>>, 'exit': <IPython.core.autocall.ZMQExitAutocall object at 0x7f47074ecfd0>, 'quit': <IPython.core.autocall.ZMQExitAutocall object at 0x7f47074ecfd0>, '_': '', '__': '', '___': '', '_i': \"#globals 和 locals\\na = 1\\nb = 2\\ndef fun(c,d):\\n    e=111\\n    print('locals={0}'.format(locals()))\\n    print('globals={0}'.format(globals()))\\nfun(100,200)\", '_ii': \"#globals 和 locals\\na = 1\\nb = 2\\ndef fun(c,d):\\n    e=111\\n    print('locals={0}'.format(locals()))\\n    print('global{0}'.format(globals()))\\nfun(100,200)\", '_iii': \"#globals 和 locals\\na = 1\\nb = 2\\ndef fun(c,d):\\n    e=111\\n    print('locals={0}'.format(locals()))\\n    print('global{0}'.format(globals()))\\nfun()\", '_i1': 'a1=100\\ndef func():\\n    print(a1)\\n    a2=99\\n    print(a2)\\n    \\nprint(a1)', 'a1': 100, 'func': <function func at 0x7f4704445ea0>, '_i2': 'a1=100\\ndef func():\\n    print(a1)\\n    a2=99\\n    print(a2)\\n    \\nprint(a1)\\nfunc()', '_i3': 'a1=100\\ndef func():\\n    print(a1)\\n    a2=99\\n    print(a2)\\n    \\nprint(a1)\\nfunc()\\nprint(a2)', '_i4': 'a1=100\\ndef func():\\n    print(a1)\\n    a2=99\\n    print(a2)\\n    \\nprint(a1)\\nfunc()', '_i5': 'a1=100\\ndef func():\\n    print(a1)\\n    a2=99\\n    print(a2)\\n    \\nprint(a1)\\nfunc()', '_i6': 'def fun():\\n    b1=100\\n    print(b1)\\n    b2=99\\n    print(b2)\\n    \\nprint(b1)\\nprint(b2)\\nfun()', 'fun': <function fun at 0x7f4704445b70>, '_i7': 'def fun():\\n    global b1=100\\n    print(b1)\\n    b2=99\\n    print(b2)\\n    \\nprint(b1)\\nprint(b2)\\nfun()', '_i8': 'def fun():\\n    global b1 = 100\\n    print(b1)\\n    b2=99\\n    print(b2)\\n    \\nprint(b1)\\nprint(b2)\\nfun()', '_i9': 'def fun():\\n    global b1 = 100\\n    print(b1)\\n    b2=99\\n    print(b2)\\n    \\nprint(b1)\\n#print(b2)\\nfun()', '_i10': 'def fun():\\n    global b1 \\n    b1 = 100\\n    print(b1)\\n    b2=99\\n    print(b2)\\n    \\nprint(b1)\\n#print(b2)\\nfun()', '_i11': 'def fun():\\n    global b1 \\n    b1 = 100\\n    print(b1)\\n    b2=99\\n    print(b2)\\n    \\n\\nfun()    \\nprint(b1)\\n#print(b2)', 'b1': 100, '_i12': 'def fun():\\n    global b1 \\n    b1 = 100\\n    print(b1)\\n    b2=99\\n    print(b2)\\n    \\n\\n#需要函数先执行过之后，b1才能提升为全局变量\\nfun()    \\nprint(b1)\\n#print(b2)', '_i13': 'def fun():\\n    global b1 =100\\n    print(b1)\\n    b2=99\\n    print(b2)\\n    \\n\\n#需要函数先执行过之后，b1才能提升为全局变量\\nfun()    \\nprint(b1)\\n#print(b2)', '_i14': 'def fun():\\n    global b1 \\n    b1 = 100\\n    print(b1)\\n    b2=99\\n    print(b2)\\n    \\n\\n#需要函数先执行过之后，b1才能提升为全局变量\\nfun()    \\nprint(b1)\\n#print(b2)', '_i15': 'def fun():\\n    global b1 \\n    b1 = 100\\n    print(b1)\\n    b2=99\\n    print(b2)\\n    \\n\\n#需要函数先执行过之后，b1才能提升为全局变量\\n#且定义和赋值要分开\\nfun()    \\nprint(b1)\\n#print(b2)', '_i16': 'def fun():\\n    global b1 \\n    b1 = 100\\n    print(b1)\\n    b2=99\\n    print(b2)\\n    \\n\\n#需要函数先执行过之后，b1才能提升为全局变量\\n#且定义和赋值要分开\\nfun()    \\nprint(b1)\\n#print(b2)', '_i17': \"#globals 和 locals\\na = 1\\nb = 2\\ndef fun(c,d)：\\n    e=111\\n    print('locals={0}'.format(locals()))\\n    print('global{0}'.format(globals()))\", '_i18': \"#globals 和 locals\\na = 1\\nb = 2\\ndef fun(c,d):\\n    e=111\\n    print('locals={0}'.format(locals()))\\n    print('global{0}'.format(globals()))\\nfun()\", 'a': 1, 'b': 2, '_i19': \"#globals 和 locals\\na = 1\\nb = 2\\ndef fun(c,d):\\n    e=111\\n    print('locals={0}'.format(locals()))\\n    print('global{0}'.format(globals()))\\nfun(100,200)\", '_i20': \"#globals 和 locals\\na = 1\\nb = 2\\ndef fun(c,d):\\n    e=111\\n    print('locals={0}'.format(locals()))\\n    print('globals={0}'.format(globals()))\\nfun(100,200)\", '_i21': \"#globals 和 locals\\na = 1\\nb = 2\\ndef fun(c,d):\\n    e=111\\n    print('locals={0}'.format(locals()))\\n    print('globals={0}'.format(globals()))\\nfun(100,200)\"}\n"
     ]
    }
   ],
   "source": [
    "#globals 和 locals\n",
    "a = 1\n",
    "b = 2\n",
    "def fun(c,d):\n",
    "    e=111\n",
    "    print('locals={0}'.format(locals()))\n",
    "    print('globals={0}'.format(globals()))\n",
    "fun(100,200)"
   ]
  },
  {
   "cell_type": "markdown",
   "metadata": {},
   "source": [
    "# eval()函数\n",
    "- 把一个字符串当成一个表达式来执行，返回表达式执行后的结果\n",
    "- 语法\n",
    "            \n",
    "            eval(string_code, globals=None, locals=None)\n",
    "\n",
    "# exec()函数\n",
    "- 跟eval功能类似，但是无返回\n",
    "- 语法\n",
    "            \n",
    "            exec(string_code, globals=None, locals=None)"
   ]
  },
  {
   "cell_type": "code",
   "execution_count": 27,
   "metadata": {},
   "outputs": [
    {
     "name": "stdout",
     "output_type": "stream",
     "text": [
      "300\n",
      "x+y= 300\n",
      "None\n"
     ]
    }
   ],
   "source": [
    "x=100\n",
    "y=200\n",
    "z1=eval(\"x+y\")\n",
    "print(z1)\n",
    "#注意引号中的写法\n",
    "#对比exec的执行结果\n",
    "z2=exec(\"print('x+y=',x+y)\")\n",
    "print(z2)"
   ]
  },
  {
   "cell_type": "markdown",
   "metadata": {},
   "source": [
    "# 递归函数\n",
    "- 函数自己调用自己\n",
    "- 优点：简洁、理解容易\n",
    "- 缺点：对递归深度有限制，消耗资源大\n",
    "- python对递归深度有限制，超过报错\n",
    "- 在写递归程序的时候，一定要注意结束条件"
   ]
  },
  {
   "cell_type": "code",
   "execution_count": 57,
   "metadata": {
    "scrolled": true
   },
   "outputs": [
    {
     "name": "stdout",
     "output_type": "stream",
     "text": [
      "0\n",
      "1\n",
      "2\n",
      "3\n",
      "4\n",
      "5\n",
      "6\n",
      "7\n",
      "8\n",
      "9\n",
      "45\n"
     ]
    }
   ],
   "source": [
    "sum=0\n",
    "def func(a):\n",
    "    global sum\n",
    "    if(a<10):\n",
    "        sum+=a\n",
    "        print(a)\n",
    "        a +=1\n",
    "        func(a)\n",
    "func(0)\n",
    "print(sum)"
   ]
  },
  {
   "cell_type": "code",
   "execution_count": 74,
   "metadata": {},
   "outputs": [
    {
     "name": "stdout",
     "output_type": "stream",
     "text": [
      "55\n"
     ]
    }
   ],
   "source": [
    "#斐波那契数列\n",
    "#前2个数字为1，后面的数字都等于前2个数的和\n",
    "def fib(n):\n",
    "    if(n<3):\n",
    "        return 1;\n",
    "    else:\n",
    "        return fib(n-1)+fib(n-2)\n",
    "print(fib(10))"
   ]
  },
  {
   "cell_type": "markdown",
   "metadata": {},
   "source": [
    "# 内置数据结构（变量类型）\n",
    "- list\n",
    "- set\n",
    "- dict\n",
    "- tuple\n",
    "## list(列表)\n",
    "- 一组有先后顺序的数据的组合\n",
    "- 创建列表\n",
    "    - 空列表  "
   ]
  },
  {
   "cell_type": "code",
   "execution_count": 81,
   "metadata": {},
   "outputs": [
    {
     "name": "stdout",
     "output_type": "stream",
     "text": [
      "<class 'list'>\n",
      "[]\n",
      "[100]\n",
      "[2, 3, 1, 4, 5, 8, 7, 7]\n",
      "<class 'list'>\n"
     ]
    }
   ],
   "source": [
    "# 创建空列表\n",
    "l1=[]\n",
    "#type(变量名)打印出变量类型\n",
    "print(type(l1))\n",
    "print(l1)\n",
    "\n",
    "#创建带值的列表\n",
    "l2=[100]\n",
    "print(l2)\n",
    "\n",
    "#创建列表，带多个值\n",
    "l3=[2,3,1,4,5,8,7,7]\n",
    "print(l3)\n",
    "\n",
    "#使用list()\n",
    "l4=list()\n",
    "print(type(l4))"
   ]
  },
  {
   "cell_type": "markdown",
   "metadata": {},
   "source": [
    "## 列表常用操作\n",
    "- 访问\n",
    "    - 使用下标操作（索引）,从0开始\n",
    "- 分片操作\n",
    "    - 对列表进行任意一段的截取\n",
    "    - l[:],包含左边，不包含右边"
   ]
  },
  {
   "cell_type": "code",
   "execution_count": 102,
   "metadata": {},
   "outputs": [
    {
     "name": "stdout",
     "output_type": "stream",
     "text": [
      "3\n",
      "[3, 1, 4]\n",
      "[2, 3, 1, 4, 5]\n",
      "[4, 5, 8, 7, 7]\n",
      "[2, 3, 1, 4, 5, 8, 7, 7]\n",
      "[2, 3, 1, 4, 5, 8, 7, 7]\n",
      "[2, 3, 1, 4, 5]\n",
      "[2, 1, 5]\n",
      "[4, 5, 8, 7, 7]\n",
      "[2, 3, 1, 4, 5, 8, 7, 7]\n",
      "[4, 5]\n",
      "[8, 5]\n"
     ]
    }
   ],
   "source": [
    "l=[2,3,1,4,5,8,7,7]\n",
    "print(l[1])\n",
    "#包含左边，不包含右边\n",
    "print(l[1:4])\n",
    "\n",
    "#可以不写下标，左边不写默认为0，右边不写默认最大数+1\n",
    "print(l[:5])\n",
    "print(l[3:])\n",
    "print(l[:])\n",
    "\n",
    "#分片可以控制增长幅度，即控制步长\n",
    "print(l)\n",
    "print(l[:5:1])\n",
    "print(l[:5:2])\n",
    "\n",
    "#下标可以超出范围，超出后不在考虑多余下标内容\n",
    "print(l[3:10])\n",
    "\n",
    "#下标值，增长幅度可以为负数\n",
    "#为负数，表从右往左，从-1开始\n",
    "#规定：数组最后一个数字的下标为-1，从右往左递减\n",
    "print(l[:])\n",
    "print(l[-5:-3])#为-5和-4的数\n",
    "print(l[-3:-5:-1])#为-3和-4的数"
   ]
  },
  {
   "cell_type": "markdown",
   "metadata": {},
   "source": [
    "## 分片操作是生成一个新的list\n",
    "- 内置函数id,负责显示一个变量或者数据唯一的确定编号"
   ]
  },
  {
   "cell_type": "code",
   "execution_count": 112,
   "metadata": {},
   "outputs": [
    {
     "name": "stdout",
     "output_type": "stream",
     "text": [
      "139942989433160\n",
      "139942989430856\n",
      "139942989430856\n",
      "[1, 2, 3, 4, 5, 6, 7]\n",
      "[1, 22, 3, 4, 5, 6, 7]\n",
      "[1, 22, 3, 4, 5, 6, 7]\n"
     ]
    }
   ],
   "source": [
    "#通过id函数能够显示出来\n",
    "#分片本质上是又创建了一个list，把数据拷到新的列表中去\n",
    "l=[1,2,3,4,5,6,7]\n",
    "l1=l[:]\n",
    "l2=l1\n",
    "print(id(l))\n",
    "print(id(l1))\n",
    "print(id(l2))\n",
    "l1[1]=22\n",
    "print(l)\n",
    "print(l1)\n",
    "print(l2)"
   ]
  },
  {
   "cell_type": "code",
   "execution_count": 107,
   "metadata": {},
   "outputs": [
    {
     "name": "stdout",
     "output_type": "stream",
     "text": [
      "93916400044352\n",
      "93916400047552\n",
      "93916400044352\n",
      "93916400044384\n",
      "93916400044352\n"
     ]
    }
   ],
   "source": [
    "#id函数举例\n",
    "a=100\n",
    "b=200\n",
    "c=a\n",
    "print(id(a))\n",
    "print(id(b))\n",
    "print(id(c))\n",
    "\n",
    "\n",
    "a=101\n",
    "print(id(a))\n",
    "print(id(c))"
   ]
  }
 ],
 "metadata": {
  "kernelspec": {
   "display_name": "Python 3",
   "language": "python",
   "name": "python3"
  },
  "language_info": {
   "codemirror_mode": {
    "name": "ipython",
    "version": 3
   },
   "file_extension": ".py",
   "mimetype": "text/x-python",
   "name": "python",
   "nbconvert_exporter": "python",
   "pygments_lexer": "ipython3",
   "version": "3.6.3"
  }
 },
 "nbformat": 4,
 "nbformat_minor": 2
}
