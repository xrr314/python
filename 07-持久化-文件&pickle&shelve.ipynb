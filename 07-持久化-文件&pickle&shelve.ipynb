{
 "cells": [
  {
   "cell_type": "markdown",
   "metadata": {},
   "source": [
    "# 文件\n",
    "- 长久保存信息的一种数据信息集合\n",
    "- 常用操作:\n",
    "    - 打开关闭(文件一旦打开,需要关闭操作)\n",
    "    - 读写内容\n",
    "    - 查找\n",
    "# open函数\n",
    "- open函数负责打开文件,带有很多参数\n",
    "- 第一个参数:必须有,文件路径和文件名\n",
    "- mode:表明文件用什么方式打开\n",
    "    - r:以只读方式打开\n",
    "    - w:写方式打开,会覆盖以前的内容\n",
    "    - x:创建文件然后打开,如文件已经存在,报错\n",
    "    - a:以追加的方式对文件内容进行写入\n",
    "    - b:binary方式,二进制方式写入\n",
    "    - t:文本方式打开\n",
    "    - +:可读写"
   ]
  },
  {
   "cell_type": "code",
   "execution_count": 2,
   "metadata": {
    "collapsed": true
   },
   "outputs": [],
   "source": [
    "#打开文件,用写的方式\n",
    "#字符串前加r表示不需要转义\n",
    "#f称为文件句柄\n",
    "f=open(r'/home/tlxy/xrr/aaa.aaa',mode='w')\n",
    "#文件打开后必须关闭\n",
    "f.close()\n",
    "\n",
    "#次案例说明,以写方式打开文件,默认是如果没有文件,则创建"
   ]
  },
  {
   "cell_type": "markdown",
   "metadata": {},
   "source": [
    "# with语句\n",
    "- with语句使用的技术是一种成为上下文管理协议的技术\n",
    "- 自动判断文件的作用域,自动关闭不在使用的打开的文件句柄"
   ]
  },
  {
   "cell_type": "code",
   "execution_count": 4,
   "metadata": {
    "collapsed": true
   },
   "outputs": [],
   "source": [
    "#with案例\n",
    "with open(r'/home/tlxy/xrr/aaa.aaa',mode='w') as f:\n",
    "    #下面语句块开始对文件f进行操作\n",
    "    #在本模块中不需要在使用close关闭文件f\n",
    "    pass"
   ]
  },
  {
   "cell_type": "code",
   "execution_count": 8,
   "metadata": {},
   "outputs": [
    {
     "name": "stdout",
     "output_type": "stream",
     "text": [
      "aaa\n",
      "\n",
      "bb\n",
      "\n",
      "c\n",
      "\n",
      "d\n",
      "\n",
      "ee\n",
      "\n",
      "ff\n",
      "\n"
     ]
    }
   ],
   "source": [
    "# with案例\n",
    "with open(r'test.txt',mode='r') as f:\n",
    "    # 按行读取内容\n",
    "    strline=f.readline()\n",
    "    #此结构保证能够完整读取文件直到结束\n",
    "    while strline:\n",
    "        print(strline)\n",
    "        strline=f.readline()"
   ]
  },
  {
   "cell_type": "code",
   "execution_count": 10,
   "metadata": {},
   "outputs": [
    {
     "name": "stdout",
     "output_type": "stream",
     "text": [
      "aaa\n",
      "\n",
      "bb\n",
      "\n",
      "c\n",
      "\n",
      "d\n",
      "\n",
      "ee\n",
      "\n",
      "ff\n",
      "\n"
     ]
    }
   ],
   "source": [
    "#list能用打开的文件作为参数,把文件内每一行内容作为元素\n",
    "with open(r'test.txt',mode='r') as f:\n",
    "    l=list(f)\n",
    "    for i in l:\n",
    "        print(i)"
   ]
  },
  {
   "cell_type": "code",
   "execution_count": 18,
   "metadata": {},
   "outputs": [
    {
     "name": "stdout",
     "output_type": "stream",
     "text": [
      "aaa\n",
      "bb\n",
      "c\n",
      "d\n",
      "ee\n",
      "ff\n"
     ]
    }
   ],
   "source": [
    "#read是按照字符读取文件内容\n",
    "#允许输入参数决定读取几个字符,如果没有指定,从头到尾\n",
    "#否则,从当前文职读取指定个数个数字符\n",
    "with open(r'test.txt',mode='r') as f:\n",
    "    strChar = f.read(4)\n",
    "    while strChar:\n",
    "        print(strChar,end='')\n",
    "        strChar=f.read(4)"
   ]
  },
  {
   "cell_type": "markdown",
   "metadata": {},
   "source": [
    "# seek(offset,from)\n",
    "- 移动文件的读取位置,也叫读取指针\n",
    "- from的取值范围:\n",
    "    - 0:从文件头开始偏移\n",
    "    - 1:从文件当前位置开始偏移\n",
    "    - 2:从文件末尾开始偏移\n",
    "- offset:定义偏移量(单位:字节)\n",
    "    - 移动的单位是字节(byte)\n",
    "- 一个汉字由若干个字节构成\n",
    "- 返回文件指针的当前位置"
   ]
  },
  {
   "cell_type": "code",
   "execution_count": 20,
   "metadata": {},
   "outputs": [
    {
     "name": "stdout",
     "output_type": "stream",
     "text": [
      "bb\n",
      "c\n",
      "d\n",
      "ee\n",
      "ff\n",
      "\n"
     ]
    }
   ],
   "source": [
    "# seek案例\n",
    "# 打开文件后,从第5个字节开始读取\n",
    "\n",
    "#打开读取指针在0处,即文件开头\n",
    "with open(r'test.txt',mode='r') as f:\n",
    "    # seek移动单位是字节\n",
    "    f.seek(4,0)\n",
    "    strChar=f.read()\n",
    "    print(strChar)"
   ]
  },
  {
   "cell_type": "code",
   "execution_count": 25,
   "metadata": {},
   "outputs": [
    {
     "name": "stdout",
     "output_type": "stream",
     "text": [
      "aaa \n",
      "bb \n",
      "c\n",
      " d\n",
      "e e\n",
      "f f\n",
      " "
     ]
    }
   ],
   "source": [
    "#关于读取文件的练习\n",
    "#打开文件,三个字符一组读出内容,然后显示在屏幕上\n",
    "#每次读取一次,休息1s\n",
    "\n",
    "import time\n",
    "\n",
    "with open(r'test.txt',mode='r') as f:\n",
    "    strChar=f.read(3)\n",
    "    while strChar:\n",
    "        print(strChar,end=' ')\n",
    "        time.sleep(1)\n",
    "        strChar=f.read(3)"
   ]
  },
  {
   "cell_type": "code",
   "execution_count": 30,
   "metadata": {},
   "outputs": [
    {
     "name": "stdout",
     "output_type": "stream",
     "text": [
      "aaa3\n",
      "bb6\n",
      "c\n",
      "9d\n",
      "e12e\n",
      "f15f\n",
      "17"
     ]
    }
   ],
   "source": [
    "#tell函数:用来显示文件读写指针的当前位置\n",
    "with open(r'test.txt',mode='r') as f:\n",
    "    strChar=f.read(3)\n",
    "    pos=f.tell()\n",
    "    while strChar:\n",
    "        print(strChar,end='')\n",
    "        print(pos,end='')\n",
    "        strChar=f.read(3)\n",
    "        pos=f.tell()"
   ]
  },
  {
   "cell_type": "markdown",
   "metadata": {},
   "source": [
    "# 文件的写操作-write\n",
    "- write(str):把字符串写入文件\n",
    "- writeline(str):把字符串按行写入文件\n",
    "- 区别:\n",
    "    - write函数参数只能是字符串\n",
    "    - writeline函数参数可以是字符串,也可以是字符序列"
   ]
  },
  {
   "cell_type": "code",
   "execution_count": 32,
   "metadata": {
    "collapsed": true
   },
   "outputs": [],
   "source": [
    "# write案例\n",
    "#1.向文件追加内容\n",
    "with open(r'test.txt','a') as f:\n",
    "    f.write('生活不仅有眼前的苟且\\n')"
   ]
  },
  {
   "cell_type": "code",
   "execution_count": 38,
   "metadata": {},
   "outputs": [],
   "source": [
    "#可以直接写入行,用writelines\n",
    "#writelines表示写入很多行,参数可以是list格式\n",
    "with open(r'test.txt','a') as f:\n",
    "    f.writelines('什么东西~~1')\n",
    "    f.writelines('什么东西~~2')"
   ]
  },
  {
   "cell_type": "code",
   "execution_count": 39,
   "metadata": {},
   "outputs": [
    {
     "name": "stdout",
     "output_type": "stream",
     "text": [
      "Help on built-in function writelines:\n",
      "\n",
      "writelines(lines, /) method of _io.TextIOWrapper instance\n",
      "\n"
     ]
    }
   ],
   "source": [
    "help(f.writelines)"
   ]
  },
  {
   "cell_type": "code",
   "execution_count": 40,
   "metadata": {
    "collapsed": true
   },
   "outputs": [],
   "source": [
    "l=['i','love','you']\n",
    "with open(r'test.txt','a') as f:\n",
    "    f.writelines('\\n')\n",
    "    f.writelines(l)"
   ]
  },
  {
   "cell_type": "markdown",
   "metadata": {},
   "source": [
    "# 持久化-pickle\n",
    "- 序列化(持久化,落地):把程序运行中的信息保存在磁盘上\n",
    "- 反序列化:序列化的逆过程\n",
    "- pickle:python提供的序列化模块\n",
    "- pickle.dump:序列胡\n",
    "- pickle.load:反序列化\n",
    "- 优点:能够保存数据格式"
   ]
  },
  {
   "cell_type": "code",
   "execution_count": 45,
   "metadata": {
    "collapsed": true
   },
   "outputs": [],
   "source": [
    "# 序列化案例\n",
    "import pickle\n",
    "age =19\n",
    "with open(r'test01.txt','wb') as f:\n",
    "    pickle.dump(age,f)"
   ]
  },
  {
   "cell_type": "code",
   "execution_count": 47,
   "metadata": {},
   "outputs": [
    {
     "name": "stdout",
     "output_type": "stream",
     "text": [
      "19\n"
     ]
    }
   ],
   "source": [
    "#反序列化案例\n",
    "import pickle\n",
    "with open(r'test01.txt','rb') as f:\n",
    "    age = pickle.load(f)\n",
    "    print(age)"
   ]
  },
  {
   "cell_type": "code",
   "execution_count": 49,
   "metadata": {
    "collapsed": true
   },
   "outputs": [],
   "source": [
    "# 序列化案例\n",
    "import pickle\n",
    "a=[19,'xrr','i love','我家',[175,130]]\n",
    "with open(r'test02.txt','wb') as f:\n",
    "    pickle.dump(a,f)"
   ]
  },
  {
   "cell_type": "code",
   "execution_count": 51,
   "metadata": {},
   "outputs": [
    {
     "name": "stdout",
     "output_type": "stream",
     "text": [
      "[19, 'xrr', 'i love', '我家', [175, 130]]\n"
     ]
    }
   ],
   "source": [
    "#反序列化案例\n",
    "import pickle\n",
    "with open(r'test02.txt','rb') as f:\n",
    "    a = pickle.load(f)\n",
    "    print(a)"
   ]
  },
  {
   "cell_type": "markdown",
   "metadata": {},
   "source": [
    "# 持久化-shelve\n",
    "- 持久化工具\n",
    "- 类似字典,用kv对保存数据,存取方式跟字典也类似\n",
    "- open,close"
   ]
  },
  {
   "cell_type": "code",
   "execution_count": 53,
   "metadata": {
    "collapsed": true
   },
   "outputs": [],
   "source": [
    "#使用shelve创建文件并使用\n",
    "import shelve\n",
    "\n",
    "#打开文件\n",
    "#shv相当于一个字典\n",
    "shv = shelve.open(r'shv.db')\n",
    "\n",
    "shv['one']=1\n",
    "shv['two']=2\n",
    "shv['three']=3\n",
    "\n",
    "shv.close()\n",
    "\n",
    "\n",
    "#通过以上案例发现,shelve自动创建的不仅仅是一个shv.db文件,还包括其他格式文件,一般用于数据库"
   ]
  },
  {
   "cell_type": "code",
   "execution_count": 57,
   "metadata": {},
   "outputs": [
    {
     "name": "stdout",
     "output_type": "stream",
     "text": [
      "1\n",
      "2\n",
      "索引错误\n"
     ]
    }
   ],
   "source": [
    "#shelve读取案例\n",
    "#如果不存在对应的key,则会报错,所以一般都要使用try\n",
    "shv=shelve.open(r'shv.db')\n",
    "try:\n",
    "    print(shv['one'])\n",
    "    print(shv['two'])\n",
    "    print(shv['two1'])\n",
    "except Exception as e:\n",
    "    print('索引错误')\n",
    "finally:\n",
    "    shv.close()"
   ]
  },
  {
   "cell_type": "markdown",
   "metadata": {},
   "source": [
    "# shelve特性\n",
    "- 不支持多个应用并行写入\n",
    "    - 为了解决这个问题,open的时候可以使用flag=r\n",
    "- 写回问题\n",
    "    - shelve默认情况下不会等待持久化对象进行任何修改\n",
    "    - 解决方法:强制写回,writeback=True"
   ]
  },
  {
   "cell_type": "code",
   "execution_count": 59,
   "metadata": {},
   "outputs": [
    {
     "name": "stdout",
     "output_type": "stream",
     "text": [
      "1\n"
     ]
    }
   ],
   "source": [
    "#shelve   --只读打开\n",
    "import shelve\n",
    "shv=shelve.open(r'shv.db',flag='r')\n",
    "\n",
    "try:\n",
    "    k1=shv['one']\n",
    "    print(k1)\n",
    "finally:\n",
    "    shv.close()"
   ]
  },
  {
   "cell_type": "code",
   "execution_count": 65,
   "metadata": {},
   "outputs": [
    {
     "name": "stdout",
     "output_type": "stream",
     "text": [
      "{'one': 1, 'two': 2}\n"
     ]
    }
   ],
   "source": [
    "import shelve\n",
    "shv=shelve.open(r'shv.db')\n",
    "try:\n",
    "    shv['one']={'one':1,'two':2}\n",
    "finally:\n",
    "    shv.close()\n",
    "    \n",
    "shv=shelve.open(r'shv.db')\n",
    "try:\n",
    "    one=shv['one']\n",
    "    print(one)\n",
    "finally:\n",
    "    shv.close()"
   ]
  },
  {
   "cell_type": "code",
   "execution_count": 66,
   "metadata": {},
   "outputs": [
    {
     "name": "stdout",
     "output_type": "stream",
     "text": [
      "{'one': 1, 'two': 2}\n",
      "{'one': 100, 'two': 2}\n"
     ]
    }
   ],
   "source": [
    "# shelve忘记写回,需要使用强制写回\n",
    "#writeback=True\n",
    "shv=shelve.open(r'shv.db',writeback=True)\n",
    "try:\n",
    "    k1=shv['one']\n",
    "    print(k1)\n",
    "    #如果没有添加writeback=True\n",
    "    #此时,一旦关闭shelve,则内容中的内容,并没有写回数据库\n",
    "    k1['one']=100\n",
    "finally:\n",
    "    shv.close\n",
    "    \n",
    "shv=shelve.open(r'shv.db')\n",
    "try:\n",
    "    k1=shv['one']\n",
    "    print(k1)\n",
    "finally:\n",
    "    shv.close()"
   ]
  },
  {
   "cell_type": "code",
   "execution_count": 68,
   "metadata": {},
   "outputs": [
    {
     "name": "stdout",
     "output_type": "stream",
     "text": [
      "{'one': 100, 'two': 2}\n",
      "{'one': 1000, 'two': 2}\n"
     ]
    }
   ],
   "source": [
    "#shelve使用with管理上下文环境\n",
    "with shelve.open(r'shv.db',writeback=True) as shv:\n",
    "    k1=shv['one']\n",
    "    print(k1)\n",
    "    #如果没有添加writeback=True\n",
    "    #此时,一旦关闭shelve,则内容中的内容,并没有写回数据库\n",
    "    k1['one']=1000\n",
    "\n",
    "with shelve.open(r'shv.db',writeback=True) as shv:\n",
    "    print(shv['one'])"
   ]
  }
 ],
 "metadata": {
  "kernelspec": {
   "display_name": "Python 3",
   "language": "python",
   "name": "python3"
  },
  "language_info": {
   "codemirror_mode": {
    "name": "ipython",
    "version": 3
   },
   "file_extension": ".py",
   "mimetype": "text/x-python",
   "name": "python",
   "nbconvert_exporter": "python",
   "pygments_lexer": "ipython3",
   "version": "3.6.3"
  }
 },
 "nbformat": 4,
 "nbformat_minor": 2
}
