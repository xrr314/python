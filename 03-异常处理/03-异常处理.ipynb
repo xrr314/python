{
 "cells": [
  {
   "cell_type": "markdown",
   "metadata": {},
   "source": [
    "# 异常\n",
    "- 广异常的错误分为错误和异常\n",
    "- 错误指的是可以认为避免\n",
    "- 异常是指在语法逻辑正确的前提下,出现的问题\n",
    "- 在python里,异常是一个类,可以处理和使用"
   ]
  },
  {
   "cell_type": "markdown",
   "metadata": {},
   "source": [
    "# 异常处理\n",
    "- 不能保证程序永远的正确运行\n",
    "- 但是,必须保证程序在最坏的情况下得到问题的妥善处理\n",
    "- python的异常处理模块语法:\n",
    "\n",
    "        try:\n",
    "            尝试实现某个操作\n",
    "            没有出现异常,任务可以完成\n",
    "            如果出现异常,将异常从当前代码块扔出\n",
    "        execpt 异常类型1:\n",
    "            解决方案1\n",
    "        except 异常类型2:\n",
    "            解决方案2\n",
    "        except (常类型1,异常类型2,...)\n",
    "            解决方案\n",
    "        except:\n",
    "            所有异常的解决方案\n",
    "        else:\n",
    "            如果没有出现任何异常,将会执行\n",
    "        finally:\n",
    "            管你没有异常都会运行的代码\n",
    "            \n",
    "- 流程\n",
    "    1.执行try下面的语句\n",
    "    2.出现异常执行except下的内容\n",
    "    3.没有出现异常执行else下的内容\n",
    "    4.最后执行finally语句\n",
    "- 除了except(至少一个),其他else和finally都是可选的\n",
    "- 如果有多种异常处理,越是子类的异常,越要往前放,越是父类的异常越要往后放"
   ]
  },
  {
   "cell_type": "code",
   "execution_count": 1,
   "metadata": {},
   "outputs": [
    {
     "name": "stdout",
     "output_type": "stream",
     "text": [
      "请输入一个数字1\n",
      "100.0\n",
      "顺利运行\n",
      "必须执行内容\n"
     ]
    }
   ],
   "source": [
    "#异常案例\n",
    "num=input('请输入一个数字')\n",
    "try:\n",
    "    print(100/int(num))\n",
    "except:\n",
    "    print('出现异常')\n",
    "else:\n",
    "    print('顺利运行')\n",
    "finally:\n",
    "    print('必须执行内容')"
   ]
  },
  {
   "cell_type": "code",
   "execution_count": 10,
   "metadata": {},
   "outputs": [
    {
     "name": "stdout",
     "output_type": "stream",
     "text": [
      "请输入一个数字:hhh\n",
      "我在哪,我做了什么\n",
      "invalid literal for int() with base 10: 'hhh'\n"
     ]
    }
   ],
   "source": [
    "#给出异常提示\n",
    "num=input('请输入一个数字:')\n",
    "try:\n",
    "    print(100/int(num))\n",
    "except ZeroDivisionError as e:\n",
    "    print('???')\n",
    "    print(e)\n",
    "    exit()\n",
    "except Exception as e:\n",
    "    print('我在哪,我做了什么')\n",
    "    print(e)"
   ]
  },
  {
   "cell_type": "markdown",
   "metadata": {},
   "source": [
    "# 用户手动引发异常\n",
    "- 当某些情况,用户希望自己引发一个异常的时候,可以使用\n",
    "- raise关键次来引发异常"
   ]
  },
  {
   "cell_type": "code",
   "execution_count": 14,
   "metadata": {},
   "outputs": [
    {
     "name": "stdout",
     "output_type": "stream",
     "text": [
      "i love you\n",
      "3.14\n",
      "ValueError\n",
      "必定会被执行的finally\n"
     ]
    }
   ],
   "source": [
    "#reise案例\n",
    "try:\n",
    "    print('i love you')\n",
    "    print(3.14)\n",
    "    #手动引发异常\n",
    "    #注意语法:raise 异常类名\n",
    "    raise ValueError\n",
    "    print('看下能否往下执行')\n",
    "except NameError as e:\n",
    "    print(e)\n",
    "except ValueError as e:\n",
    "    print('ValueError')\n",
    "except Exception as e:\n",
    "    print('有异常')\n",
    "finally:\n",
    "    print('必定会被执行的finally')"
   ]
  },
  {
   "cell_type": "code",
   "execution_count": 19,
   "metadata": {},
   "outputs": [
    {
     "name": "stdout",
     "output_type": "stream",
     "text": [
      "i love you\n",
      "3.14\n",
      "自定义错误\n",
      "必定会被执行的finally\n"
     ]
    }
   ],
   "source": [
    "#reise案例-2\n",
    "#自定义异常\n",
    "#继承系统异常,作为系统异常的子类\n",
    "class DanaError(ValueError):\n",
    "    pass\n",
    "\n",
    "try:\n",
    "    print('i love you')\n",
    "    print(3.14)\n",
    "    #手动引发异常\n",
    "    #注意语法:raise 异常类名\n",
    "    raise DanaError\n",
    "    print('看下能否往下执行')\n",
    "except NameError as e:\n",
    "    print(e)\n",
    "    \n",
    "except DanaError as e:\n",
    "    print('自定义错误')\n",
    "except ValueError as e:\n",
    "    print('ValueError')\n",
    "except Exception as e:\n",
    "    print('有异常')\n",
    "finally:\n",
    "    print('必定会被执行的finally')"
   ]
  },
  {
   "cell_type": "markdown",
   "metadata": {},
   "source": [
    "# 关于自定义异常\n",
    "- 主要是raise异常,推荐自定义异常\n",
    "- 在自定义异常的时候,一般包含以下内容:\n",
    "    - 自定义发生异常的代码\n",
    "    - 自定义发生议程后问题提示\n",
    "    - 自定义发生异常的行为\n",
    "- 最终目的,一旦发生异常,方便程序员快速定位错误现场"
   ]
  }
 ],
 "metadata": {
  "kernelspec": {
   "display_name": "Python 3",
   "language": "python",
   "name": "python3"
  },
  "language_info": {
   "codemirror_mode": {
    "name": "ipython",
    "version": 3
   },
   "file_extension": ".py",
   "mimetype": "text/x-python",
   "name": "python",
   "nbconvert_exporter": "python",
   "pygments_lexer": "ipython3",
   "version": "3.6.3"
  }
 },
 "nbformat": 4,
 "nbformat_minor": 2
}
