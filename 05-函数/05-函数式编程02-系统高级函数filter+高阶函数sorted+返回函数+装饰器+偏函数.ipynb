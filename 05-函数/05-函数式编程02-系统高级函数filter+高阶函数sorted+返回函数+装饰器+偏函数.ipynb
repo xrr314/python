{
 "cells": [
  {
   "cell_type": "markdown",
   "metadata": {},
   "source": [
    "### filter函数\n",
    "- 过滤函数:对一组数据进行过滤,符合条件的数据生成一个新的列表并返回\n",
    "- 跟map相比较:\n",
    "    - 相同:都对列表的每一个元素逐一进行操作\n",
    "    - 不同:\n",
    "        - map会生成一个跟原来数据相对应的新队列\n",
    "        - filter不一定,只要符合条件的才会进行新的数据集合\n",
    "    - filter函数写法:\n",
    "        - 利用给定函数进行判断\n",
    "        - 返回值一定是个布尔值\n",
    "        - 调用格式:filter(f,data),f是过滤函数,data是数据"
   ]
  },
  {
   "cell_type": "code",
   "execution_count": 6,
   "metadata": {},
   "outputs": [
    {
     "name": "stdout",
     "output_type": "stream",
     "text": [
      "<class 'filter'>\n",
      "[0, 2, 4, 6, 8, 10, 12, 14, 16, 18]\n"
     ]
    }
   ],
   "source": [
    "#filter案例\n",
    "#对于一个列表,对其进行过滤,偶数组成一个新的列表\n",
    "#需要定义过滤函数\n",
    "#过滤函数要求有输入,返回布尔值\n",
    "def isEven(a):\n",
    "    return a%2==0\n",
    "\n",
    "l=[i  for i in range(20)]\n",
    "rst=filter(isEven,l)\n",
    "print(type(rst))\n",
    "l1=list(rst)\n",
    "print(l1)"
   ]
  },
  {
   "cell_type": "markdown",
   "metadata": {},
   "source": [
    "### 高阶函数-排序sorted\n",
    "- 把一个序列按照给定算法进行排序\n",
    "- key:在排序前对每一个元素进行key函数运算,可以理解成按照key函数定义的逻辑进行排序\n",
    "- python2和Python3相差巨大"
   ]
  },
  {
   "cell_type": "code",
   "execution_count": 11,
   "metadata": {},
   "outputs": [
    {
     "name": "stdout",
     "output_type": "stream",
     "text": [
      "[44, 75, 123, 231, 312, 6456, 23454]\n",
      "[23454, 6456, 312, 231, 123, 75, 44]\n"
     ]
    }
   ],
   "source": [
    "#排序案例\n",
    "a=[312,23454,44,231,6456,123,75]\n",
    "al=sorted(a)\n",
    "#倒序排列\n",
    "al1=sorted(a,reverse=True)\n",
    "print(al)\n",
    "print(al1)"
   ]
  },
  {
   "cell_type": "code",
   "execution_count": 12,
   "metadata": {},
   "outputs": [
    {
     "name": "stdout",
     "output_type": "stream",
     "text": [
      "Help on built-in function sorted in module builtins:\n",
      "\n",
      "sorted(iterable, /, *, key=None, reverse=False)\n",
      "    Return a new list containing all items from the iterable in ascending order.\n",
      "    \n",
      "    A custom key function can be supplied to customize the sort order, and the\n",
      "    reverse flag can be set to request the result in descending order.\n",
      "\n"
     ]
    }
   ],
   "source": [
    "help(sorted)"
   ]
  },
  {
   "cell_type": "code",
   "execution_count": 14,
   "metadata": {},
   "outputs": [
    {
     "name": "stdout",
     "output_type": "stream",
     "text": [
      "[23454, 6456, 312, 231, -123, 75, -44]\n"
     ]
    }
   ],
   "source": [
    "#排序案例2\n",
    "a=[312,23454,-44,231,6456,-123,75]\n",
    "#按照绝对值进行排序\n",
    "#abs是求绝对值的意思\n",
    "#即按照绝对值的倒序排序\n",
    "al=sorted(a,key=abs,reverse=True)\n",
    "print(al)"
   ]
  },
  {
   "cell_type": "code",
   "execution_count": 17,
   "metadata": {},
   "outputs": [
    {
     "name": "stdout",
     "output_type": "stream",
     "text": [
      "['Xrr', 'dada', 'jingjing', 'wsh', 'xrr']\n",
      "['dada', 'jingjing', 'wsh', 'xrr', 'Xrr']\n"
     ]
    }
   ],
   "source": [
    "#sorted案例\n",
    "astr=['dada','xrr','Xrr','wsh','jingjing']\n",
    "sl=sorted(astr)\n",
    "print(sl)\n",
    "\n",
    "sl1=sorted(astr,key=str.lower)\n",
    "print(sl1)"
   ]
  },
  {
   "cell_type": "markdown",
   "metadata": {},
   "source": [
    "## 返回函数\n",
    "- 函数可以返回具体的值\n",
    "- 也可以返回一个函数作为结果"
   ]
  },
  {
   "cell_type": "code",
   "execution_count": 19,
   "metadata": {},
   "outputs": [
    {
     "name": "stdout",
     "output_type": "stream",
     "text": [
      "In myF\n",
      "None\n"
     ]
    }
   ],
   "source": [
    "#定义一个普通函数\n",
    "def myF(a):\n",
    "    print('In myF')\n",
    "    return None\n",
    "\n",
    "a=myF(8)\n",
    "print(a)"
   ]
  },
  {
   "cell_type": "code",
   "execution_count": 23,
   "metadata": {},
   "outputs": [
    {
     "name": "stdout",
     "output_type": "stream",
     "text": [
      "<class 'function'>\n",
      "<function myF2.<locals>.myF3 at 0x7f446869d400>\n",
      "In myF3\n",
      "3\n"
     ]
    }
   ],
   "source": [
    "#函数作为返回值,被返回的函数在函数体类定义\n",
    "\n",
    "def myF2():\n",
    "    def myF3():\n",
    "        print('In myF3')\n",
    "        return 3\n",
    "    return myF3\n",
    "\n",
    "f3=myF2()\n",
    "print(type(f3))\n",
    "print(f3)\n",
    "print(f3())"
   ]
  },
  {
   "cell_type": "code",
   "execution_count": 33,
   "metadata": {},
   "outputs": [
    {
     "name": "stdout",
     "output_type": "stream",
     "text": [
      "45\n"
     ]
    }
   ],
   "source": [
    "#复杂点的返回函数的例子\n",
    "#args:参数列表\n",
    "def myF4(*args):\n",
    "    def myF5():\n",
    "        rst=0\n",
    "        for i in args:\n",
    "            rst+=i\n",
    "        return rst\n",
    "    return myF5\n",
    "\n",
    "f5=myF4(1,2,3,4,5,6,7,8,9,0)\n",
    "rst=f5()\n",
    "print(rst)"
   ]
  },
  {
   "cell_type": "markdown",
   "metadata": {},
   "source": [
    "## 闭包(closure)\n",
    "-  当一个函数在内部定义了一个函数,并且内部的函数应该了外部函数的参数或者局部变量,当内部函数被作为返回值的时候,相关参数和变量保存在返回函数中,这种结果,叫做闭包\n",
    "- 上面定义的myF4是一个标准包结构"
   ]
  },
  {
   "cell_type": "code",
   "execution_count": 44,
   "metadata": {
    "scrolled": true
   },
   "outputs": [
    {
     "name": "stdout",
     "output_type": "stream",
     "text": [
      "9\n",
      "9\n",
      "9\n"
     ]
    }
   ],
   "source": [
    "#闭包常见的坑\n",
    "def count():\n",
    "    #定义列表,存放的是定义函数\n",
    "    fs=[]\n",
    "    for i in range(1,4):\n",
    "        #定义一个函数f\n",
    "        #f是一个闭包结构\n",
    "        def f():\n",
    "            return i*i\n",
    "        fs.append(f)\n",
    "    return fs\n",
    "f=count()\n",
    "for i in f:\n",
    "    print(i())"
   ]
  },
  {
   "cell_type": "markdown",
   "metadata": {},
   "source": [
    "### 上述出现的问题:\n",
    "- 造成上述的状况的原因,返回函数应用了变量i,i并非立即执行,而是等三个函数都返回的时候才统一执行,此时i=3,返回都是3*3\n",
    "- 此问题描述成:返回闭包时,返回函数不能应用任何循环变量\n",
    "- 解决方案:在创建一个函数,用该函数的餐胡绑定循环变量的当前值,无论该函数变量以后如何变化,已经绑定的函数参数值不在改变"
   ]
  },
  {
   "cell_type": "code",
   "execution_count": 45,
   "metadata": {},
   "outputs": [
    {
     "name": "stdout",
     "output_type": "stream",
     "text": [
      "1\n",
      "4\n",
      "9\n"
     ]
    }
   ],
   "source": [
    "#修改上述函数\n",
    "def count1():\n",
    "    #绑定函数的参数\n",
    "    def f(j):\n",
    "        def g():\n",
    "            return j*j\n",
    "        return g\n",
    "    \n",
    "    fs=[]\n",
    "    for i in range(1,4):\n",
    "        fs.append(f(i))\n",
    "    return fs\n",
    "\n",
    "f1,f2,f3=count1()\n",
    "print(f1())\n",
    "print(f2())\n",
    "print(f3())"
   ]
  },
  {
   "cell_type": "markdown",
   "metadata": {},
   "source": [
    "### 装饰器"
   ]
  },
  {
   "cell_type": "code",
   "execution_count": 49,
   "metadata": {},
   "outputs": [
    {
     "name": "stdout",
     "output_type": "stream",
     "text": [
      "hello world\n"
     ]
    }
   ],
   "source": [
    "def hello():\n",
    "    print('hello world')\n",
    "hello()"
   ]
  },
  {
   "cell_type": "code",
   "execution_count": 51,
   "metadata": {},
   "outputs": [
    {
     "name": "stdout",
     "output_type": "stream",
     "text": [
      "hello world\n"
     ]
    }
   ],
   "source": [
    "f=hello\n",
    "f()"
   ]
  },
  {
   "cell_type": "code",
   "execution_count": 54,
   "metadata": {},
   "outputs": [
    {
     "name": "stdout",
     "output_type": "stream",
     "text": [
      "139931787574128\n",
      "139931787574128\n",
      "hello\n",
      "hello\n"
     ]
    }
   ],
   "source": [
    "#f和hello证明一个函数\n",
    "print(id(f))\n",
    "print(id(hello))\n",
    "\n",
    "print(f.__name__)\n",
    "print(hello.__name__)"
   ]
  },
  {
   "cell_type": "code",
   "execution_count": 55,
   "metadata": {
    "collapsed": true
   },
   "outputs": [],
   "source": [
    "#现在由新的需求\n",
    "#对hello功能扩展,每次打印hello之前打印一个系统时间\n",
    "#而现实这个功能不改动原来的代码\n",
    "#==>使用装饰器"
   ]
  },
  {
   "cell_type": "markdown",
   "metadata": {},
   "source": [
    "### 装饰器\n",
    "- 在不该到函数代码的基础上无限扩展函数功能的一种机制,本质上讲,装饰器就是一个返回函数的高阶函数\n",
    "- 装饰器的使用:使用 @语法,即每次要扩展函数定义前使用@+函数名"
   ]
  },
  {
   "cell_type": "code",
   "execution_count": 57,
   "metadata": {},
   "outputs": [],
   "source": [
    "#任务:\n",
    "#对hello函数进行功能扩展,每次执行print前打印当前时间\n",
    "import time\n",
    "\n",
    "#高阶函数,以函数作为参数\n",
    "def printTime(f):\n",
    "    def wrapper(*args,**kwargs):\n",
    "        print('Time:',time.ctime())\n",
    "        return f(*args,**kwargs)\n",
    "    return wrapper"
   ]
  },
  {
   "cell_type": "code",
   "execution_count": 59,
   "metadata": {},
   "outputs": [
    {
     "name": "stdout",
     "output_type": "stream",
     "text": [
      "Time: Wed Oct 10 13:19:35 2018\n",
      "hello world\n"
     ]
    }
   ],
   "source": [
    "#上面定义了装饰器,使用的时候需要用到@,此符号是Python的语法糖\n",
    "@printTime\n",
    "def hello():\n",
    "    print('hello world')\n",
    "    \n",
    "hello()"
   ]
  },
  {
   "cell_type": "code",
   "execution_count": 62,
   "metadata": {},
   "outputs": [
    {
     "name": "stdout",
     "output_type": "stream",
     "text": [
      "Time: Wed Oct 10 13:22:01 2018\n",
      "今天美滋滋~\n"
     ]
    }
   ],
   "source": [
    "#装饰器的好处,一旦定义,则可以装饰任意函数\n",
    "#一旦被其装饰,则把装饰器的功能直接添加到定义函数的功能上\n",
    "\n",
    "@printTime\n",
    "def hello2():\n",
    "    print('今天美滋滋~')\n",
    "hello2()"
   ]
  },
  {
   "cell_type": "code",
   "execution_count": 67,
   "metadata": {},
   "outputs": [
    {
     "name": "stdout",
     "output_type": "stream",
     "text": [
      "Time: Wed Oct 10 13:27:55 2018\n",
      "手动创建\n",
      "Time: Wed Oct 10 13:27:55 2018\n",
      "Time: Wed Oct 10 13:27:55 2018\n",
      "手动创建\n"
     ]
    }
   ],
   "source": [
    "# 上面对函数的装饰使用了系统定义的语法糖\n",
    "#下面开始手动执行下装饰器\n",
    "#先定义函数\n",
    "def hello3():\n",
    "    print('手动创建')\n",
    "    \n",
    "#hello3()\n",
    "\n",
    "hello3=printTime(hello3)\n",
    "hello3()\n",
    "f=printTime(hello3)\n",
    "f()"
   ]
  },
  {
   "cell_type": "markdown",
   "metadata": {},
   "source": [
    "### 偏函数\n"
   ]
  },
  {
   "cell_type": "code",
   "execution_count": 73,
   "metadata": {},
   "outputs": [
    {
     "data": {
      "text/plain": [
       "5349"
      ]
     },
     "execution_count": 73,
     "metadata": {},
     "output_type": "execute_result"
    }
   ],
   "source": [
    "#把字符串转化成十进制数字\n",
    "int('12345')\n",
    "#求八进制的字符串'12345',表示十进制的数字是多少\n",
    "int('12345',base=8)"
   ]
  },
  {
   "cell_type": "code",
   "execution_count": 76,
   "metadata": {},
   "outputs": [
    {
     "data": {
      "text/plain": [
       "74565"
      ]
     },
     "execution_count": 76,
     "metadata": {},
     "output_type": "execute_result"
    }
   ],
   "source": [
    "#新建一个函数,此函数是默认输入的字符串是16进制数\n",
    "#把此字符串返回十进制的数字\n",
    "def int16(x,base=16):\n",
    "    return int(x,base)\n",
    "int16('12345')"
   ]
  },
  {
   "cell_type": "markdown",
   "metadata": {},
   "source": [
    "### 偏函数\n",
    "- 参数固定的函数,相当于一个由特定茶树的函数体\n",
    "- functools.partial的作用是,把一个函数某些参数固定,返回一个新函数"
   ]
  },
  {
   "cell_type": "code",
   "execution_count": 78,
   "metadata": {},
   "outputs": [
    {
     "data": {
      "text/plain": [
       "74565"
      ]
     },
     "execution_count": 78,
     "metadata": {},
     "output_type": "execute_result"
    }
   ],
   "source": [
    "import functools\n",
    "#实现上面int16的功能\n",
    "#用法:functools.partial(函数名,函数中需要固定的参数1=值1,函数中需要固定的参数2=值2,...)\n",
    "int16=functools.partial(int,base=16)\n",
    "int16('12345')"
   ]
  }
 ],
 "metadata": {
  "kernelspec": {
   "display_name": "Python 3",
   "language": "python",
   "name": "python3"
  },
  "language_info": {
   "codemirror_mode": {
    "name": "ipython",
    "version": 3
   },
   "file_extension": ".py",
   "mimetype": "text/x-python",
   "name": "python",
   "nbconvert_exporter": "python",
   "pygments_lexer": "ipython3",
   "version": "3.6.3"
  }
 },
 "nbformat": 4,
 "nbformat_minor": 2
}
