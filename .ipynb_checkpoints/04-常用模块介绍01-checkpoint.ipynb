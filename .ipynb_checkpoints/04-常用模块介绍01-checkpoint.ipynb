{
 "cells": [
  {
   "cell_type": "markdown",
   "metadata": {},
   "source": [
    "# 常用模块\n",
    "- calendar\n",
    "- time\n",
    "- datetime\n",
    "- timeit\n",
    "- os\n",
    "- shutil\n",
    "- zip\n",
    "- math\n",
    "- string\n",
    "- 上述所有模块使用理论上应该先导入,string是特例\n",
    "- calendar,time,datetime区别参考中文"
   ]
  },
  {
   "cell_type": "markdown",
   "metadata": {},
   "source": [
    "# calendar\n",
    "- 跟日历相关的模块\n",
    "- 参数\n",
    "    - w=每个日期之间的间隔字符数\n",
    "    - l=每周所占用的函数\n",
    "    - c=每月之间的间隔字符数"
   ]
  },
  {
   "cell_type": "code",
   "execution_count": 6,
   "metadata": {},
   "outputs": [
    {
     "name": "stdout",
     "output_type": "stream",
     "text": [
      "                                  2017\n",
      "\n",
      "      January                   February                   March\n",
      "Mo Tu We Th Fr Sa Su      Mo Tu We Th Fr Sa Su      Mo Tu We Th Fr Sa Su\n",
      "                   1             1  2  3  4  5             1  2  3  4  5\n",
      " 2  3  4  5  6  7  8       6  7  8  9 10 11 12       6  7  8  9 10 11 12\n",
      " 9 10 11 12 13 14 15      13 14 15 16 17 18 19      13 14 15 16 17 18 19\n",
      "16 17 18 19 20 21 22      20 21 22 23 24 25 26      20 21 22 23 24 25 26\n",
      "23 24 25 26 27 28 29      27 28                     27 28 29 30 31\n",
      "30 31\n",
      "\n",
      "       April                      May                       June\n",
      "Mo Tu We Th Fr Sa Su      Mo Tu We Th Fr Sa Su      Mo Tu We Th Fr Sa Su\n",
      "                1  2       1  2  3  4  5  6  7                1  2  3  4\n",
      " 3  4  5  6  7  8  9       8  9 10 11 12 13 14       5  6  7  8  9 10 11\n",
      "10 11 12 13 14 15 16      15 16 17 18 19 20 21      12 13 14 15 16 17 18\n",
      "17 18 19 20 21 22 23      22 23 24 25 26 27 28      19 20 21 22 23 24 25\n",
      "24 25 26 27 28 29 30      29 30 31                  26 27 28 29 30\n",
      "\n",
      "        July                     August                  September\n",
      "Mo Tu We Th Fr Sa Su      Mo Tu We Th Fr Sa Su      Mo Tu We Th Fr Sa Su\n",
      "                1  2          1  2  3  4  5  6                   1  2  3\n",
      " 3  4  5  6  7  8  9       7  8  9 10 11 12 13       4  5  6  7  8  9 10\n",
      "10 11 12 13 14 15 16      14 15 16 17 18 19 20      11 12 13 14 15 16 17\n",
      "17 18 19 20 21 22 23      21 22 23 24 25 26 27      18 19 20 21 22 23 24\n",
      "24 25 26 27 28 29 30      28 29 30 31               25 26 27 28 29 30\n",
      "31\n",
      "\n",
      "      October                   November                  December\n",
      "Mo Tu We Th Fr Sa Su      Mo Tu We Th Fr Sa Su      Mo Tu We Th Fr Sa Su\n",
      "                   1             1  2  3  4  5                   1  2  3\n",
      " 2  3  4  5  6  7  8       6  7  8  9 10 11 12       4  5  6  7  8  9 10\n",
      " 9 10 11 12 13 14 15      13 14 15 16 17 18 19      11 12 13 14 15 16 17\n",
      "16 17 18 19 20 21 22      20 21 22 23 24 25 26      18 19 20 21 22 23 24\n",
      "23 24 25 26 27 28 29      27 28 29 30               25 26 27 28 29 30 31\n",
      "30 31\n",
      "\n",
      "<class 'str'>\n"
     ]
    }
   ],
   "source": [
    "#calendar\n",
    "import calendar\n",
    "\n",
    "cal=calendar.calendar(2017)\n",
    "print(cal)\n",
    "print(type(cal))"
   ]
  },
  {
   "cell_type": "code",
   "execution_count": 9,
   "metadata": {},
   "outputs": [
    {
     "name": "stdout",
     "output_type": "stream",
     "text": [
      "                                 2017\n",
      "\n",
      "      January                  February                  March\n",
      "Mo Tu We Th Fr Sa Su     Mo Tu We Th Fr Sa Su     Mo Tu We Th Fr Sa Su\n",
      "                   1            1  2  3  4  5            1  2  3  4  5\n",
      " 2  3  4  5  6  7  8      6  7  8  9 10 11 12      6  7  8  9 10 11 12\n",
      " 9 10 11 12 13 14 15     13 14 15 16 17 18 19     13 14 15 16 17 18 19\n",
      "16 17 18 19 20 21 22     20 21 22 23 24 25 26     20 21 22 23 24 25 26\n",
      "23 24 25 26 27 28 29     27 28                    27 28 29 30 31\n",
      "30 31\n",
      "\n",
      "       April                     May                      June\n",
      "Mo Tu We Th Fr Sa Su     Mo Tu We Th Fr Sa Su     Mo Tu We Th Fr Sa Su\n",
      "                1  2      1  2  3  4  5  6  7               1  2  3  4\n",
      " 3  4  5  6  7  8  9      8  9 10 11 12 13 14      5  6  7  8  9 10 11\n",
      "10 11 12 13 14 15 16     15 16 17 18 19 20 21     12 13 14 15 16 17 18\n",
      "17 18 19 20 21 22 23     22 23 24 25 26 27 28     19 20 21 22 23 24 25\n",
      "24 25 26 27 28 29 30     29 30 31                 26 27 28 29 30\n",
      "\n",
      "        July                    August                 September\n",
      "Mo Tu We Th Fr Sa Su     Mo Tu We Th Fr Sa Su     Mo Tu We Th Fr Sa Su\n",
      "                1  2         1  2  3  4  5  6                  1  2  3\n",
      " 3  4  5  6  7  8  9      7  8  9 10 11 12 13      4  5  6  7  8  9 10\n",
      "10 11 12 13 14 15 16     14 15 16 17 18 19 20     11 12 13 14 15 16 17\n",
      "17 18 19 20 21 22 23     21 22 23 24 25 26 27     18 19 20 21 22 23 24\n",
      "24 25 26 27 28 29 30     28 29 30 31              25 26 27 28 29 30\n",
      "31\n",
      "\n",
      "      October                  November                 December\n",
      "Mo Tu We Th Fr Sa Su     Mo Tu We Th Fr Sa Su     Mo Tu We Th Fr Sa Su\n",
      "                   1            1  2  3  4  5                  1  2  3\n",
      " 2  3  4  5  6  7  8      6  7  8  9 10 11 12      4  5  6  7  8  9 10\n",
      " 9 10 11 12 13 14 15     13 14 15 16 17 18 19     11 12 13 14 15 16 17\n",
      "16 17 18 19 20 21 22     20 21 22 23 24 25 26     18 19 20 21 22 23 24\n",
      "23 24 25 26 27 28 29     27 28 29 30              25 26 27 28 29 30 31\n",
      "30 31\n",
      "\n"
     ]
    }
   ],
   "source": [
    "import calendar\n",
    "\n",
    "cal=calendar.calendar(2017,l=0,c=5)\n",
    "print(cal)"
   ]
  },
  {
   "cell_type": "code",
   "execution_count": 14,
   "metadata": {},
   "outputs": [
    {
     "data": {
      "text/plain": [
       "True"
      ]
     },
     "execution_count": 14,
     "metadata": {},
     "output_type": "execute_result"
    }
   ],
   "source": [
    "import calendar\n",
    "\n",
    "#isleap:判断是否是闰年\n",
    "calendar.isleap(2000)"
   ]
  },
  {
   "cell_type": "code",
   "execution_count": 15,
   "metadata": {},
   "outputs": [
    {
     "data": {
      "text/plain": [
       "5"
      ]
     },
     "execution_count": 15,
     "metadata": {},
     "output_type": "execute_result"
    }
   ],
   "source": [
    "#leapdays:获取指定两份之间闰年的个数\n",
    "import calendar\n",
    "calendar.leapdays(1998,2018)"
   ]
  },
  {
   "cell_type": "code",
   "execution_count": 18,
   "metadata": {},
   "outputs": [
    {
     "name": "stdout",
     "output_type": "stream",
     "text": [
      "Help on function leapdays in module calendar:\n",
      "\n",
      "leapdays(y1, y2)\n",
      "    Return number of leap years in range [y1, y2).\n",
      "    Assume y1 <= y2.\n",
      "\n"
     ]
    }
   ],
   "source": [
    "help(calendar.leapdays)"
   ]
  },
  {
   "cell_type": "code",
   "execution_count": 23,
   "metadata": {},
   "outputs": [
    {
     "name": "stdout",
     "output_type": "stream",
     "text": [
      "     March 2017\n",
      "Mo Tu We Th Fr Sa Su\n",
      "       1  2  3  4  5\n",
      " 6  7  8  9 10 11 12\n",
      "13 14 15 16 17 18 19\n",
      "20 21 22 23 24 25 26\n",
      "27 28 29 30 31\n",
      "\n"
     ]
    }
   ],
   "source": [
    "#month获取某个月的日历字符串\n",
    "#格式calendar.month(年,月)\n",
    "#返回值:月日历的字符串\n",
    "m3=calendar.month(2017,3)\n",
    "print(m3)"
   ]
  },
  {
   "cell_type": "code",
   "execution_count": 24,
   "metadata": {},
   "outputs": [
    {
     "name": "stdout",
     "output_type": "stream",
     "text": [
      "2\n",
      "31\n"
     ]
    }
   ],
   "source": [
    "#monthrange获取一个月的周几开始即和天数\n",
    "#格式:calendar.monthrange(年,月)\n",
    "#返回值:元组(周几开始,总天数)\n",
    "#注意:周默认0-6表示周1到周天\n",
    "w,t=calendar.monthrange(2017,3)\n",
    "print(w)\n",
    "print(t)"
   ]
  },
  {
   "cell_type": "code",
   "execution_count": 27,
   "metadata": {},
   "outputs": [
    {
     "name": "stdout",
     "output_type": "stream",
     "text": [
      "<class 'list'>\n",
      "0 0 1 2 3 4 5 \n",
      "6 7 8 9 10 11 12 \n",
      "13 14 15 16 17 18 19 \n",
      "20 21 22 23 24 25 26 \n",
      "27 28 29 30 31 0 0 \n"
     ]
    }
   ],
   "source": [
    "#monthcalendar返回一个月每天的矩阵列表\n",
    "#格式calendar.monthcalendar(年,月)\n",
    "#返回值:二级列表\n",
    "#注意,矩阵中没有天数用0表示\n",
    "m=calendar.monthcalendar(2017,3)\n",
    "print(type(m))\n",
    "for i in range(len(m)):\n",
    "    for y in range(len(m[i])):\n",
    "        print(m[i][y],end=' ')\n",
    "    print()"
   ]
  },
  {
   "cell_type": "code",
   "execution_count": 30,
   "metadata": {},
   "outputs": [
    {
     "name": "stdout",
     "output_type": "stream",
     "text": [
      "                                  2018\n",
      "\n",
      "      January                   February                   March\n",
      "Mo Tu We Th Fr Sa Su      Mo Tu We Th Fr Sa Su      Mo Tu We Th Fr Sa Su\n",
      " 1  2  3  4  5  6  7                1  2  3  4                1  2  3  4\n",
      " 8  9 10 11 12 13 14       5  6  7  8  9 10 11       5  6  7  8  9 10 11\n",
      "15 16 17 18 19 20 21      12 13 14 15 16 17 18      12 13 14 15 16 17 18\n",
      "22 23 24 25 26 27 28      19 20 21 22 23 24 25      19 20 21 22 23 24 25\n",
      "29 30 31                  26 27 28                  26 27 28 29 30 31\n",
      "\n",
      "       April                      May                       June\n",
      "Mo Tu We Th Fr Sa Su      Mo Tu We Th Fr Sa Su      Mo Tu We Th Fr Sa Su\n",
      "                   1          1  2  3  4  5  6                   1  2  3\n",
      " 2  3  4  5  6  7  8       7  8  9 10 11 12 13       4  5  6  7  8  9 10\n",
      " 9 10 11 12 13 14 15      14 15 16 17 18 19 20      11 12 13 14 15 16 17\n",
      "16 17 18 19 20 21 22      21 22 23 24 25 26 27      18 19 20 21 22 23 24\n",
      "23 24 25 26 27 28 29      28 29 30 31               25 26 27 28 29 30\n",
      "30\n",
      "\n",
      "        July                     August                  September\n",
      "Mo Tu We Th Fr Sa Su      Mo Tu We Th Fr Sa Su      Mo Tu We Th Fr Sa Su\n",
      "                   1             1  2  3  4  5                      1  2\n",
      " 2  3  4  5  6  7  8       6  7  8  9 10 11 12       3  4  5  6  7  8  9\n",
      " 9 10 11 12 13 14 15      13 14 15 16 17 18 19      10 11 12 13 14 15 16\n",
      "16 17 18 19 20 21 22      20 21 22 23 24 25 26      17 18 19 20 21 22 23\n",
      "23 24 25 26 27 28 29      27 28 29 30 31            24 25 26 27 28 29 30\n",
      "30 31\n",
      "\n",
      "      October                   November                  December\n",
      "Mo Tu We Th Fr Sa Su      Mo Tu We Th Fr Sa Su      Mo Tu We Th Fr Sa Su\n",
      " 1  2  3  4  5  6  7                1  2  3  4                      1  2\n",
      " 8  9 10 11 12 13 14       5  6  7  8  9 10 11       3  4  5  6  7  8  9\n",
      "15 16 17 18 19 20 21      12 13 14 15 16 17 18      10 11 12 13 14 15 16\n",
      "22 23 24 25 26 27 28      19 20 21 22 23 24 25      17 18 19 20 21 22 23\n",
      "29 30 31                  26 27 28 29 30            24 25 26 27 28 29 30\n",
      "                                                    31\n",
      "\n"
     ]
    }
   ],
   "source": [
    "#prcal:print calendar直接打印日历\n",
    "calendar.prcal(2018)"
   ]
  },
  {
   "cell_type": "code",
   "execution_count": 34,
   "metadata": {},
   "outputs": [
    {
     "name": "stdout",
     "output_type": "stream",
     "text": [
      "Help on method pryear in module calendar:\n",
      "\n",
      "pryear(theyear, w=0, l=0, c=6, m=3) method of calendar.TextCalendar instance\n",
      "    Print a year's calendar.\n",
      "\n"
     ]
    }
   ],
   "source": [
    "help(calendar.prcal)"
   ]
  },
  {
   "cell_type": "code",
   "execution_count": 36,
   "metadata": {},
   "outputs": [
    {
     "name": "stdout",
     "output_type": "stream",
     "text": [
      "     March 2017\n",
      "Mo Tu We Th Fr Sa Su\n",
      "       1  2  3  4  5\n",
      " 6  7  8  9 10 11 12\n",
      "13 14 15 16 17 18 19\n",
      "20 21 22 23 24 25 26\n",
      "27 28 29 30 31\n"
     ]
    }
   ],
   "source": [
    "#prmonth直接打印整个月的日历\n",
    "#格式:calendar.prmonth(年,月)\n",
    "calendar.prmonth(2017,3)"
   ]
  },
  {
   "cell_type": "code",
   "execution_count": 38,
   "metadata": {},
   "outputs": [
    {
     "data": {
      "text/plain": [
       "6"
      ]
     },
     "execution_count": 38,
     "metadata": {},
     "output_type": "execute_result"
    }
   ],
   "source": [
    "#weekday获取周几\n",
    "#格式calendar.weekday(年,月)\n",
    "#返回值0-6对应周一到周天\n",
    "calendar.weekday(2017,3,5)"
   ]
  },
  {
   "cell_type": "markdown",
   "metadata": {},
   "source": [
    "# time模块\n",
    "## 时间戳\n",
    "    - 一个时间表示,根据不同语言,可以是整数/浮点数\n",
    "    - 从1970-1-1 0:0:0开始到现在的时间的秒数\n",
    "    - 如果表示的时间是1970年以前或者太遥远的未来,可能出现异常\n",
    "    - 32为操作系统能够支持到2038年\n",
    "   \n",
    "## UTC时间\n",
    "    - UTC又称世界协调时间,以英国的格林尼治天文所在地区时间作为参考时间,也叫世界标准时间'\n",
    "    - 中国时间   UTC+8   东八区\n",
    "    \n",
    "## 夏令时\n",
    "    - ...\n",
    "    \n",
    "## 时间元组\n",
    "    - 一个包含时间内容的普通元组\n",
    "    \n",
    "    \n",
    "            序号\t属性\t   值\n",
    "            0\ttm_year\t  2008\n",
    "            1\ttm_mon\t  1 到 12\n",
    "            2\ttm_mday\t  1 到 31\n",
    "            3\ttm_hour\t  0 到 23\n",
    "            4\ttm_min\t  0 到 59\n",
    "            5\ttm_sec\t  0 到 61 (60或61 是闰秒)\n",
    "            6\ttm_wday\t  0到6 (0是周一)\n",
    "            7\ttm_yday\t  一年中的第几天，1 到 366\n",
    "            8\ttm_isdst  是否为夏令时，值有：1(夏令时)、0(不是夏令时)、-1(未知)，默认 -1\n",
    "    "
   ]
  },
  {
   "cell_type": "code",
   "execution_count": 40,
   "metadata": {
    "collapsed": true
   },
   "outputs": [],
   "source": [
    "#需要单独导入\n",
    "import time"
   ]
  },
  {
   "cell_type": "code",
   "execution_count": 42,
   "metadata": {},
   "outputs": [
    {
     "name": "stdout",
     "output_type": "stream",
     "text": [
      "-28800\n"
     ]
    }
   ],
   "source": [
    "#时间模块属性\n",
    "#timezone当前时区,和UTC时间相差的秒数,在没有夏令时的情况下的间隔,东八区与英国标准时间的固定差值\n",
    "#altzone获取当前时区与UTC相差的秒数,在有夏令时的情况下(基本没有使用)\n",
    "#daylight测当前是否是夏令时时间状态,0为是\n",
    "print(time.timezone)"
   ]
  },
  {
   "cell_type": "code",
   "execution_count": 44,
   "metadata": {},
   "outputs": [
    {
     "data": {
      "text/plain": [
       "1539052508.2561522"
      ]
     },
     "execution_count": 44,
     "metadata": {},
     "output_type": "execute_result"
    }
   ],
   "source": [
    "#得到时间戳\n",
    "time.time()"
   ]
  },
  {
   "cell_type": "code",
   "execution_count": 49,
   "metadata": {},
   "outputs": [
    {
     "name": "stdout",
     "output_type": "stream",
     "text": [
      "time.struct_time(tm_year=2018, tm_mon=10, tm_mday=9, tm_hour=10, tm_min=37, tm_sec=16, tm_wday=1, tm_yday=282, tm_isdst=0)\n",
      "9\n"
     ]
    }
   ],
   "source": [
    "#localtime得到当前时间的时间结构\n",
    "#可以通过. 得到相应属性元素的内容\n",
    "t=time.localtime()\n",
    "print(t)\n",
    "print(t.tm_mday)"
   ]
  },
  {
   "cell_type": "code",
   "execution_count": 61,
   "metadata": {},
   "outputs": [
    {
     "name": "stdout",
     "output_type": "stream",
     "text": [
      "<class 'str'>\n",
      "Tue Oct  9 10:40:33 2018\n"
     ]
    }
   ],
   "source": [
    "#asctime返回元组的正常字符串化之后的时间格式\n",
    "#格式:time.asctime\n",
    "#返回值:字符串\n",
    "tt=time.asctime(time.localtime())\n",
    "print(type(tt))\n",
    "print(tt)"
   ]
  },
  {
   "cell_type": "code",
   "execution_count": 62,
   "metadata": {},
   "outputs": [
    {
     "name": "stdout",
     "output_type": "stream",
     "text": [
      "<class 'str'>\n",
      "Tue Oct  9 10:40:35 2018\n"
     ]
    }
   ],
   "source": [
    "#ctime获取字符串化的当前时间\n",
    "t=time.ctime()\n",
    "print(type(t))\n",
    "print(t)"
   ]
  },
  {
   "cell_type": "code",
   "execution_count": 64,
   "metadata": {},
   "outputs": [
    {
     "name": "stdout",
     "output_type": "stream",
     "text": [
      "<class 'float'>\n",
      "1539052959.0\n"
     ]
    }
   ],
   "source": [
    "#mktime使用时间元组获取对应的时间戳\n",
    "#格式:time.mktime(时间元组)\n",
    "#返回值:浮点数时间戳\n",
    "t=time.localtime()\n",
    "ts=time.mktime(t)\n",
    "print(type(ts))\n",
    "print(ts)"
   ]
  },
  {
   "cell_type": "code",
   "execution_count": 75,
   "metadata": {},
   "outputs": [
    {
     "name": "stdout",
     "output_type": "stream",
     "text": [
      "0.0007590000000001762\n"
     ]
    }
   ],
   "source": [
    "#clock获取CPU时间,3.0-3.3版本可直接使用,3.6调用有问题\n",
    "def p():\n",
    "    time.sleep(2.5)\n",
    "    \n",
    "t0=time.clock()\n",
    "p()\n",
    "t1=time.clock()\n",
    "print( t1-t0 )"
   ]
  },
  {
   "cell_type": "code",
   "execution_count": 76,
   "metadata": {},
   "outputs": [
    {
     "name": "stdout",
     "output_type": "stream",
     "text": [
      "0\n",
      "1\n",
      "2\n",
      "3\n",
      "4\n",
      "5\n",
      "6\n",
      "7\n",
      "8\n",
      "9\n"
     ]
    }
   ],
   "source": [
    "#sleep使程序进入睡眠,n秒之后继续\n",
    "for i in range(10):\n",
    "    print(i)\n",
    "    time.sleep(1)"
   ]
  },
  {
   "cell_type": "code",
   "execution_count": 79,
   "metadata": {},
   "outputs": [
    {
     "name": "stdout",
     "output_type": "stream",
     "text": [
      "2018年10月09日 11:06\n"
     ]
    }
   ],
   "source": [
    "### strftime 将时间远足转化为滴定仪的字符串格式\n",
    "'''\n",
    "python中时间日期格式化符号：\n",
    "格式    含义\n",
    "%y     两位数的年份表示（00-99）\n",
    "%Y     四位数的年份表示（000-9999）\n",
    "%m     月份（01-12）\n",
    "%d     月内中的一天（0-31）\n",
    "%H     24小时制小时数（0-23）\n",
    "%I      12小时制小时数（01-12）\n",
    "%M      分钟数（00=59）\n",
    "%S      秒（00-59）\n",
    "%a      本地简化星期名称\n",
    "%A      本地完整星期名称\n",
    "%b      本地简化的月份名称\n",
    "%B      本地完整的月份名称\n",
    "%c      本地相应的日期表示和时间表示\n",
    "%j      年内的一天（001-366）\n",
    "%p      本地A.M.或P.M.的等价符\n",
    "%U      一年中的星期数（00-53）星期天为星期的开始\n",
    "%w      星期（0-6），星期天为星期的开始\n",
    "%W      一年中的星期数（00-53）星期一为星期的开始\n",
    "%x      本地相应的日期表示\n",
    "%X      本地相应的时间表示\n",
    "%Z      当前时区的名称\n",
    "%%      %号本身\n",
    "'''\n",
    "#把时间表示成,2018年10月9号,11:01\n",
    "t=time.localtime()\n",
    "ft=time.strftime('%Y年%m月%d日 %H:%M',t)\n",
    "print(ft)"
   ]
  },
  {
   "cell_type": "markdown",
   "metadata": {},
   "source": [
    "# datetime 模块\n",
    "- datetime提供日期和时间的运算和表示"
   ]
  },
  {
   "cell_type": "code",
   "execution_count": 80,
   "metadata": {
    "collapsed": true
   },
   "outputs": [],
   "source": [
    "import datetime"
   ]
  },
  {
   "cell_type": "code",
   "execution_count": 84,
   "metadata": {},
   "outputs": [
    {
     "name": "stdout",
     "output_type": "stream",
     "text": [
      "2018-03-02\n",
      "2018\n",
      "3\n",
      "2\n"
     ]
    }
   ],
   "source": [
    "#datetime常见属性\n",
    "#date一个理想化的日期,提供年月日\n",
    "dt=datetime.date(2018,3,2)\n",
    "print(dt)\n",
    "print(dt.year)\n",
    "print(dt.month)\n",
    "print(dt.day)\n",
    "#datetime.time提供一个理想化的时间,居于时分秒内\n",
    "#datetime.datetime提供日期跟时间的组合\n",
    "#datetime.timedelta提供时间差,时间长度"
   ]
  },
  {
   "cell_type": "code",
   "execution_count": 87,
   "metadata": {},
   "outputs": [
    {
     "name": "stdout",
     "output_type": "stream",
     "text": [
      "2018-10-09 11:19:25.572698\n",
      "2018-10-09 11:19:25.573958\n",
      "2018-10-09 11:19:25.574207\n"
     ]
    }
   ],
   "source": [
    "#datetime.datetime\n",
    "from datetime import datetime\n",
    "#常用类方法:\n",
    "#today\n",
    "#now\n",
    "#utcnow\n",
    "#fromtimestamp:从时间戳中返回本地时间\n",
    "dt=datetime(2018,3,26)\n",
    "print(dt.today())\n",
    "print(dt.now())\n",
    "\n",
    "print(dt.fromtimestamp(time.time()))"
   ]
  },
  {
   "cell_type": "code",
   "execution_count": 93,
   "metadata": {},
   "outputs": [
    {
     "name": "stdout",
     "output_type": "stream",
     "text": [
      "2018-10-09 11:25:06.383786\n",
      "2018-10-09 11:25:06\n",
      "2018-10-09 12:25:06\n"
     ]
    }
   ],
   "source": [
    "#datetime.timedelta\n",
    "#定义一个时间间隔\n",
    "from datetime import datetime,timedelta\n",
    "t1=datetime.now()\n",
    "print(t1)\n",
    "print(t1.strftime('%Y-%m-%d %H:%M:%S'))\n",
    "td=timedelta(hours=1)\n",
    "print((t1+td).strftime('%Y-%m-%d %H:%M:%S'))"
   ]
  },
  {
   "cell_type": "code",
   "execution_count": 95,
   "metadata": {},
   "outputs": [
    {
     "name": "stdout",
     "output_type": "stream",
     "text": [
      "2.002368927001953\n"
     ]
    }
   ],
   "source": [
    "#timeit-时间测量工具\n",
    "#测量程序的运行时间间隔\n",
    "def p():\n",
    "    time.sleep(2)\n",
    "t1=time.time()\n",
    "p()\n",
    "t2=time.time()\n",
    "print(t2-t1)"
   ]
  },
  {
   "cell_type": "code",
   "execution_count": 101,
   "metadata": {},
   "outputs": [
    {
     "name": "stdout",
     "output_type": "stream",
     "text": [
      "2.4894910070006517\n",
      "6.290365654999732\n"
     ]
    }
   ],
   "source": [
    "#生成列表两种方法的比较\n",
    "#如果单纯比较生成一个列表的时间,可能很难实现\n",
    "import timeit\n",
    "c='''\n",
    "sum=[]\n",
    "for i in range(1000):\n",
    "    sum.append(i)\n",
    "'''\n",
    "#利用timeit调用代码,执行100000次,查看运行时间\n",
    "t1=timeit.timeit(stmt='[i for i in range(1000)]',number=100000)\n",
    "#测量代码c执行100000次运行结果\n",
    "t2=timeit.timeit(stmt=c,number=100000)\n",
    "print(t1)\n",
    "print(t2)"
   ]
  },
  {
   "cell_type": "code",
   "execution_count": 103,
   "metadata": {},
   "outputs": [
    {
     "name": "stdout",
     "output_type": "stream",
     "text": [
      "Help on function timeit in module timeit:\n",
      "\n",
      "timeit(stmt='pass', setup='pass', timer=<built-in function perf_counter>, number=1000000, globals=None)\n",
      "    Convenience function to create Timer object and call timeit method.\n",
      "\n"
     ]
    }
   ],
   "source": [
    "help(timeit.timeit)"
   ]
  },
  {
   "cell_type": "code",
   "execution_count": 105,
   "metadata": {},
   "outputs": [
    {
     "name": "stdout",
     "output_type": "stream",
     "text": [
      "Repeat for 3\n",
      "Repeat for 3\n",
      "Repeat for 3\n",
      "Repeat for 3\n",
      "Repeat for 3\n",
      "Repeat for 3\n",
      "Repeat for 3\n",
      "Repeat for 3\n",
      "Repeat for 3\n",
      "Repeat for 3\n",
      "Repeat for 3\n",
      "Repeat for 3\n",
      "Repeat for 3\n",
      "Repeat for 3\n",
      "Repeat for 3\n",
      "Repeat for 3\n",
      "Repeat for 3\n",
      "Repeat for 3\n",
      "Repeat for 3\n",
      "Repeat for 3\n",
      "Repeat for 3\n",
      "Repeat for 3\n",
      "Repeat for 3\n",
      "Repeat for 3\n",
      "Repeat for 3\n",
      "Repeat for 3\n",
      "Repeat for 3\n",
      "Repeat for 3\n",
      "Repeat for 3\n",
      "Repeat for 3\n",
      "0.008829030999550014\n"
     ]
    }
   ],
   "source": [
    "#timeit可以执行一个函数,来测量函数的执行时间\n",
    "def doIt():\n",
    "    num=3\n",
    "    for i in range(num):\n",
    "        print('Repeat for {0}'.format(num))\n",
    "        \n",
    "t=timeit.timeit(stmt=doIt,number=10)\n",
    "print(t)"
   ]
  },
  {
   "cell_type": "code",
   "execution_count": 16,
   "metadata": {},
   "outputs": [
    {
     "name": "stdout",
     "output_type": "stream",
     "text": [
      "0---3\n",
      "1---3\n",
      "2---3\n",
      "0---3\n",
      "1---3\n",
      "2---3\n",
      "0---3\n",
      "1---3\n",
      "2---3\n",
      "0---3\n",
      "1---3\n",
      "2---3\n",
      "0---3\n",
      "1---3\n",
      "2---3\n",
      "0---3\n",
      "1---3\n",
      "2---3\n",
      "0---3\n",
      "1---3\n",
      "2---3\n",
      "0---3\n",
      "1---3\n",
      "2---3\n",
      "0---3\n",
      "1---3\n",
      "2---3\n",
      "0---3\n",
      "1---3\n",
      "2---3\n",
      "0.006138022999948589\n"
     ]
    }
   ],
   "source": [
    "import timeit\n",
    "s = '''\n",
    "def doIt(num):\n",
    "    for i in range(num):\n",
    "        print('{0}---{1}'.format(i,num))\n",
    "'''\n",
    "\n",
    "#执行doIt(num)\n",
    "#setup负责把环境变量准备好\n",
    "#实际相当于给timeit创造一个小环境\n",
    "#在创作的小环境下,代码执行的顺序大致是\n",
    "'''\n",
    "def doIt(num):\n",
    "    ...\n",
    "num=3\n",
    "doIt(num)\n",
    "\n",
    "'''\n",
    "t=timeit.timeit(\"doIt(num)\", setup=s+\"num=3\", number=10)\n",
    "print(t)"
   ]
  },
  {
   "cell_type": "code",
   "execution_count": 1,
   "metadata": {
    "collapsed": true
   },
   "outputs": [],
   "source": [
    "#math\n",
    "#random\n",
    "#上面2个见习题课"
   ]
  }
 ],
 "metadata": {
  "kernelspec": {
   "display_name": "Python 3",
   "language": "python",
   "name": "python3"
  },
  "language_info": {
   "codemirror_mode": {
    "name": "ipython",
    "version": 3
   },
   "file_extension": ".py",
   "mimetype": "text/x-python",
   "name": "python",
   "nbconvert_exporter": "python",
   "pygments_lexer": "ipython3",
   "version": "3.6.3"
  }
 },
 "nbformat": 4,
 "nbformat_minor": 2
}
