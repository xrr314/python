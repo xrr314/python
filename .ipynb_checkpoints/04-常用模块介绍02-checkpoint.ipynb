{
 "cells": [
  {
   "cell_type": "markdown",
   "metadata": {},
   "source": [
    "# os-操作系统相关\n",
    "- 跟操作系统相关,主要是文件操作\n",
    "- 于系统相关的操作,主要包含在三个模块里\n",
    "    - os,操作系统目录项目\n",
    "    - os.path,系统路径相关操作\n",
    "    - shutil,高级文件操作,目录树的操作,文件赋值,删除,移动\n",
    "- 路径:\n",
    "    - 绝对路径:总是从根目录上开始\n",
    "    - 相对路径:基本以当前环境为开始的一个相对的地方"
   ]
  },
  {
   "cell_type": "markdown",
   "metadata": {},
   "source": [
    "# os模块"
   ]
  },
  {
   "cell_type": "code",
   "execution_count": 2,
   "metadata": {},
   "outputs": [
    {
     "name": "stdout",
     "output_type": "stream",
     "text": [
      "/home/tlxy/桌面/python\n"
     ]
    }
   ],
   "source": [
    "#getcwd()获取当前的工作目录\n",
    "#格式:os.getcwd()\n",
    "#返回值:当前工作目录的字符串\n",
    "#当前工作目录是程序在进行问阿金相关操作,默认查找文件的目录\n",
    "\n",
    "import os\n",
    "mydir=os.getcwd()\n",
    "print(mydir)"
   ]
  },
  {
   "cell_type": "code",
   "execution_count": 7,
   "metadata": {},
   "outputs": [
    {
     "name": "stdout",
     "output_type": "stream",
     "text": [
      "/home/tlxy\n"
     ]
    }
   ],
   "source": [
    "#chdir()改变当前的工作目录\n",
    "#os.chdir(路径)\n",
    "#返回值:无\n",
    "os.chdir('/home/tlxy')\n",
    "mydir=os.getcwd()\n",
    "print(mydir)"
   ]
  },
  {
   "cell_type": "code",
   "execution_count": 9,
   "metadata": {},
   "outputs": [
    {
     "name": "stdout",
     "output_type": "stream",
     "text": [
      "['.viminfo', '.xsession-errors.old', '.sudo_as_admin_successful', '.bashrc', '.ICEauthority', '.sunpinyin', '图片', '.profile', '.conda', '.java', '.presage', '.pki', '模板', '.sogouinput', '.dbus', '.config', 'tulingxueyuan', '.astropy', '.Xdefaults', '.gitconfig', '音乐', '视频', '.bash_history', '.ssh', '.dmrc', '下载', '.vboxclient-clipboard.pid', '.vboxclient-draganddrop.pid', '.PyCharm2017.3', '.bash_logout', '.gconf', '.local', '.xsession-errors', '.mozilla', '.jupyter', '.gnupg', '.thumbnails', '文档', '公共的', '.cache', '.ipython', '桌面', '.vboxclient-seamless.pid', '.vboxclient-display.pid', '.xscreensaver', '.xinputrc', '.Xauthority']\n"
     ]
    }
   ],
   "source": [
    "#listdir()获取一个目录中所有子目录和文件的名称列表\n",
    "#格式:os.listdir()\n",
    "#返回值:所有子目录和文件名称的列表\n",
    "ld=os.listdir()\n",
    "print(ld)"
   ]
  },
  {
   "cell_type": "code",
   "execution_count": 14,
   "metadata": {},
   "outputs": [],
   "source": [
    "#makedirs()递归创建文件夹\n",
    "#格式:os.makedirs(路径)\n",
    "#返回值:无\n",
    "#递归路径:多层文件夹层层包含的路径就是递归路径,例如:a/b/c...\n",
    "rst=os.makedirs('xrr')"
   ]
  },
  {
   "cell_type": "code",
   "execution_count": 15,
   "metadata": {},
   "outputs": [
    {
     "name": "stdout",
     "output_type": "stream",
     "text": [
      "0\n"
     ]
    }
   ],
   "source": [
    "#system()运行系统shell命名\n",
    "#格式:os.system(系统命令)\n",
    "#返回值:打开一个shell或终端界面\n",
    "#一般推荐使用subprocess代替\n",
    "\n",
    "#ls是列出当前文件和文件夹的系统命令\n",
    "res=os.system('ls')\n",
    "print(res)\n",
    "#需要在终端界面使用ipython进入python操作,可以查看到内容"
   ]
  },
  {
   "cell_type": "code",
   "execution_count": 17,
   "metadata": {},
   "outputs": [
    {
     "name": "stdout",
     "output_type": "stream",
     "text": [
      "/var/sw/anaconda3/bin:/home/tlxy/bin:/home/tlxy/.local/bin:/var/sw/anaconda3/bin:/usr/local/sbin:/usr/local/bin:/usr/sbin:/usr/bin:/sbin:/bin:/usr/games:/usr/local/games:/snap/bin\n"
     ]
    }
   ],
   "source": [
    "#getenv()获取指定的系统环境变量值\n",
    "#相应的还有putenv添加系统环境变量\n",
    "#格式:os.getenv(环境变量)\n",
    "#返回值:指定环境变量对应的值\n",
    "rst=os.getenv('PATH')\n",
    "print(rst)"
   ]
  },
  {
   "cell_type": "code",
   "execution_count": 18,
   "metadata": {
    "collapsed": true
   },
   "outputs": [],
   "source": [
    "#exit()退出当前程序\n",
    "#格式:exit()\n",
    "#返回值:无"
   ]
  },
  {
   "cell_type": "markdown",
   "metadata": {},
   "source": [
    "# 值部分\n",
    "- os.curdir:当前目录\n",
    "- os.pardir:父目录\n",
    "- os.sep:当前系统的路径分隔符\n",
    "    - windows:'\\'\n",
    "    - linux:'/'\n",
    "- os.linesep:当前系统的换行符号\n",
    "    - windows:'\\r\\n'\n",
    "    - unix,linux,maxos:'\\n'\n",
    "- os.name:当前系统名称\n",
    "    - windows:nt\n",
    "    - mac,unix,linux:posix"
   ]
  },
  {
   "cell_type": "code",
   "execution_count": 21,
   "metadata": {},
   "outputs": [
    {
     "name": "stdout",
     "output_type": "stream",
     "text": [
      "..\n",
      ".\n",
      "/\n",
      "\n",
      "\n",
      "posix\n"
     ]
    }
   ],
   "source": [
    "print(os.pardir)\n",
    "print(os.curdir)\n",
    "print(os.sep)\n",
    "print(os.linesep)\n",
    "print(os.name)"
   ]
  },
  {
   "cell_type": "code",
   "execution_count": 23,
   "metadata": {},
   "outputs": [
    {
     "name": "stdout",
     "output_type": "stream",
     "text": [
      "/home/tlxy//xrr\n"
     ]
    }
   ],
   "source": [
    "#在路径相关操作中,不要手动拼写地址,因为手动拼写的路径不具有移植性\n",
    "#windows和unix系统具有不同的路径识别方式\n",
    "path='/home/tlxy/'+'/'+'xrr'\n",
    "print(path)"
   ]
  },
  {
   "cell_type": "markdown",
   "metadata": {},
   "source": [
    "# os.path模块,跟路径相关的操作"
   ]
  },
  {
   "cell_type": "code",
   "execution_count": 25,
   "metadata": {},
   "outputs": [
    {
     "name": "stdout",
     "output_type": "stream",
     "text": [
      "/home/tlxy\n"
     ]
    }
   ],
   "source": [
    "#abspath将路径转化为绝对路径\n",
    "#格式:os.abspath('路径')\n",
    "#返回值:路径的绝对路径形式\n",
    "import os.path as op\n",
    "\n",
    "absp=op.abspath('.')\n",
    "print(absp)"
   ]
  },
  {
   "cell_type": "code",
   "execution_count": 29,
   "metadata": {},
   "outputs": [
    {
     "name": "stdout",
     "output_type": "stream",
     "text": [
      "tlxy\n",
      "xrr\n"
     ]
    }
   ],
   "source": [
    "#basename:获取路径中的文件名部分\n",
    "#格式:os.path.basenae(路径)\n",
    "#返回值:文件名字符串\n",
    "bn=op.basename('/home/tlxy')\n",
    "print(bn)\n",
    "bn=op.basename('/home/tlxy/xrr')\n",
    "print(bn)"
   ]
  },
  {
   "cell_type": "code",
   "execution_count": 32,
   "metadata": {},
   "outputs": [
    {
     "name": "stdout",
     "output_type": "stream",
     "text": [
      "/home/tlxy/xrr\n"
     ]
    }
   ],
   "source": [
    "#join将多个路径拼合成一个路径\n",
    "#格式:os.path.join(路径1,路径2,..)\n",
    "#返回值:组合之后的新路径字符串\n",
    "bd=op.join('/home/tlxy','xrr')\n",
    "print(bd)"
   ]
  },
  {
   "cell_type": "code",
   "execution_count": 36,
   "metadata": {},
   "outputs": [
    {
     "name": "stdout",
     "output_type": "stream",
     "text": [
      "('/home/tlxy', 'xrr')\n",
      "/home/tlxy---xrr\n"
     ]
    }
   ],
   "source": [
    "#split将路径切割成文件夹和当前文件部分\n",
    "#格式:os.path.split(路径)\n",
    "#返回值:路径和文件名的元组\n",
    "t=op.split('/home/tlxy/xrr')\n",
    "print(t)\n",
    "d,p=op.split('/home/tlxy/xrr')\n",
    "print(d+'---'+p)"
   ]
  },
  {
   "cell_type": "code",
   "execution_count": 38,
   "metadata": {},
   "outputs": [
    {
     "name": "stdout",
     "output_type": "stream",
     "text": [
      "True\n"
     ]
    }
   ],
   "source": [
    "#isdir:检测是否是目录\n",
    "#格式:os.path.isdir('路径')\n",
    "#返回值:布尔值\n",
    "print(op.isdir('/home/tlxy'))"
   ]
  },
  {
   "cell_type": "code",
   "execution_count": 41,
   "metadata": {},
   "outputs": [
    {
     "name": "stdout",
     "output_type": "stream",
     "text": [
      "False\n"
     ]
    }
   ],
   "source": [
    "#exists检测文件或者目录是否存在\n",
    "#格式:os.path.exists('路径')\n",
    "#返回值:布尔值\n",
    "print(op.exists('/home/tlxy/xrr1'))"
   ]
  },
  {
   "cell_type": "markdown",
   "metadata": {},
   "source": [
    "# shutil模块"
   ]
  },
  {
   "cell_type": "code",
   "execution_count": 44,
   "metadata": {},
   "outputs": [
    {
     "name": "stdout",
     "output_type": "stream",
     "text": [
      "./bbb.bbb\n"
     ]
    }
   ],
   "source": [
    "#copy复制文件\n",
    "#格式:shutil.copy(来源路径,目标路径)\n",
    "#返回值:返回目标路径\n",
    "#拷贝的同时,可以给文件重命名\n",
    "import shutil\n",
    "ret=shutil.copy('./aaa.aaa','./bbb.bbb')\n",
    "print(ret)"
   ]
  },
  {
   "cell_type": "code",
   "execution_count": 45,
   "metadata": {
    "collapsed": true
   },
   "outputs": [],
   "source": [
    "#copy2复制文件,保留元信息(文件信息)\n",
    "#格式:shutil.copy2(来源路径,目标路径)\n",
    "#返回值:返回目标路径\n",
    "#区别:copy2会尽量保留元数据"
   ]
  },
  {
   "cell_type": "code",
   "execution_count": 47,
   "metadata": {},
   "outputs": [
    {
     "name": "stdout",
     "output_type": "stream",
     "text": [
      "bbb.bbb\n"
     ]
    }
   ],
   "source": [
    "#copyfile将一个文件中的内容赋值到另一个文件中\n",
    "#格式:shutil.copyfile('源路径','目标路径')\n",
    "#返回值:目标文件名\n",
    "rst=shutil.copyfile('aaa.aaa','bbb.bbb')\n",
    "print(rst)"
   ]
  },
  {
   "cell_type": "code",
   "execution_count": 50,
   "metadata": {},
   "outputs": [
    {
     "name": "stdout",
     "output_type": "stream",
     "text": [
      "/home/tlxy/xrr/aaa.aaa\n"
     ]
    }
   ],
   "source": [
    "#move移动文件/文件夹\n",
    "#格式:shutil.move('源路径','目标路径')\n",
    "#返回值:目标路径\n",
    "rst=shutil.move('./aaa.aaa','/home/tlxy/xrr')\n",
    "print(rst)"
   ]
  },
  {
   "cell_type": "markdown",
   "metadata": {},
   "source": [
    "# 归档和压缩\n",
    "- 归档:把多个文件/文件夹合并到一个文件中\n",
    "- 压缩:用算法把多个文件/文件夹无损或者有损合并到一个文件当中"
   ]
  },
  {
   "cell_type": "code",
   "execution_count": 61,
   "metadata": {},
   "outputs": [
    {
     "name": "stdout",
     "output_type": "stream",
     "text": [
      "/home/tlxy/guidang.zip\n"
     ]
    }
   ],
   "source": [
    "#make_archive归档操作\n",
    "#格式:shutil.make_archive('归档后的目录和文件名','后缀','需要归档的文件夹')\n",
    "#返回值:归档之后的地址\n",
    "\n",
    "#help(shutil.make_archive)\n",
    "\n",
    "#是想得到guidang.me的文件夹\n",
    "rst=shutil.make_archive('/home/tlxy/guidang','zip','/home/tlxy/xrr')\n",
    "print(rst)"
   ]
  },
  {
   "cell_type": "code",
   "execution_count": 62,
   "metadata": {
    "collapsed": true
   },
   "outputs": [],
   "source": [
    "#unpack_archive()解包操作\n",
    "#格式:shutil.unpack_archive('归档文件地址','解包后地址')\n",
    "#返回值:解包后地址"
   ]
  },
  {
   "cell_type": "markdown",
   "metadata": {},
   "source": [
    "# zip-压缩包\n",
    "- 木块名称:zipfile"
   ]
  },
  {
   "cell_type": "code",
   "execution_count": 66,
   "metadata": {},
   "outputs": [],
   "source": [
    "#zipfile.ZipFile(file[,mode[,compression[,allowZip64]]])\n",
    "#创建一个zipfile对象,表示一个zip文件,\n",
    "import zipfile\n",
    "zf=zipfile.ZipFile('/home/tlxy/guidang.zip')"
   ]
  },
  {
   "cell_type": "code",
   "execution_count": 67,
   "metadata": {},
   "outputs": [
    {
     "name": "stdout",
     "output_type": "stream",
     "text": [
      "<ZipInfo filename='aaa.aaa' compress_type=deflate filemode='-rw-rw-r--' file_size=4 compress_size=6>\n"
     ]
    }
   ],
   "source": [
    "#ZipFile.getinfo(name):获取zip文档内指定文件的信息,返回一个zipfile.ZipInfo对象,包括文件的详细信息\n",
    "rst=zf.getinfo('aaa.aaa')\n",
    "print(rst)"
   ]
  },
  {
   "cell_type": "code",
   "execution_count": 69,
   "metadata": {},
   "outputs": [
    {
     "name": "stdout",
     "output_type": "stream",
     "text": [
      "['aaa.aaa', 'bbb.bbb']\n"
     ]
    }
   ],
   "source": [
    "#ZipFile.namelist()获取zip文档中所有文件的名称列表\n",
    "nl=zf.namelist()\n",
    "print(nl)"
   ]
  },
  {
   "cell_type": "code",
   "execution_count": 72,
   "metadata": {},
   "outputs": [
    {
     "name": "stdout",
     "output_type": "stream",
     "text": [
      "None\n"
     ]
    }
   ],
   "source": [
    "#ZipFile.extractall([path[,members[,pwd]]])\n",
    "#解压zip文档中所有的文件到path下\n",
    "rst=zf.extractall('/home/tlxy/xrr1')\n",
    "print(rst)"
   ]
  },
  {
   "cell_type": "markdown",
   "metadata": {},
   "source": [
    "# random\n",
    "- 随机数\n",
    "- 所有的随机数模块都是伪随机"
   ]
  },
  {
   "cell_type": "code",
   "execution_count": 139,
   "metadata": {},
   "outputs": [
    {
     "name": "stdout",
     "output_type": "stream",
     "text": [
      "0.06267488876528249\n"
     ]
    }
   ],
   "source": [
    "#random获取0-1之间的随机小数\n",
    "#格式:random.random()\n",
    "#返回值:随机0-1之间的小数\n",
    "import random\n",
    "print(random.random())"
   ]
  },
  {
   "cell_type": "code",
   "execution_count": 155,
   "metadata": {},
   "outputs": [
    {
     "name": "stdout",
     "output_type": "stream",
     "text": [
      "1hhh\n"
     ]
    }
   ],
   "source": [
    "#choice随机返回序列中的某个值\n",
    "#格式:random.choice(序列)\n",
    "#返回值:序列中的某个值\n",
    "l=[str(i)+'hhh' for i in range(10)]\n",
    "rst=random.choice(l)\n",
    "print(rst)"
   ]
  },
  {
   "cell_type": "code",
   "execution_count": 167,
   "metadata": {},
   "outputs": [
    {
     "name": "stdout",
     "output_type": "stream",
     "text": [
      "[0, 1, 2, 3, 4, 5, 6, 7, 8, 9]\n",
      "[3, 8, 1, 0, 4, 5, 7, 6, 9, 2]\n"
     ]
    }
   ],
   "source": [
    "#shuffle随机打乱原本的列表中的内容\n",
    "#格式:random.shuffle(列表)\n",
    "#返回值:无\n",
    "l=[i for i in range(10)]\n",
    "print(l)\n",
    "random.shuffle(l)\n",
    "print(l)"
   ]
  },
  {
   "cell_type": "code",
   "execution_count": 184,
   "metadata": {},
   "outputs": [
    {
     "name": "stdout",
     "output_type": "stream",
     "text": [
      "7\n"
     ]
    }
   ],
   "source": [
    "#randint随机获取范围内的整数\n",
    "#格式:random.randint(num1,num2)\n",
    "#返回值:随机整数\n",
    "r=random.randint(1,10)\n",
    "print(r)"
   ]
  }
 ],
 "metadata": {
  "kernelspec": {
   "display_name": "Python 3",
   "language": "python",
   "name": "python3"
  },
  "language_info": {
   "codemirror_mode": {
    "name": "ipython",
    "version": 3
   },
   "file_extension": ".py",
   "mimetype": "text/x-python",
   "name": "python",
   "nbconvert_exporter": "python",
   "pygments_lexer": "ipython3",
   "version": "3.6.3"
  }
 },
 "nbformat": 4,
 "nbformat_minor": 2
}
