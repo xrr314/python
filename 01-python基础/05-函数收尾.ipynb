{
 "cells": [
  {
   "cell_type": "markdown",
   "metadata": {},
   "source": [
    "# 四类参数\n",
    "- 普通参数\n",
    "- 默认参数\n",
    "- 关键字参数\n",
    "- 收集参数\n",
    "\n",
    "## 关键字参数\n",
    "- 语法\n",
    "    \n",
    "        def func(p1=v1,p2=v2,...):\n",
    "            函数体\n",
    "        \n",
    "        调用函数\n",
    "        func(p1=value1,p2=value2,...)\n",
    "- 比较麻烦，但是也有好处\n",
    "    - 不容易混淆，一般实参和形参只是按照位置一一对应，容易出错\n",
    "    - 使用关键词参数，可以不考虑参数的位置"
   ]
  },
  {
   "cell_type": "code",
   "execution_count": 4,
   "metadata": {},
   "outputs": [
    {
     "name": "stdout",
     "output_type": "stream",
     "text": [
      "i am a student\n",
      "我叫xrr，今天18岁，我住我家\n"
     ]
    }
   ],
   "source": [
    "#关键词参数案例\n",
    "def stu(name,age,addr):\n",
    "    print('i am a student')\n",
    "    print('我叫{0}，今天{1}岁，我住{2}'.format(name,age,addr))\n",
    "    \n",
    "#普通参数，只按照位置传递，容易出错\n",
    "#关键词参数，可以制定输入\n",
    "stu(age=18, name='xrr', addr='我家')"
   ]
  },
  {
   "cell_type": "markdown",
   "metadata": {},
   "source": [
    "## 收集参数\n",
    "- 把没有位置，不能和定义时的参数位置相对应的参数，放入一个特定的数据结构中\n",
    "- 语法\n",
    "\n",
    "        def func(*args):\n",
    "            函数体\n",
    "            按照list使用方式访问args得到传入的参数\n",
    "            \n",
    "        调用：\n",
    "        func(p1,p2,p3,...)\n",
    "- 参数名args不是必须这么写，推荐直接用args\n",
    "- 参数名args前需要有*，表示args这是收集参数\n",
    "- 可与其他参数共存"
   ]
  },
  {
   "cell_type": "code",
   "execution_count": 11,
   "metadata": {},
   "outputs": [
    {
     "name": "stdout",
     "output_type": "stream",
     "text": [
      "i am xrr,今年18，性别男,我还想说hhh\n"
     ]
    }
   ],
   "source": [
    "#收集参数代码\n",
    "def stu(name,age,sex,*args):\n",
    "    print('i am {0},今年{1}，性别{2},我还想说{3}'.format(name,age,sex,args[0]))\n",
    "stu('xrr',18,'男','hhh')"
   ]
  },
  {
   "cell_type": "markdown",
   "metadata": {},
   "source": [
    "### 收集参数之关键词收集参数\n",
    "- 把关键词参数按字典格式收入收集参数中\n",
    "- 语法\n",
    "\n",
    "        def func(**kwargs):\n",
    "            函数体\n",
    "        调用：\n",
    "        func(p1=v1,p2=v2,...)\n",
    "- kwargs一般约定俗称\n",
    "- 调用的时候，吧多余的关键词参数放入kwargs中\n",
    "- 访问kwargs需要使用字典格式访问"
   ]
  },
  {
   "cell_type": "code",
   "execution_count": 27,
   "metadata": {},
   "outputs": [
    {
     "name": "stdout",
     "output_type": "stream",
     "text": [
      "hello 大家好，我自我介绍下：\n",
      "<class 'dict'> -- 字典\n",
      "name --- xrr\n",
      "age --- 18\n",
      "addr --- 我家\n",
      "lover --- ???\n",
      "worker --- marker\n",
      "\n",
      "**************************************************\n",
      "hello 大家好，我自我介绍下：\n",
      "<class 'dict'> -- 字典\n",
      "name --- hhh\n",
      "\n"
     ]
    }
   ],
   "source": [
    "#收集参数案例:自我介绍\n",
    "#调用的时候需要关键词调用\n",
    "def stu( **kwargs):\n",
    "    print('hello 大家好，我自我介绍下：')\n",
    "    print(type(kwargs),'--','字典')\n",
    "    for key,value in kwargs.items():\n",
    "        print(key,'---',value)\n",
    "    print()\n",
    "stu(name='xrr',age='18',addr='我家',lover='???', worker='marker')\n",
    "print('*' * 50)\n",
    "stu(name='hhh')"
   ]
  },
  {
   "cell_type": "code",
   "execution_count": 29,
   "metadata": {
    "scrolled": true
   },
   "outputs": [
    {
     "name": "stdout",
     "output_type": "stream",
     "text": [
      "hello 大家好，我自我介绍下：\n",
      "<class 'dict'> -- 字典\n",
      "\n"
     ]
    }
   ],
   "source": [
    "#收集参数可以为空案例\n",
    "stu()"
   ]
  },
  {
   "cell_type": "markdown",
   "metadata": {},
   "source": [
    "### 收集参数混合调用的顺序问题\n",
    "- 收集参数，关键次参数，普通参数可以混合使用\n",
    "- 使用规则就是，普通参数和关键词参数优先\n",
    "- 定义的时候一般找普通参数，关键词参数，收集参数tuple，收集参数dict"
   ]
  },
  {
   "cell_type": "code",
   "execution_count": 65,
   "metadata": {},
   "outputs": [
    {
     "name": "stdout",
     "output_type": "stream",
     "text": [
      "hello 大家好\n",
      "我叫xrr，我今年18岁\n",
      "我没有爱好\n",
      "**************************************************\n",
      "##################################################\n",
      "--------------------------------------------------\n",
      "hello 大家好\n",
      "我叫xrr，我今年18岁\n",
      "我的爱好是：大酱油\n",
      "**************************************************\n",
      "##################################################\n",
      "--------------------------------------------------\n",
      "hello 大家好\n",
      "我叫xrr，我今年18岁\n",
      "我的爱好是：打酱油\n",
      "**************************************************\n",
      "做吃货\n",
      "##################################################\n",
      "--------------------------------------------------\n",
      "hello 大家好\n",
      "我叫xrr，我今年18岁\n",
      "我的爱好是：打酱油\n",
      "**************************************************\n",
      "做吃货\n",
      "葛优躺\n",
      "##################################################\n",
      "forme --- just\n",
      "foryou --- hahaha\n",
      "--------------------------------------------------\n"
     ]
    }
   ],
   "source": [
    "#收集参数的混合调用案例\n",
    "#stu模拟一个学生的自我介绍\n",
    "def stu( name, age, *args, hobby='没有', **kwargs):\n",
    "    print('hello 大家好')\n",
    "    print('我叫{0}，我今年{1}岁'.format(name,age))\n",
    "    \n",
    "    if(hobby == '没有'):\n",
    "        print('我没有爱好')\n",
    "    else:\n",
    "        print('我的爱好是：{0}'.format(hobby))\n",
    "        \n",
    "    print('*'*50)\n",
    "    \n",
    "    for i in args:\n",
    "        print(i)\n",
    "    print('#'*50)\n",
    "    \n",
    "    for k,v in kwargs.items():\n",
    "        print(k,'---',v)\n",
    "    print('-'*50) \n",
    "stu('xrr',18)\n",
    "stu('xrr',18,hobby='大酱油')\n",
    "stu('xrr',18,'做吃货',hobby='打酱油')\n",
    "stu('xrr',18,'做吃货','葛优躺',hobby='打酱油',forme='just',foryou='hahaha')"
   ]
  },
  {
   "cell_type": "markdown",
   "metadata": {},
   "source": [
    "### 收集参数的解包问题\n",
    "- 把参数放入list、dict中，直接吧list/dict中的值放入收集参数中"
   ]
  },
  {
   "cell_type": "code",
   "execution_count": 71,
   "metadata": {},
   "outputs": [
    {
     "name": "stdout",
     "output_type": "stream",
     "text": [
      "hahaha\n",
      "<class 'list'>\n",
      "['a1', 'b1']\n",
      "hahaha\n",
      "<class 'str'>\n",
      "a1\n",
      "<class 'str'>\n",
      "b1\n"
     ]
    }
   ],
   "source": [
    "#收集参数的解包问题\n",
    "def stu(*args):\n",
    "    print('hahaha')\n",
    "    for i in args:\n",
    "        print(type(i))\n",
    "        print(i)\n",
    "#stu('aaa','bbb','ccc')\n",
    "l=list()\n",
    "l.append('a1')\n",
    "l.append('b1')\n",
    "stu(l)\n",
    "#此时我们希望l中每个元素一次注入作为函数的多个参数\n",
    "#这时我们在参数前加入*进行解包\n",
    "stu(*l)"
   ]
  },
  {
   "cell_type": "markdown",
   "metadata": {},
   "source": [
    "### 同理，dict类型收集参数一样可以解包，但是\n",
    "- 对dict类型进行解包\n",
    "- 需要2个星号**进行解包"
   ]
  },
  {
   "cell_type": "markdown",
   "metadata": {},
   "source": [
    "## 返回值\n",
    "- 函数和过程的区别\n",
    "    - 有无返回值\n",
    "- 需要用return显示返回内容\n",
    "- 如果没有返回，则默认返回None"
   ]
  },
  {
   "cell_type": "code",
   "execution_count": 75,
   "metadata": {},
   "outputs": [
    {
     "name": "stdout",
     "output_type": "stream",
     "text": [
      "有返回值\n",
      "1\n",
      "没有返回值\n",
      "None\n"
     ]
    }
   ],
   "source": [
    "#返回值示例\n",
    "def func_1():\n",
    "    print('有返回值')\n",
    "    return 1\n",
    "def func_2():\n",
    "    print('没有返回值')\n",
    "f1=func_1()\n",
    "print(f1)\n",
    "f2=func_2()\n",
    "print(f2)"
   ]
  },
  {
   "cell_type": "markdown",
   "metadata": {},
   "source": [
    "# 函数文档\n",
    "- 函数的文档的作用是对当前函数提供使用相关的参考信息\n",
    "- 写法\n",
    "    - 在含税内容开始的第一行使用三引号字符串定义符\n",
    "    - 一般具有特定格式\n",
    "    - 参考案例\n",
    "- 文档查看\n",
    "    - 使用help函数，形如help(func)\n",
    "    - 使用__doc__,形如func.__doc__"
   ]
  },
  {
   "cell_type": "code",
   "execution_count": 89,
   "metadata": {},
   "outputs": [
    {
     "name": "stdout",
     "output_type": "stream",
     "text": [
      "Help on function stu in module __main__:\n",
      "\n",
      "stu(name, age, *args)\n",
      "    这是文档的文字内容\n",
      "    :param name: 学生的姓名\n",
      "    :param age: 学生的年龄\n",
      "    :param args: \n",
      "    :return: 无返回值\n",
      "\n",
      "********************\n",
      "\n",
      "    这是文档的文字内容\n",
      "    :param name: 学生的姓名\n",
      "    :param age: 学生的年龄\n",
      "    :param args: \n",
      "    :return: 无返回值\n",
      "    \n"
     ]
    }
   ],
   "source": [
    "#文档案例\n",
    "#函数stu是模拟一个学生的自我介绍内容\n",
    "def stu(name, age, *args):\n",
    "    '''\n",
    "    这是文档的文字内容\n",
    "    :param name: 学生的姓名\n",
    "    :param age: 学生的年龄\n",
    "    :param args: \n",
    "    :return: 无返回值\n",
    "    '''\n",
    "    pass\n",
    "help(stu)\n",
    "print('*'*20)\n",
    "print(stu.__doc__)"
   ]
  }
 ],
 "metadata": {
  "kernelspec": {
   "display_name": "Python 3",
   "language": "python",
   "name": "python3"
  },
  "language_info": {
   "codemirror_mode": {
    "name": "ipython",
    "version": 3
   },
   "file_extension": ".py",
   "mimetype": "text/x-python",
   "name": "python",
   "nbconvert_exporter": "python",
   "pygments_lexer": "ipython3",
   "version": "3.6.3"
  }
 },
 "nbformat": 4,
 "nbformat_minor": 2
}
