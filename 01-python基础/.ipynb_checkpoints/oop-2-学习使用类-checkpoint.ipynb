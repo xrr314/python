{
 "cells": [
  {
   "cell_type": "code",
   "execution_count": 7,
   "metadata": {},
   "outputs": [
    {
     "name": "stdout",
     "output_type": "stream",
     "text": [
      "aaa\n"
     ]
    }
   ],
   "source": [
    "class Student():\n",
    "    name='aaa'\n",
    "    age=18\n",
    "    \n",
    "Student.__dict__\n",
    "\n",
    "#实例化\n",
    "a=Student()\n",
    "a.__dict__\n",
    "print(a.name)"
   ]
  },
  {
   "cell_type": "code",
   "execution_count": 14,
   "metadata": {
    "scrolled": true
   },
   "outputs": [
    {
     "name": "stdout",
     "output_type": "stream",
     "text": [
      "xrr\n",
      "18\n",
      "********************\n",
      "140238815350600\n",
      "94124177313536\n",
      "********************\n",
      "xrr\n",
      "18\n",
      "140238815350600\n",
      "94124177313536\n",
      "{}\n",
      "aaa\n",
      "29\n",
      "{'__module__': '__main__', 'name': 'xrr', 'age': 18, 'say': <function A.say at 0x7f8be4c38f28>, '__dict__': <attribute '__dict__' of 'A' objects>, '__weakref__': <attribute '__weakref__' of 'A' objects>, '__doc__': None}\n",
      "{'name': 'aaa', 'age': 29}\n",
      "140238824122944\n",
      "94124177313888\n"
     ]
    }
   ],
   "source": [
    "class A():\n",
    "    name='xrr'\n",
    "    age=18\n",
    "    def say(self):\n",
    "        self.name='aaa'\n",
    "        self.age=29\n",
    "        \n",
    "#此时,A称为类实例\n",
    "print(A.name)\n",
    "print(A.age)\n",
    "\n",
    "print('*'*20)\n",
    "#id可以鉴定一个变量是否和另一个变量是同一变量\n",
    "print(id(A.name))\n",
    "print(id(A.age))\n",
    "\n",
    "print('*'*20)\n",
    "a=A()\n",
    "\n",
    "print(a.name)\n",
    "print(a.age)\n",
    "print(id(a.name))\n",
    "print(id(a.age))\n",
    "\n",
    "b=A()\n",
    "print(b.__dict__)\n",
    "b.say()\n",
    "print(b.name)\n",
    "print(b.age)\n",
    "print(A.__dict__)\n",
    "print(b.__dict__)\n",
    "print(id(b.name))\n",
    "print(id(b.age))"
   ]
  },
  {
   "cell_type": "code",
   "execution_count": 17,
   "metadata": {},
   "outputs": [
    {
     "name": "stdout",
     "output_type": "stream",
     "text": [
      "my name is aaa\n",
      "my age is 20\n"
     ]
    }
   ],
   "source": [
    "class Student():\n",
    "    name='xrr'\n",
    "    age=18\n",
    "    \n",
    "    def say(self):\n",
    "        self.name='aaa'\n",
    "        self.age=20\n",
    "        print('my name is {0}'.format(self.name))\n",
    "        print('my age is {0}'.format(self.age))\n",
    "        return None\n",
    "stu = Student()\n",
    "stu.say()"
   ]
  },
  {
   "cell_type": "code",
   "execution_count": 22,
   "metadata": {},
   "outputs": [
    {
     "name": "stdout",
     "output_type": "stream",
     "text": [
      "xrr\n",
      "19\n",
      "xrr\n",
      "19\n",
      "xrr\n",
      "18\n",
      "xrr\n",
      "33\n"
     ]
    }
   ],
   "source": [
    "# self案例\n",
    "class A():\n",
    "    name='xrr'\n",
    "    age=18\n",
    "    def __init__(self):\n",
    "        self.name='aaa'\n",
    "        self.age=19\n",
    "        return None\n",
    "    def say(self):\n",
    "        print(self.name)\n",
    "        print(self.age)\n",
    "        return None\n",
    "class B():\n",
    "    name='恩?'\n",
    "    age=33\n",
    "    \n",
    "a=A()\n",
    "b=B()\n",
    "#系统默认把a作为第一个参数传入函数\n",
    "a.say()\n",
    "#此时,self被a替代\n",
    "A.say(a)\n",
    "#同样可以把A作为参数传入\n",
    "A.say(A)\n",
    "#以下代码传入的实例B,因为B一样具有name和age属性,所以不会报错\n",
    "#不同于java严格于类型\n",
    "A.say(B)\n",
    "\n",
    "#以上代码,利用了鸭子模型"
   ]
  }
 ],
 "metadata": {
  "kernelspec": {
   "display_name": "Python 3",
   "language": "python",
   "name": "python3"
  },
  "language_info": {
   "codemirror_mode": {
    "name": "ipython",
    "version": 3
   },
   "file_extension": ".py",
   "mimetype": "text/x-python",
   "name": "python",
   "nbconvert_exporter": "python",
   "pygments_lexer": "ipython3",
   "version": "3.6.3"
  }
 },
 "nbformat": 4,
 "nbformat_minor": 2
}
