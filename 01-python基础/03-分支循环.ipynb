{
 "cells": [
  {
   "cell_type": "markdown",
   "metadata": {},
   "source": [
    "# 三大结构\n",
    "- 顺序\n",
    "- 分支\n",
    "- 循环"
   ]
  },
  {
   "cell_type": "markdown",
   "metadata": {},
   "source": [
    "# 分支\n",
    "- 分支的基本语法\n",
    "\n",
    "        if 条件表达式：\n",
    "            语句1\n",
    "            语句2\n",
    "            ...\n",
    "- 条件表达式就是基三结果必须为布尔值的表达式\n",
    "- 注意一串缩进相同的代码为同一语句块"
   ]
  },
  {
   "cell_type": "code",
   "execution_count": 9,
   "metadata": {},
   "outputs": [
    {
     "name": "stdout",
     "output_type": "stream",
     "text": [
      "叫家长\n",
      "不带你玩了\n"
     ]
    }
   ],
   "source": [
    "#  if语句\n",
    "age=17\n",
    "if age<18 :\n",
    "    print('叫家长')\n",
    "    print('不带你玩了')\n",
    "else :\n",
    "    print('嘿')"
   ]
  },
  {
   "cell_type": "markdown",
   "metadata": {},
   "source": [
    "### 双向分支\n",
    "- if...else..语句\n",
    "\n",
    "        if 条件表达式 ：\n",
    "            语句1\n",
    "            语句2\n",
    "            ...\n",
    "        else :\n",
    "            语句1\n",
    "            语句2\n",
    "            ...\n",
    "- 双向分支有两个分支，当程序执行到if...else...语句的时候，一定会执行if或者else中的一个，也仅执行一个\n",
    "- if与else为一个层级的语句"
   ]
  },
  {
   "cell_type": "code",
   "execution_count": 19,
   "metadata": {},
   "outputs": [
    {
     "name": "stdout",
     "output_type": "stream",
     "text": [
      "请输入年龄123\n",
      "你输入的年龄是：123\n",
      "滚犊子\n",
      "没多余的人了吧，好，开始上课吧\n"
     ]
    }
   ],
   "source": [
    "#input的作用\n",
    "#1.在屏幕上输出括号内的字符串\n",
    "#2.接受用户输入的内容并返回到程序\n",
    "#3.input返回的内容为字符串类型\n",
    "age = input('请输入年龄')\n",
    "print('你输入的年龄是：{0}'.format(age))\n",
    "\n",
    "if age<'18' :\n",
    "    print('滚犊子')\n",
    "else :\n",
    "    print('来敲代码')\n",
    "    \n",
    "print('没多余的人了吧，好，开始上课吧')"
   ]
  },
  {
   "cell_type": "code",
   "execution_count": 26,
   "metadata": {},
   "outputs": [
    {
     "name": "stdout",
     "output_type": "stream",
     "text": [
      "请输入学生成绩：59\n",
      "简直是惊吓\n"
     ]
    }
   ],
   "source": [
    "#考试成绩判断\n",
    "#90以上：优秀\n",
    "#80-89：良\n",
    "#70-79：中\n",
    "#60-69：平\n",
    "#60以下：我没你这学生\n",
    "sorce = input('请输入学生成绩：')\n",
    "sorce = int(sorce)\n",
    "if sorce>=90 :\n",
    "    print('A')\n",
    "else : \n",
    "    if sorce>=80 :\n",
    "        print('B')\n",
    "    else :\n",
    "        if sorce>=70 :\n",
    "            print('C')\n",
    "        else :\n",
    "            if sorce>=60 :\n",
    "                print('D')\n",
    "            else :\n",
    "                print('简直是惊吓')"
   ]
  },
  {
   "cell_type": "markdown",
   "metadata": {},
   "source": [
    "## 多路分支\n",
    "- 很多分支情况\n",
    "\n",
    "        if 条件表达式 :\n",
    "            语句1\n",
    "            ...\n",
    "        elif 条件表达式 :\n",
    "            语句1\n",
    "            ...\n",
    "        ...\n",
    "        else :\n",
    "            语句1\n",
    "            ...\n",
    "- elif可有很多个\n",
    "- else可选"
   ]
  },
  {
   "cell_type": "code",
   "execution_count": 28,
   "metadata": {},
   "outputs": [
    {
     "name": "stdout",
     "output_type": "stream",
     "text": [
      "请输入学生成绩90\n",
      "a\n"
     ]
    }
   ],
   "source": [
    "sorce=input('请输入学生成绩')\n",
    "sorce=int(sorce)\n",
    "if(sorce>=90) :\n",
    "    print('a')\n",
    "elif(sorce>=80):\n",
    "    print('b')\n",
    "elif(sorce>=70):\n",
    "    print('c')\n",
    "elif(sorce>=60):\n",
    "    print('d')\n",
    "else :\n",
    "    print('...')"
   ]
  },
  {
   "cell_type": "markdown",
   "metadata": {},
   "source": [
    "## if语句其他：\n",
    "- if语句可以嵌套，但不推荐\n",
    "- python没有switch-case语句"
   ]
  },
  {
   "cell_type": "markdown",
   "metadata": {},
   "source": [
    "# 循环语句\n",
    "- 重复执行某些固定的动作或者处理基本固定的事物\n",
    "- 分类：\n",
    "    - for循环\n",
    "    - while循环\n",
    "## for循环\n",
    "- for循环\n",
    "        \n",
    "        for 变量 in 序列:\n",
    "            语句1\n",
    "            语句2\n",
    "            ...\n",
    "            "
   ]
  },
  {
   "cell_type": "code",
   "execution_count": 58,
   "metadata": {},
   "outputs": [
    {
     "name": "stdout",
     "output_type": "stream",
     "text": [
      "zhangsan\n",
      "list\n",
      "wangwu\n",
      "jingjing\n",
      "...jingjing\n"
     ]
    }
   ],
   "source": [
    "# 列表就是一列数字或者其他的值，一般用中括号表示\n",
    "#例如：['zhangsan','list','wangwu','jingjing']\n",
    "lists=['zhangsan','list','wangwu','jingjing']\n",
    "for name in lists:\n",
    "    print(name)\n",
    "    if(name=='jingjing'):\n",
    "        print('...{0}'.format(name))"
   ]
  },
  {
   "cell_type": "markdown",
   "metadata": {},
   "source": [
    "## range介绍\n",
    "- 生成一个数字序列\n",
    "- 具体范围可以设定"
   ]
  },
  {
   "cell_type": "code",
   "execution_count": 62,
   "metadata": {},
   "outputs": [
    {
     "name": "stdout",
     "output_type": "stream",
     "text": [
      "1\n",
      "2\n",
      "3\n",
      "4\n",
      "5\n",
      "6\n",
      "7\n",
      "8\n",
      "9\n",
      "10\n"
     ]
    }
   ],
   "source": [
    "#range练习\n",
    "#打印从1-10的数字\n",
    "#注意，一般在python中，\n",
    "#如果有表示数字范围的两个数，一般是包含左边的数字，不包含右边的数字\n",
    "#randin是特例，包含左右\n",
    "for i in range(1,11):\n",
    "    print(i)"
   ]
  },
  {
   "cell_type": "markdown",
   "metadata": {},
   "source": [
    "## for-else语句\n",
    "- 当for循环结束的时候，执行else语句\n",
    "- else为可选"
   ]
  },
  {
   "cell_type": "code",
   "execution_count": 66,
   "metadata": {},
   "outputs": [
    {
     "name": "stdout",
     "output_type": "stream",
     "text": [
      "zhangsan\n",
      "我的基友zhangsan\n",
      "lisi\n",
      "不约\n",
      "wangwu\n",
      "不约\n",
      "???\n"
     ]
    }
   ],
   "source": [
    "for name in ['zhangsan','lisi','wangwu']:\n",
    "    print(name)\n",
    "    if name == 'zhangsan':\n",
    "        print('我的基友{0}'.format(name))\n",
    "    else:\n",
    "        print('不约')\n",
    "else:\n",
    "    print('???')"
   ]
  },
  {
   "cell_type": "markdown",
   "metadata": {},
   "source": [
    "## for循环之break,continue,pass\n",
    "- break：无条件结束整个循环，简称循环猝死\n",
    "- continue：无条件结束本次循环，进入下轮循环、\n",
    "- pass：表示略过，是一个占位符"
   ]
  },
  {
   "cell_type": "code",
   "execution_count": 69,
   "metadata": {},
   "outputs": [
    {
     "name": "stdout",
     "output_type": "stream",
     "text": [
      "1\n",
      "2\n",
      "3\n",
      "4\n",
      "5\n",
      "6\n",
      "我找到7\n"
     ]
    }
   ],
   "source": [
    "# 在1-10的数字中，遇到7打印出来，其余跳过\n",
    "for i in range(1,11):\n",
    "    if(i==7):\n",
    "        print('我找到{0}'.format(i))\n",
    "        break\n",
    "    else:\n",
    "        print(i)"
   ]
  },
  {
   "cell_type": "code",
   "execution_count": 73,
   "metadata": {},
   "outputs": [
    {
     "name": "stdout",
     "output_type": "stream",
     "text": [
      "奇数：1\n",
      "奇数：3\n",
      "奇数：5\n",
      "奇数：7\n",
      "奇数：9\n"
     ]
    }
   ],
   "source": [
    "#continue\n",
    "#打印出所有的奇数\n",
    "for i in range(1,11):\n",
    "    if(i%2==0):\n",
    "        continue\n",
    "    print('奇数：{0}'.format(i))"
   ]
  },
  {
   "cell_type": "code",
   "execution_count": 75,
   "metadata": {},
   "outputs": [
    {
     "name": "stdout",
     "output_type": "stream",
     "text": [
      "??\n",
      "??\n",
      "??\n",
      "??\n",
      "??\n",
      "??\n",
      "??\n",
      "??\n",
      "??\n",
      "??\n"
     ]
    }
   ],
   "source": [
    "#pass例子，一般用于占位\n",
    "#没有跳过功能\n",
    "for i in range(1,11):\n",
    "    pass\n",
    "    print('??')"
   ]
  }
 ],
 "metadata": {
  "kernelspec": {
   "display_name": "Python 3",
   "language": "python",
   "name": "python3"
  },
  "language_info": {
   "codemirror_mode": {
    "name": "ipython",
    "version": 3
   },
   "file_extension": ".py",
   "mimetype": "text/x-python",
   "name": "python",
   "nbconvert_exporter": "python",
   "pygments_lexer": "ipython3",
   "version": "3.6.3"
  }
 },
 "nbformat": 4,
 "nbformat_minor": 2
}
