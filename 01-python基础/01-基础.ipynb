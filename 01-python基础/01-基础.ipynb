{
 "cells": [
  {
   "cell_type": "markdown",
   "metadata": {},
   "source": [
    "# 环境安装\n",
    " - anaconda3+python\n",
    " - 如果机器内存大于4G，推荐虚拟机启动系统\n",
    " - 小于4G，推荐用windows的anaconda+python"
   ]
  },
  {
   "cell_type": "code",
   "execution_count": 3,
   "metadata": {},
   "outputs": [
    {
     "name": "stdout",
     "output_type": "stream",
     "text": [
      "hello world\n"
     ]
    },
    {
     "data": {
      "text/plain": [
       "'\\n多行注释\\n'"
      ]
     },
     "execution_count": 3,
     "metadata": {},
     "output_type": "execute_result"
    }
   ],
   "source": [
    "print(\"hello world\")\n",
    "'''\n",
    "多行注释\n",
    "'''\n"
   ]
  },
  {
   "cell_type": "markdown",
   "metadata": {},
   "source": [
    "# 变量\n",
    " - 程序=数据结构+算法\n",
    " - 变量就是可以重复使用的一个量，或者叫一个代号\n",
    " - 变量命名规则\n",
    "     - 变量命名可以包含数字，大小写字母，下划线或者更多，但是不推荐除了前三种内容之外的符号\n",
    "     - 数字不能够打头\n",
    "         - 4man，5for是不可以的\n",
    "         - man4,for5是可以的\n",
    "     - 一般在python中，以下划线开头的内容具有特殊含义，不建议使用\n",
    "         - 比如_age,_name强烈不推荐\n",
    "     - 大小写不一样\n",
    "         - For和for不一样\n",
    "     - 推荐\n",
    "         - 使用具有固定含义的英文单词或者缩写；srv=server,skt=socket\n",
    "         - 驼峰命名法\n",
    "             - 名称以单词自动连接，且每个单词的首字母大写\n",
    "                 - 大驼峰，每个单词第一个字母的大写\n",
    "                     - 在python给类命名\n",
    "                 - 小驼峰，第一个字母小写\n",
    "                     - 普通变量或者函数命名\n",
    "     - 保留字和关键字\n",
    "         - 变量名必须要避开，不能跟关键字重复\n",
    "         - class,def,break,for..."
   ]
  },
  {
   "cell_type": "code",
   "execution_count": 3,
   "metadata": {},
   "outputs": [
    {
     "data": {
      "text/plain": [
       "['False',\n",
       " 'None',\n",
       " 'True',\n",
       " 'and',\n",
       " 'as',\n",
       " 'assert',\n",
       " 'break',\n",
       " 'class',\n",
       " 'continue',\n",
       " 'def',\n",
       " 'del',\n",
       " 'elif',\n",
       " 'else',\n",
       " 'except',\n",
       " 'finally',\n",
       " 'for',\n",
       " 'from',\n",
       " 'global',\n",
       " 'if',\n",
       " 'import',\n",
       " 'in',\n",
       " 'is',\n",
       " 'lambda',\n",
       " 'nonlocal',\n",
       " 'not',\n",
       " 'or',\n",
       " 'pass',\n",
       " 'raise',\n",
       " 'return',\n",
       " 'try',\n",
       " 'while',\n",
       " 'with',\n",
       " 'yield']"
      ]
     },
     "execution_count": 3,
     "metadata": {},
     "output_type": "execute_result"
    }
   ],
   "source": [
    "#查看关键字方法\n",
    "import keyword #引入关键字模块\n",
    "keyword.kwlist"
   ]
  },
  {
   "cell_type": "markdown",
   "metadata": {},
   "source": [
    "## 变量的声明\n",
    "    - var_name=var_value"
   ]
  },
  {
   "cell_type": "code",
   "execution_count": null,
   "metadata": {
    "collapsed": true
   },
   "outputs": [],
   "source": [
    "age = 18\n",
    "print(age)\n",
    "print(18)\n",
    "\n",
    "\n",
    "age1=age2=age3=18\n",
    "print(age1)\n",
    "print(age2)\n",
    "print(age3)\n",
    "\n",
    "\n",
    "age4,age5,age6=12,21,34\n",
    "print(age4)\n",
    "print(age5)\n",
    "print(age6)"
   ]
  },
  {
   "cell_type": "markdown",
   "metadata": {},
   "source": [
    "## 变量类型\n",
    " - 严格定义上来讲，python只有一个类型\n",
    " - 标准数据一共六种\n",
    "     - 数字类型Number\n",
    "     - 字符串str\n",
    "     - 列表list\n",
    "     - 元组tuple\n",
    "     - 字典Dictionary\n",
    "     - 集合set"
   ]
  },
  {
   "cell_type": "markdown",
   "metadata": {},
   "source": [
    "## Number数字类型\n",
    "- 数字类型没有大小限制\n",
    "### 整数\n",
    "- 没有小数部分\n",
    "- 整数分进制\n",
    "    - 二进制\n",
    "        - 计算机常用\n",
    "        - 是计算机唯一能理解的数字\n",
    "        - 表示为0b开头的0,1代码\n",
    "        - 例如：0b01101,0b10001\n",
    "    - 八进制\n",
    "        - 不常用\n",
    "        - 以0o开头的包含0-7的数字\n",
    "    - 十六进制\n",
    "        - 逢16进1\n",
    "        - 包含0-9，a-f\n",
    "        - 数字上以0x开头\n",
    "    - 十进制"
   ]
  },
  {
   "cell_type": "code",
   "execution_count": 13,
   "metadata": {},
   "outputs": [
    {
     "name": "stdout",
     "output_type": "stream",
     "text": [
      "18\n",
      "18\n",
      "18\n",
      "18\n"
     ]
    }
   ],
   "source": [
    "age=18\n",
    "print(18)\n",
    "\n",
    "age=0b10010\n",
    "print(age)\n",
    "\n",
    "age=0o22\n",
    "print(age)\n",
    "\n",
    "age=0x12\n",
    "print(age)"
   ]
  },
  {
   "cell_type": "markdown",
   "metadata": {},
   "source": [
    "### 浮点数\n",
    " - 小数\n",
    " - 计算机里表示浮点数可以有条件省略\n",
    " - 3./3.0/3.123/.5/0.5\n",
    " - 科学技术法\n",
    "     - 定义跟数字定义\n",
    "     - 写法是用e/E后面跟证书表示10的指数\n",
    "     - 176.23 == 1.7623e2"
   ]
  },
  {
   "cell_type": "code",
   "execution_count": 17,
   "metadata": {},
   "outputs": [
    {
     "name": "stdout",
     "output_type": "stream",
     "text": [
      "156.12\n",
      "0.2\n"
     ]
    }
   ],
   "source": [
    "height = 156.12\n",
    "print(height)\n",
    "\n",
    "shili = .2\n",
    "print(shili)"
   ]
  },
  {
   "cell_type": "markdown",
   "metadata": {},
   "source": [
    "### 复数\n",
    " - 定义同数学\n",
    " - 一个由实部和虚部\n",
    " - 虚部用j/J表示\n",
    " - 5+3j"
   ]
  },
  {
   "cell_type": "markdown",
   "metadata": {},
   "source": [
    "### 布尔值\n",
    " - 表示真假的值\n",
    " - 只有这2个值，True/False\n",
    "     - 本质就是1/0\n",
    " - 布尔值可以跟数字直接操作"
   ]
  },
  {
   "cell_type": "code",
   "execution_count": 19,
   "metadata": {},
   "outputs": [
    {
     "name": "stdout",
     "output_type": "stream",
     "text": [
      "19\n"
     ]
    }
   ],
   "source": [
    "#布尔值操作\n",
    "age=18+True\n",
    "print(age)"
   ]
  },
  {
   "cell_type": "markdown",
   "metadata": {},
   "source": [
    "## 字符串\n",
    " - 用来表示一串文字信息\n",
    " - 表示方式\n",
    "     - 单引号\n",
    "     - 双引号\n",
    "     - 三引号（三个单引号/三个双引号）\n",
    "         - 能够括起多行信息\n",
    " - 单双引号可以交错使用"
   ]
  },
  {
   "cell_type": "code",
   "execution_count": 28,
   "metadata": {},
   "outputs": [
    {
     "name": "stdout",
     "output_type": "stream",
     "text": [
      "i love you\n",
      "我喜欢你\n",
      "\n",
      "我喜欢你\n",
      "嘿嘿嘿\n",
      "\n"
     ]
    }
   ],
   "source": [
    "love = 'i love you'\n",
    "print(love)\n",
    "\n",
    "love='我喜欢你'\n",
    "print(love)\n",
    "\n",
    "#单双引号交错使用\n",
    "#< a style=\"color:red\">哈哈</a>\n",
    "#用引号表示上面字符串\n",
    "html='<a style=\"color:red\">哈哈</a>'\n",
    "\n",
    "\n",
    "htmls= \"\"\"\n",
    "我喜欢你\n",
    "嘿嘿嘿\n",
    "\"\"\"\n",
    "print(htmls)"
   ]
  }
 ],
 "metadata": {
  "kernelspec": {
   "display_name": "Python 3",
   "language": "python",
   "name": "python3"
  },
  "language_info": {
   "codemirror_mode": {
    "name": "ipython",
    "version": 3
   },
   "file_extension": ".py",
   "mimetype": "text/x-python",
   "name": "python",
   "nbconvert_exporter": "python",
   "pygments_lexer": "ipython3",
   "version": "3.6.3"
  }
 },
 "nbformat": 4,
 "nbformat_minor": 2
}
