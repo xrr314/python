{
 "cells": [
  {
   "cell_type": "code",
   "execution_count": 4,
   "metadata": {},
   "outputs": [
    {
     "name": "stdout",
     "output_type": "stream",
     "text": [
      "xrr\n"
     ]
    }
   ],
   "source": [
    "#变量的三种用法\n",
    "class A():\n",
    "    def __init__(self):\n",
    "        self.name='hhh'\n",
    "        self.age=18\n",
    "        \n",
    "a=A()\n",
    "#属性的三种用法\n",
    "#1赋值\n",
    "#2读取\n",
    "#3删除\n",
    "a.name='xrr'\n",
    "print(a.name)\n",
    "del a.name\n",
    "#print(a.name)"
   ]
  },
  {
   "cell_type": "code",
   "execution_count": 10,
   "metadata": {},
   "outputs": [
    {
     "name": "stdout",
     "output_type": "stream",
     "text": [
      "我被读取了\n",
      "hhh\n"
     ]
    }
   ],
   "source": [
    "#类属性property\n",
    "#应用场景\n",
    "#对变量除了普通三种操作,还要怎附加一些操作,可以通过property完成\n",
    "class A():\n",
    "    def __init__(self):\n",
    "        self.name='hhh'\n",
    "        self.age=18\n",
    "    def fget(self):\n",
    "        print('我被读取了')\n",
    "        return self.name\n",
    "    def fset(self,name):\n",
    "        print('我被写入了')\n",
    "        self.name='图灵学院:'+name\n",
    "    def fdel(self):\n",
    "        pass\n",
    "    #property参数顺序\n",
    "    #读取\n",
    "    #写入\n",
    "    #删除\n",
    "    name2=property(fget,fset,fdel,'这是一个property')\n",
    "    \n",
    "a=A()\n",
    "#print(a.name)\n",
    "print(a.name2)"
   ]
  },
  {
   "cell_type": "code",
   "execution_count": 13,
   "metadata": {},
   "outputs": [
    {
     "name": "stdout",
     "output_type": "stream",
     "text": [
      "闻闻味道\n",
      "抱抱\n"
     ]
    }
   ],
   "source": [
    "#抽象\n",
    "class Animal():\n",
    "    def sayHello(self):\n",
    "        pass\n",
    "        \n",
    "class Doy(Animal):\n",
    "    def sayHello(self):\n",
    "        print('闻闻味道')\n",
    "        \n",
    "class Person(Animal):\n",
    "    def sayHello(self):\n",
    "        print('抱抱')\n",
    "        \n",
    "d=Doy()\n",
    "d.sayHello()\n",
    "p=Person()\n",
    "p.sayHello()"
   ]
  },
  {
   "cell_type": "code",
   "execution_count": 21,
   "metadata": {},
   "outputs": [],
   "source": [
    "import abc\n",
    "#声明一个类并且指定当前类的元类\n",
    "class Human(metaclass=abc.ABCMeta):\n",
    "    \n",
    "    #定义一个抽象方法\n",
    "    @abc.abstractmethod\n",
    "    def smoking(self):\n",
    "        pass\n",
    "    \n",
    "    #定义一个 类 抽象方法\n",
    "    @abc.abstractclassmethod\n",
    "    def drink():\n",
    "        pass\n",
    "    \n",
    "    #定义一个 静态 抽象方法\n",
    "    @abc.abstractstaticmethod\n",
    "    def play():\n",
    "        pass\n",
    "    \n",
    "    def sleep(self):\n",
    "        print('sleeping...')"
   ]
  },
  {
   "cell_type": "code",
   "execution_count": 24,
   "metadata": {},
   "outputs": [
    {
     "name": "stdout",
     "output_type": "stream",
     "text": [
      "xrr你好,...\n",
      "rr你好,...\n"
     ]
    }
   ],
   "source": [
    "#函数名可以当变量使用\n",
    "def sayHello(name):\n",
    "    print('{0}你好,...'.format(name))\n",
    "    \n",
    "sayHello('xrr')\n",
    "xrr=sayHello\n",
    "xrr('rr')"
   ]
  },
  {
   "cell_type": "code",
   "execution_count": 27,
   "metadata": {},
   "outputs": [
    {
     "name": "stdout",
     "output_type": "stream",
     "text": [
      "saying...<__main__.A object at 0x7fa742fa0cf8>\n"
     ]
    }
   ],
   "source": [
    "#自己组装一个类\n",
    "class A():\n",
    "    pass\n",
    "def say(self):\n",
    "    print('saying...{0}'.format(self))\n",
    "\n",
    "class B():\n",
    "    def say(self):\n",
    "        print('saying...')\n",
    "#使用 类.xx 来接收函数\n",
    "A.say=say\n",
    "a=A()\n",
    "a.say()"
   ]
  },
  {
   "cell_type": "code",
   "execution_count": 33,
   "metadata": {},
   "outputs": [
    {
     "name": "stdout",
     "output_type": "stream",
     "text": [
      "saying...\n"
     ]
    }
   ],
   "source": [
    "#组装类例子-2\n",
    "#直接为实例绑定方法\n",
    "from types import MethodType\n",
    "class A():\n",
    "    pass\n",
    "\n",
    "def say(self):\n",
    "    print('saying...')\n",
    "\n",
    "    \n",
    "a=A()\n",
    "a.say=MethodType(say,A)\n",
    "a.say()"
   ]
  },
  {
   "cell_type": "code",
   "execution_count": 38,
   "metadata": {},
   "outputs": [
    {
     "name": "stdout",
     "output_type": "stream",
     "text": [
      "Help on class method in module builtins:\n",
      "\n",
      "class method(object)\n",
      " |  method(function, instance)\n",
      " |  \n",
      " |  Create a bound instance method object.\n",
      " |  \n",
      " |  Methods defined here:\n",
      " |  \n",
      " |  __call__(self, /, *args, **kwargs)\n",
      " |      Call self as a function.\n",
      " |  \n",
      " |  __delattr__(self, name, /)\n",
      " |      Implement delattr(self, name).\n",
      " |  \n",
      " |  __eq__(self, value, /)\n",
      " |      Return self==value.\n",
      " |  \n",
      " |  __ge__(self, value, /)\n",
      " |      Return self>=value.\n",
      " |  \n",
      " |  __get__(self, instance, owner, /)\n",
      " |      Return an attribute of instance, which is of type owner.\n",
      " |  \n",
      " |  __getattribute__(self, name, /)\n",
      " |      Return getattr(self, name).\n",
      " |  \n",
      " |  __gt__(self, value, /)\n",
      " |      Return self>value.\n",
      " |  \n",
      " |  __hash__(self, /)\n",
      " |      Return hash(self).\n",
      " |  \n",
      " |  __le__(self, value, /)\n",
      " |      Return self<=value.\n",
      " |  \n",
      " |  __lt__(self, value, /)\n",
      " |      Return self<value.\n",
      " |  \n",
      " |  __ne__(self, value, /)\n",
      " |      Return self!=value.\n",
      " |  \n",
      " |  __new__(*args, **kwargs) from builtins.type\n",
      " |      Create and return a new object.  See help(type) for accurate signature.\n",
      " |  \n",
      " |  __reduce__(...)\n",
      " |      helper for pickle\n",
      " |  \n",
      " |  __repr__(self, /)\n",
      " |      Return repr(self).\n",
      " |  \n",
      " |  __setattr__(self, name, value, /)\n",
      " |      Implement setattr(self, name, value).\n",
      " |  \n",
      " |  ----------------------------------------------------------------------\n",
      " |  Data descriptors defined here:\n",
      " |  \n",
      " |  __func__\n",
      " |      the function (or other callable) implementing a method\n",
      " |  \n",
      " |  __self__\n",
      " |      the instance to which a method is bound\n",
      "\n"
     ]
    }
   ],
   "source": [
    "help(MethodType)"
   ]
  },
  {
   "cell_type": "code",
   "execution_count": 40,
   "metadata": {},
   "outputs": [
    {
     "data": {
      "text/plain": [
       "int"
      ]
     },
     "execution_count": 40,
     "metadata": {},
     "output_type": "execute_result"
    }
   ],
   "source": [
    "type(9)"
   ]
  },
  {
   "cell_type": "code",
   "execution_count": 45,
   "metadata": {},
   "outputs": [
    {
     "data": {
      "text/plain": [
       "['__class__',\n",
       " '__delattr__',\n",
       " '__dict__',\n",
       " '__dir__',\n",
       " '__doc__',\n",
       " '__eq__',\n",
       " '__format__',\n",
       " '__ge__',\n",
       " '__getattribute__',\n",
       " '__gt__',\n",
       " '__hash__',\n",
       " '__init__',\n",
       " '__init_subclass__',\n",
       " '__le__',\n",
       " '__lt__',\n",
       " '__module__',\n",
       " '__ne__',\n",
       " '__new__',\n",
       " '__reduce__',\n",
       " '__reduce_ex__',\n",
       " '__repr__',\n",
       " '__setattr__',\n",
       " '__sizeof__',\n",
       " '__str__',\n",
       " '__subclasshook__',\n",
       " '__weakref__',\n",
       " 'class_say',\n",
       " 'class_talk']"
      ]
     },
     "execution_count": 45,
     "metadata": {},
     "output_type": "execute_result"
    }
   ],
   "source": [
    "#利用type造一个类\n",
    "#先定义类应该具有的成员函数\n",
    "def say(self):\n",
    "    print('saying..')\n",
    "def talk(self):\n",
    "    print('talking..')\n",
    "    \n",
    "#用type创建一个类\n",
    "A=type('AName',(object,),{'class_say':say,'class_talk':talk})\n",
    "\n",
    "#然后就能够正常访问\n",
    "a=A()\n",
    "dir(a)"
   ]
  },
  {
   "cell_type": "code",
   "execution_count": 46,
   "metadata": {},
   "outputs": [
    {
     "name": "stdout",
     "output_type": "stream",
     "text": [
      "Help on class type in module builtins:\n",
      "\n",
      "class type(object)\n",
      " |  type(object_or_name, bases, dict)\n",
      " |  type(object) -> the object's type\n",
      " |  type(name, bases, dict) -> a new type\n",
      " |  \n",
      " |  Methods defined here:\n",
      " |  \n",
      " |  __call__(self, /, *args, **kwargs)\n",
      " |      Call self as a function.\n",
      " |  \n",
      " |  __delattr__(self, name, /)\n",
      " |      Implement delattr(self, name).\n",
      " |  \n",
      " |  __dir__(...)\n",
      " |      __dir__() -> list\n",
      " |      specialized __dir__ implementation for types\n",
      " |  \n",
      " |  __getattribute__(self, name, /)\n",
      " |      Return getattr(self, name).\n",
      " |  \n",
      " |  __init__(self, /, *args, **kwargs)\n",
      " |      Initialize self.  See help(type(self)) for accurate signature.\n",
      " |  \n",
      " |  __instancecheck__(...)\n",
      " |      __instancecheck__() -> bool\n",
      " |      check if an object is an instance\n",
      " |  \n",
      " |  __new__(*args, **kwargs)\n",
      " |      Create and return a new object.  See help(type) for accurate signature.\n",
      " |  \n",
      " |  __prepare__(...)\n",
      " |      __prepare__() -> dict\n",
      " |      used to create the namespace for the class statement\n",
      " |  \n",
      " |  __repr__(self, /)\n",
      " |      Return repr(self).\n",
      " |  \n",
      " |  __setattr__(self, name, value, /)\n",
      " |      Implement setattr(self, name, value).\n",
      " |  \n",
      " |  __sizeof__(...)\n",
      " |      __sizeof__() -> int\n",
      " |      return memory consumption of the type object\n",
      " |  \n",
      " |  __subclasscheck__(...)\n",
      " |      __subclasscheck__() -> bool\n",
      " |      check if a class is a subclass\n",
      " |  \n",
      " |  __subclasses__(...)\n",
      " |      __subclasses__() -> list of immediate subclasses\n",
      " |  \n",
      " |  mro(...)\n",
      " |      mro() -> list\n",
      " |      return a type's method resolution order\n",
      " |  \n",
      " |  ----------------------------------------------------------------------\n",
      " |  Data descriptors defined here:\n",
      " |  \n",
      " |  __abstractmethods__\n",
      " |  \n",
      " |  __dict__\n",
      " |  \n",
      " |  __text_signature__\n",
      " |  \n",
      " |  ----------------------------------------------------------------------\n",
      " |  Data and other attributes defined here:\n",
      " |  \n",
      " |  __base__ = <class 'object'>\n",
      " |      The most base type\n",
      " |  \n",
      " |  __bases__ = (<class 'object'>,)\n",
      " |  \n",
      " |  __basicsize__ = 864\n",
      " |  \n",
      " |  __dictoffset__ = 264\n",
      " |  \n",
      " |  __flags__ = 2148291584\n",
      " |  \n",
      " |  __itemsize__ = 40\n",
      " |  \n",
      " |  __mro__ = (<class 'type'>, <class 'object'>)\n",
      " |  \n",
      " |  __weakrefoffset__ = 368\n",
      "\n"
     ]
    }
   ],
   "source": [
    "help(type)"
   ]
  },
  {
   "cell_type": "code",
   "execution_count": 50,
   "metadata": {},
   "outputs": [
    {
     "name": "stdout",
     "output_type": "stream",
     "text": [
      "haha,woshi元类\n"
     ]
    },
    {
     "data": {
      "text/plain": [
       "'000000'"
      ]
     },
     "execution_count": 50,
     "metadata": {},
     "output_type": "execute_result"
    }
   ],
   "source": [
    "#元类演示\n",
    "#元类写法是固定的,必须继承自type\n",
    "#元类命名以MetaClass结尾\n",
    "class AMetaClass(type):\n",
    "    #注意写法\n",
    "    def __new__(cls,name,bases,attrs):\n",
    "        #自己的代码\n",
    "        print('haha,woshi元类')\n",
    "        attrs['id']='000000'\n",
    "        attrs['addr']='家里蹲'\n",
    "        return type.__new__(cls,name,bases,attrs)\n",
    "    \n",
    "#元类定义玩就可以使用了,注意写法\n",
    "class Tec(object,metaclass=AMetaClass):\n",
    "    pass\n",
    "\n",
    "t=Tec()\n",
    "t.id"
   ]
  }
 ],
 "metadata": {
  "kernelspec": {
   "display_name": "Python 3",
   "language": "python",
   "name": "python3"
  },
  "language_info": {
   "codemirror_mode": {
    "name": "ipython",
    "version": 3
   },
   "file_extension": ".py",
   "mimetype": "text/x-python",
   "name": "python",
   "nbconvert_exporter": "python",
   "pygments_lexer": "ipython3",
   "version": "3.6.3"
  }
 },
 "nbformat": 4,
 "nbformat_minor": 2
}
