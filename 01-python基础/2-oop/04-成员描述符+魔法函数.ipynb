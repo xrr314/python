{
 "cells": [
  {
   "cell_type": "code",
   "execution_count": 5,
   "metadata": {},
   "outputs": [
    {
     "name": "stdout",
     "output_type": "stream",
     "text": [
      "hai,my name is XRR\n",
      "hai,my name is WSH\n"
     ]
    }
   ],
   "source": [
    "#属性案例\n",
    "#创建student类,描述学生\n",
    "#学生具有student.name属性\n",
    "#当name格式并不统一\n",
    "class Student():\n",
    "    def __init__(self,name,age):\n",
    "        self.name=name\n",
    "        self.age=age\n",
    "        \n",
    "        #如果不想修改代码\n",
    "        self.setName(name)\n",
    "             \n",
    "    #介绍下自己\n",
    "    def intro(self):\n",
    "        print('hai,my name is {0}'.format(self.name))\n",
    "    def setName(self,name):\n",
    "        self.name=name.upper()\n",
    "        \n",
    "s1=Student('xrr',18)\n",
    "s2=Student('wsh',18)\n",
    "s1.intro()\n",
    "s2.intro()"
   ]
  },
  {
   "cell_type": "code",
   "execution_count": 17,
   "metadata": {},
   "outputs": [
    {
     "name": "stdout",
     "output_type": "stream",
     "text": [
      "XRRXRR\n"
     ]
    }
   ],
   "source": [
    "#上述问题的解决方式\n",
    "#成员属性描述器\n",
    "#property案例\n",
    "#property(fget,fset,fdel,doc)\n",
    "#定义一个Person类,具有name,age属性\n",
    "#对于任意输入的姓名,都大写\n",
    "#age都整数\n",
    "class Person():\n",
    "    '''\n",
    "    a person \n",
    "    '''\n",
    "    def fget(self):\n",
    "        return self._name*2\n",
    "    def fset(self,name):\n",
    "        self._name=name.upper()\n",
    "    def fdel(self):\n",
    "        self._name='NoName'\n",
    "    name=property(fget,fset,fdel,'对name进行操作')\n",
    "    \n",
    "p1=Person()\n",
    "p1.name='xrr'\n",
    "print(p1.name)"
   ]
  },
  {
   "cell_type": "code",
   "execution_count": 21,
   "metadata": {},
   "outputs": [
    {
     "name": "stdout",
     "output_type": "stream",
     "text": [
      "{'__module__': '__main__', '__doc__': '\\n    a person \\n    ', 'fget': <function Person.fget at 0x7fd304238c80>, 'fset': <function Person.fset at 0x7fd304342bf8>, 'fdel': <function Person.fdel at 0x7fd3043429d8>, 'name': <property object at 0x7fd3041e1638>, '__dict__': <attribute '__dict__' of 'Person' objects>, '__weakref__': <attribute '__weakref__' of 'Person' objects>}\n",
      "\n",
      "    a person \n",
      "    \n",
      "Person\n",
      "(<class 'object'>,)\n"
     ]
    }
   ],
   "source": [
    "##类的内置属性\n",
    "print(Person.__dict__)\n",
    "print(Person.__doc__)\n",
    "print(Person.__name__)\n",
    "print(Person.__bases__)"
   ]
  },
  {
   "cell_type": "code",
   "execution_count": 23,
   "metadata": {},
   "outputs": [
    {
     "name": "stdout",
     "output_type": "stream",
     "text": [
      "正在被调用...\n"
     ]
    }
   ],
   "source": [
    "#init\n",
    "class A():\n",
    "    def __init__(self):\n",
    "        print('正在被调用...')\n",
    "    \n",
    "        \n",
    "a=A()"
   ]
  },
  {
   "cell_type": "code",
   "execution_count": 27,
   "metadata": {},
   "outputs": [
    {
     "name": "stdout",
     "output_type": "stream",
     "text": [
      "正在被调用...\n",
      "__call__正在被调用\n"
     ]
    }
   ],
   "source": [
    "#call\n",
    "class A():\n",
    "    def __init__(self,name=0):\n",
    "        print('正在被调用...')\n",
    "    def __call__(self):\n",
    "        print('__call__正在被调用')\n",
    "        \n",
    "a=A()\n",
    "#a后面加上小括号,可以通过 实例()来调用__call__()函数\n",
    "a()"
   ]
  },
  {
   "cell_type": "code",
   "execution_count": 33,
   "metadata": {},
   "outputs": [
    {
     "name": "stdout",
     "output_type": "stream",
     "text": [
      "正在被调用...\n",
      "__call__正在被调用\n",
      "self\n"
     ]
    }
   ],
   "source": [
    "#str\n",
    "class A():\n",
    "    def __init__(self,name=0):\n",
    "        print('正在被调用...')\n",
    "    def __call__(self):\n",
    "        print('__call__正在被调用')\n",
    "    def __str__(self):\n",
    "        return 'self'\n",
    "        \n",
    "a=A()\n",
    "#a后面加上小括号,可以通过 实例()来调用__call__()函数\n",
    "a()\n",
    "print(a)"
   ]
  },
  {
   "cell_type": "code",
   "execution_count": 39,
   "metadata": {},
   "outputs": [
    {
     "name": "stdout",
     "output_type": "stream",
     "text": [
      "正在被调用...\n",
      "NoName\n",
      "* * * * * * * * * * * * * * * * * * * * \n",
      "???\n",
      "addr\n",
      "None\n"
     ]
    }
   ],
   "source": [
    "#getattr\n",
    "class A():\n",
    "    name='NoName'\n",
    "    age=18\n",
    "    def __init__(self,name=0):\n",
    "        print('正在被调用...')\n",
    "    def __getattr__(self,name):\n",
    "        print('* '*20)\n",
    "        print('???')\n",
    "        print(name)\n",
    "        \n",
    "a=A()\n",
    "\n",
    "print(a.name)\n",
    "print(a.addr)"
   ]
  },
  {
   "cell_type": "code",
   "execution_count": 43,
   "metadata": {},
   "outputs": [
    {
     "name": "stdout",
     "output_type": "stream",
     "text": [
      "{}\n",
      "设置属性age\n"
     ]
    }
   ],
   "source": [
    "#setattr\n",
    "class Person():\n",
    "    def __init__(self):\n",
    "        pass\n",
    "    def __setattr__(self,name,value):\n",
    "        print('设置属性{0}'.format(name))\n",
    "        #下面的代码会导致死循环\n",
    "        #self.name=value\n",
    "        #为了避免死循环,需要对类的父类进行操作\n",
    "        super().__setattr__(name,value)\n",
    "        \n",
    "p=Person()\n",
    "print(p.__dict__)\n",
    "p.age=18"
   ]
  },
  {
   "cell_type": "code",
   "execution_count": 51,
   "metadata": {},
   "outputs": [
    {
     "name": "stdout",
     "output_type": "stream",
     "text": [
      "hh,xrr比wsh大吗?\n",
      "True\n"
     ]
    }
   ],
   "source": [
    "#gt\n",
    "class Student():\n",
    "    def __init__(self,name):\n",
    "        self._name=name\n",
    "    def __gt__(self,obj):\n",
    "        print('hh,{0}比{1}大吗?'.format(self,obj))\n",
    "        return self._name > obj._name\n",
    "    def __str__(self):\n",
    "       return ('{0}'.format(self._name))\n",
    "    \n",
    "s1=Student('xrr')\n",
    "s2=Student('wsh')\n",
    "\n",
    "print(s1 > s2)"
   ]
  },
  {
   "cell_type": "code",
   "execution_count": 56,
   "metadata": {},
   "outputs": [
    {
     "name": "stdout",
     "output_type": "stream",
     "text": [
      "<__main__.Person object at 0x7fd304109048>\n",
      "eating...\n",
      "<class '__main__.Person'>\n",
      "playing...\n",
      "saying...\n",
      "saying...\n"
     ]
    }
   ],
   "source": [
    "#三种方法的案例\n",
    "class Person():\n",
    "    #实例方法\n",
    "    def eat(self):\n",
    "        print(self)\n",
    "        print('eating...')\n",
    "    \n",
    "    #类方法\n",
    "    #第一个参数,cls\n",
    "    @classmethod\n",
    "    def play(cls):\n",
    "        print(cls)\n",
    "        print('playing...')\n",
    "        \n",
    "    #静态方法\n",
    "    #不需要参数表示自身\n",
    "    @staticmethod\n",
    "    def say():\n",
    "        print('saying...')\n",
    "        \n",
    "#实例方法\n",
    "p=Person()\n",
    "p.eat()\n",
    "\n",
    "#类方法\n",
    "Person.play()\n",
    "\n",
    "#静态方法\n",
    "Person.say()\n",
    "p.say()"
   ]
  }
 ],
 "metadata": {
  "kernelspec": {
   "display_name": "Python 3",
   "language": "python",
   "name": "python3"
  },
  "language_info": {
   "codemirror_mode": {
    "name": "ipython",
    "version": 3
   },
   "file_extension": ".py",
   "mimetype": "text/x-python",
   "name": "python",
   "nbconvert_exporter": "python",
   "pygments_lexer": "ipython3",
   "version": "3.6.3"
  }
 },
 "nbformat": 4,
 "nbformat_minor": 2
}
