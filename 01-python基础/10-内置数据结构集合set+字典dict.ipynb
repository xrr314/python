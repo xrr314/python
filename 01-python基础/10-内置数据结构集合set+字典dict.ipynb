{
 "cells": [
  {
   "cell_type": "markdown",
   "metadata": {},
   "source": [
    "# 元组的函数"
   ]
  },
  {
   "cell_type": "code",
   "execution_count": 2,
   "metadata": {},
   "outputs": [
    {
     "data": {
      "text/plain": [
       "5"
      ]
     },
     "execution_count": 2,
     "metadata": {},
     "output_type": "execute_result"
    }
   ],
   "source": [
    "#len获取元组长度\n",
    "t= (1,2,3,4,5)\n",
    "len(t)"
   ]
  },
  {
   "cell_type": "code",
   "execution_count": 6,
   "metadata": {},
   "outputs": [
    {
     "name": "stdout",
     "output_type": "stream",
     "text": [
      "6\n",
      "1\n"
     ]
    }
   ],
   "source": [
    "#max，min最大最小值\n",
    "t=(1,2,3,4,5,6)\n",
    "print(max(t))\n",
    "print(min(t))"
   ]
  },
  {
   "cell_type": "code",
   "execution_count": 8,
   "metadata": {},
   "outputs": [
    {
     "name": "stdout",
     "output_type": "stream",
     "text": [
      "(1, 2, 3, 4, 5)\n"
     ]
    }
   ],
   "source": [
    "#tuple:转化或创建元组\n",
    "l=[1,2,3,4,5]\n",
    "print(tuple(l))\n",
    "t=tuple()\n"
   ]
  },
  {
   "cell_type": "markdown",
   "metadata": {},
   "source": [
    "## 元组的函数\n",
    "- 基本跟list通用"
   ]
  },
  {
   "cell_type": "code",
   "execution_count": 11,
   "metadata": {},
   "outputs": [
    {
     "name": "stdout",
     "output_type": "stream",
     "text": [
      "3\n",
      "4\n"
     ]
    }
   ],
   "source": [
    "#count：计算指定数据出现的次数\n",
    "t=(1,2,3,4,5,5,6,5,8)\n",
    "print(t.count(5))\n",
    "#index:求指定数据第一次出现的索引位置\n",
    "print(t.index(5))\n"
   ]
  },
  {
   "cell_type": "markdown",
   "metadata": {},
   "source": [
    "## 元组变量交换法\n",
    "- 两个变量交换值"
   ]
  },
  {
   "cell_type": "code",
   "execution_count": 13,
   "metadata": {},
   "outputs": [
    {
     "name": "stdout",
     "output_type": "stream",
     "text": [
      "1\n",
      "3\n",
      "3\n",
      "1\n"
     ]
    }
   ],
   "source": [
    "# 两个变量交换值\n",
    "a=1\n",
    "b=3\n",
    "print(a)\n",
    "print(b)\n",
    "\n",
    "a,b=b,a\n",
    "print(a)\n",
    "print(b)"
   ]
  },
  {
   "cell_type": "markdown",
   "metadata": {},
   "source": [
    "# 集合-set\n",
    "- 集合是高中数学的一个概念\n",
    "- 一推确定的无序的唯一的数据（其实是根据hash存储），集合中的每一个数据成为一个元素"
   ]
  },
  {
   "cell_type": "code",
   "execution_count": 15,
   "metadata": {},
   "outputs": [
    {
     "name": "stdout",
     "output_type": "stream",
     "text": [
      "<class 'set'>\n"
     ]
    }
   ],
   "source": [
    "#集合定义\n",
    "s=set()\n",
    "print(type(s))"
   ]
  },
  {
   "cell_type": "code",
   "execution_count": 18,
   "metadata": {},
   "outputs": [
    {
     "name": "stdout",
     "output_type": "stream",
     "text": [
      "<class 'dict'>\n",
      "<class 'set'>\n"
     ]
    }
   ],
   "source": [
    "#如果只是使用大括号定义，则定义的是一个dict类型\n",
    "d={}\n",
    "print(type(d))\n",
    "\n",
    "#如果在大括号中间放入值，则可以是set类型\n",
    "s={1,2,3,4,5}\n",
    "print(type(s))"
   ]
  },
  {
   "cell_type": "markdown",
   "metadata": {},
   "source": [
    "## 集合的特征\n",
    "- 无法索引和分片\n",
    "- 数据具有唯一性\n",
    "    - 如果数据已存在，不会重复添加\n",
    "    - 可以用于排重\n",
    "- 集合类数据，str,int,float,tuple,冻结集合等，即内部只能放置可hash的数据\n",
    "    - 基本本身不可hash，即不能嵌套集合"
   ]
  },
  {
   "cell_type": "markdown",
   "metadata": {},
   "source": [
    "# 集合的操作"
   ]
  },
  {
   "cell_type": "code",
   "execution_count": 21,
   "metadata": {},
   "outputs": [
    {
     "name": "stdout",
     "output_type": "stream",
     "text": [
      "{1, 2, 3, 4, 1.2, 'love', 'aa'}\n",
      "love存在\n"
     ]
    }
   ],
   "source": [
    "#成员检测\n",
    "#in/not in\n",
    "s={1,2,3,4,'aa',1.2,'love'}\n",
    "print(s)\n",
    "if 'love' in s:\n",
    "    print('love存在')"
   ]
  },
  {
   "cell_type": "code",
   "execution_count": 23,
   "metadata": {},
   "outputs": [
    {
     "name": "stdout",
     "output_type": "stream",
     "text": [
      "1\n",
      "2\n",
      "3\n",
      "4\n",
      "1.2\n",
      "love\n",
      "aa\n"
     ]
    }
   ],
   "source": [
    "#遍历操作\n",
    "#for\n",
    "s={1,2,3,4,'aa',1.2,'love'}\n",
    "for i in s:\n",
    "    print(i)"
   ]
  },
  {
   "cell_type": "code",
   "execution_count": 25,
   "metadata": {},
   "outputs": [
    {
     "name": "stdout",
     "output_type": "stream",
     "text": [
      "i -- love -- you\n",
      "4 -- 5 -- 6\n",
      "1 -- 2 -- 3\n"
     ]
    }
   ],
   "source": [
    "#带有元组的集合遍历\n",
    "s={(1,2,3),('i','love','you'),(4,5,6)}\n",
    "for k,v,w in s:\n",
    "    print(k,'--',v,'--',w)"
   ]
  },
  {
   "cell_type": "markdown",
   "metadata": {},
   "source": [
    "## 集合的内涵"
   ]
  },
  {
   "cell_type": "code",
   "execution_count": 29,
   "metadata": {},
   "outputs": [
    {
     "name": "stdout",
     "output_type": "stream",
     "text": [
      "{1, 2, 3, 4, 5, 6, 232, 123123, 23}\n",
      "{1, 2, 3, 4, 5, 6, 232, 123123, 23}\n"
     ]
    }
   ],
   "source": [
    "#普通集合函数\n",
    "#含有重复的集合\n",
    "s={23,232,123123,1,2,3,4,5,6,1,2,3}\n",
    "print(s)\n",
    "\n",
    "#普通集合内涵\n",
    "ss={i for i in s}\n",
    "print(ss)"
   ]
  },
  {
   "cell_type": "code",
   "execution_count": 31,
   "metadata": {},
   "outputs": [
    {
     "name": "stdout",
     "output_type": "stream",
     "text": [
      "{232, 2, 4, 6}\n"
     ]
    }
   ],
   "source": [
    "#带条件的集合创建\n",
    "sss={i for i in s if i%2==0}\n",
    "print(sss)"
   ]
  },
  {
   "cell_type": "code",
   "execution_count": 34,
   "metadata": {},
   "outputs": [
    {
     "name": "stdout",
     "output_type": "stream",
     "text": [
      "{'youyou', 'lovelove', 'ii'}\n"
     ]
    }
   ],
   "source": [
    "#多循环的集合内涵\n",
    "s1={1,2,3}\n",
    "s2={'i','love','you'}\n",
    "s={m*n for n in s1 for m in s2 if n==2}\n",
    "print(s)"
   ]
  },
  {
   "cell_type": "markdown",
   "metadata": {},
   "source": [
    "## 集合函数/关于集合的函数"
   ]
  },
  {
   "cell_type": "code",
   "execution_count": 36,
   "metadata": {},
   "outputs": [
    {
     "name": "stdout",
     "output_type": "stream",
     "text": [
      "9\n",
      "123123\n",
      "1\n"
     ]
    }
   ],
   "source": [
    "#len,max,min：跟list基本一致\n",
    "s={23,232,123123,1,2,3,4,5,6,1,2,3}\n",
    "print(len(s))\n",
    "print(max(s))\n",
    "print(min(s))"
   ]
  },
  {
   "cell_type": "code",
   "execution_count": 38,
   "metadata": {},
   "outputs": [
    {
     "name": "stdout",
     "output_type": "stream",
     "text": [
      "{1, 3, 4, 5, 23}\n"
     ]
    }
   ],
   "source": [
    "#set:生成一个集合\n",
    "l=[1,23,3,4,5]\n",
    "s=set(l)\n",
    "print(s)"
   ]
  },
  {
   "cell_type": "code",
   "execution_count": 40,
   "metadata": {},
   "outputs": [
    {
     "name": "stdout",
     "output_type": "stream",
     "text": [
      "{1, 2}\n"
     ]
    }
   ],
   "source": [
    "#add：向集合添加元素\n",
    "s={1}\n",
    "s.add(2)\n",
    "print(s)"
   ]
  },
  {
   "cell_type": "code",
   "execution_count": 43,
   "metadata": {},
   "outputs": [
    {
     "name": "stdout",
     "output_type": "stream",
     "text": [
      "{1}\n",
      "140386845668968\n",
      "set()\n",
      "140386845668968\n"
     ]
    }
   ],
   "source": [
    "#clear\n",
    "s={1}\n",
    "print(s)\n",
    "print(id(s))\n",
    "s.clear()\n",
    "print(s)\n",
    "print(id(s))"
   ]
  },
  {
   "cell_type": "code",
   "execution_count": 51,
   "metadata": {},
   "outputs": [
    {
     "name": "stdout",
     "output_type": "stream",
     "text": [
      "{1, 2, 3, 4, 5}\n",
      "{1, 2, 3, 5}\n",
      "********************\n",
      "{1, 2, 3, 5}\n"
     ]
    },
    {
     "ename": "KeyError",
     "evalue": "6",
     "traceback": [
      "\u001b[0;31m---------------------------------------------------------------------------\u001b[0m",
      "\u001b[0;31mKeyError\u001b[0m                                  Traceback (most recent call last)",
      "\u001b[0;32m<ipython-input-51-39964f275964>\u001b[0m in \u001b[0;36m<module>\u001b[0;34m()\u001b[0m\n\u001b[1;32m      9\u001b[0m \u001b[0ms\u001b[0m\u001b[0;34m.\u001b[0m\u001b[0mdiscard\u001b[0m\u001b[0;34m(\u001b[0m\u001b[0;36m6\u001b[0m\u001b[0;34m)\u001b[0m\u001b[0;34m\u001b[0m\u001b[0m\n\u001b[1;32m     10\u001b[0m \u001b[0mprint\u001b[0m\u001b[0;34m(\u001b[0m\u001b[0ms\u001b[0m\u001b[0;34m)\u001b[0m\u001b[0;34m\u001b[0m\u001b[0m\n\u001b[0;32m---> 11\u001b[0;31m \u001b[0ms\u001b[0m\u001b[0;34m.\u001b[0m\u001b[0mremove\u001b[0m\u001b[0;34m(\u001b[0m\u001b[0;36m6\u001b[0m\u001b[0;34m)\u001b[0m\u001b[0;34m\u001b[0m\u001b[0m\n\u001b[0m",
      "\u001b[0;31mKeyError\u001b[0m: 6"
     ],
     "output_type": "error"
    }
   ],
   "source": [
    "#copy\n",
    "#remove：移除指定的值，直接改变原有的值，如果要删除的值不存在，报错\n",
    "#discard：移除集合中指定的值，不报错\n",
    "s={1,2,3,4,5}\n",
    "print(s)\n",
    "s.remove(4)\n",
    "print(s)\n",
    "print('*'*20)\n",
    "s.discard(6)\n",
    "print(s)\n",
    "s.remove(6)"
   ]
  },
  {
   "cell_type": "code",
   "execution_count": 55,
   "metadata": {},
   "outputs": [
    {
     "name": "stdout",
     "output_type": "stream",
     "text": [
      "1\n",
      "{2, 3, 4, 5, 6}\n"
     ]
    }
   ],
   "source": [
    "#pop随机移除一个元素\n",
    "s={2,3,4,5,1,6}\n",
    "print(s.pop())\n",
    "print(s)"
   ]
  },
  {
   "cell_type": "code",
   "execution_count": 61,
   "metadata": {},
   "outputs": [
    {
     "name": "stdout",
     "output_type": "stream",
     "text": [
      "{5, 6}\n",
      "{1, 2, 3, 4}\n",
      "{1, 2, 3, 4, 5, 6, 7, 8, 9}\n"
     ]
    }
   ],
   "source": [
    "#集合函数\n",
    "#intersection:交集\n",
    "#difference:差集\n",
    "#union：并集\n",
    "#issubset：检查一个集合是否是另一个集合的子集\n",
    "#issuperset:检查集合是否是另一个超集\n",
    "s1={1,2,3,4,5,6}\n",
    "s2={5,6,7,8,9}\n",
    "s_1=s1.intersection(s2)\n",
    "print(s_1)\n",
    "s_2=s1.difference(s2)\n",
    "print(s_2)\n",
    "s_3=s1.union(s2)\n",
    "print(s_3)"
   ]
  },
  {
   "cell_type": "code",
   "execution_count": 63,
   "metadata": {},
   "outputs": [
    {
     "name": "stdout",
     "output_type": "stream",
     "text": [
      "{1, 2, 3, 4}\n"
     ]
    },
    {
     "ename": "TypeError",
     "evalue": "unsupported operand type(s) for +: 'set' and 'set'",
     "traceback": [
      "\u001b[0;31m---------------------------------------------------------------------------\u001b[0m",
      "\u001b[0;31mTypeError\u001b[0m                                 Traceback (most recent call last)",
      "\u001b[0;32m<ipython-input-63-e312d377b2fc>\u001b[0m in \u001b[0;36m<module>\u001b[0;34m()\u001b[0m\n\u001b[1;32m      4\u001b[0m \u001b[0ms_1\u001b[0m\u001b[0;34m=\u001b[0m\u001b[0ms1\u001b[0m\u001b[0;34m-\u001b[0m\u001b[0ms2\u001b[0m\u001b[0;34m\u001b[0m\u001b[0m\n\u001b[1;32m      5\u001b[0m \u001b[0mprint\u001b[0m\u001b[0;34m(\u001b[0m\u001b[0ms_1\u001b[0m\u001b[0;34m)\u001b[0m\u001b[0;34m\u001b[0m\u001b[0m\n\u001b[0;32m----> 6\u001b[0;31m \u001b[0ms_2\u001b[0m\u001b[0;34m=\u001b[0m\u001b[0ms1\u001b[0m\u001b[0;34m+\u001b[0m\u001b[0ms2\u001b[0m\u001b[0;34m\u001b[0m\u001b[0m\n\u001b[0m\u001b[1;32m      7\u001b[0m \u001b[0mprint\u001b[0m\u001b[0;34m(\u001b[0m\u001b[0ms_2\u001b[0m\u001b[0;34m)\u001b[0m\u001b[0;34m\u001b[0m\u001b[0m\n",
      "\u001b[0;31mTypeError\u001b[0m: unsupported operand type(s) for +: 'set' and 'set'"
     ],
     "output_type": "error"
    }
   ],
   "source": [
    "#集合的数学操作\n",
    "s1={1,2,3,4,5,6}\n",
    "s2={5,6,7,8,9}\n",
    "s_1=s1-s2\n",
    "print(s_1)\n",
    "s_2=s1+s2\n",
    "print(s_2)"
   ]
  },
  {
   "cell_type": "markdown",
   "metadata": {},
   "source": [
    "## frozen:冰冻集合\n",
    "- 冰冻集合就是不能修改的集合\n",
    "- frozenset就是一种特殊的集合"
   ]
  },
  {
   "cell_type": "code",
   "execution_count": 65,
   "metadata": {},
   "outputs": [
    {
     "name": "stdout",
     "output_type": "stream",
     "text": [
      "frozenset()\n"
     ]
    }
   ],
   "source": [
    "#frozen创建\n",
    "s=frozenset()\n",
    "print(s)"
   ]
  },
  {
   "cell_type": "markdown",
   "metadata": {},
   "source": [
    "# 字典dict\n",
    "- 字典是一种组合数据，没有顺序的组合数据，数据以键值对形式出现"
   ]
  },
  {
   "cell_type": "code",
   "execution_count": 15,
   "metadata": {},
   "outputs": [
    {
     "name": "stdout",
     "output_type": "stream",
     "text": [
      "{}\n",
      "<class 'dict'>\n",
      "{}\n",
      "{'one': 1, 'two': 2, 'tree': 3}\n",
      "********************\n",
      "{'one': 1, 'two': 2, 'three': 3}\n",
      "{'one': 1, 'two': 2, 'three': 3}\n",
      "{'one': 1, 'two': 2, 'three': 3}\n"
     ]
    }
   ],
   "source": [
    "#字典的创建\n",
    "#创建空字典\n",
    "d={}\n",
    "print(d)\n",
    "print(type(d))\n",
    "d=dict()\n",
    "print(d)\n",
    "\n",
    "#创建一个有值的字典\n",
    "d={'one':1,'two':2,'tree':3}\n",
    "print(d)\n",
    "\n",
    "print('*'*20)\n",
    "#用dict创建,认准一个使用\n",
    "d1=dict({'one':1,'two':2,'three':3})\n",
    "d2=dict(one=1, two=2, three=3)\n",
    "d3=dict([('one',1),('two',2),('three',3)])\n",
    "print(d1)\n",
    "print(d2)\n",
    "print(d3)"
   ]
  },
  {
   "cell_type": "markdown",
   "metadata": {},
   "source": [
    "## 字典特征\n",
    "- 字典是序列类型，但是内部数据无序序列，所以没有分片和索引\n",
    "- 字典中的数据每个键值对组成，即kv对\n",
    "    - key：必须可hash,比如int,str,tuple但是list,set,dict不行\n",
    "    - value：任意值"
   ]
  },
  {
   "cell_type": "markdown",
   "metadata": {},
   "source": [
    "## 字典常见操作"
   ]
  },
  {
   "cell_type": "code",
   "execution_count": 18,
   "metadata": {},
   "outputs": [
    {
     "name": "stdout",
     "output_type": "stream",
     "text": [
      "1\n",
      "{'two': 2, 'three': 3}\n"
     ]
    }
   ],
   "source": [
    "#访问数据\n",
    "d={'one':1,'two':2,'three':3}\n",
    "print(d['one'])\n",
    "\n",
    "#删除del\n",
    "del d['one']\n",
    "print(d)"
   ]
  },
  {
   "cell_type": "code",
   "execution_count": 23,
   "metadata": {},
   "outputs": [
    {
     "name": "stdout",
     "output_type": "stream",
     "text": [
      "2\n"
     ]
    }
   ],
   "source": [
    "#成员检测in/not in\n",
    "#检测的是key\n",
    "d={'one':1,'two':2,'three':3}\n",
    "if 2 in d:\n",
    "    print(1)\n",
    "if 'two' in d:\n",
    "    print(2)\n",
    "if ('two',2)in d:\n",
    "    print(3)"
   ]
  },
  {
   "cell_type": "code",
   "execution_count": 30,
   "metadata": {},
   "outputs": [
    {
     "name": "stdout",
     "output_type": "stream",
     "text": [
      "1\n",
      "2\n",
      "3\n",
      "********************\n",
      "1\n",
      "2\n",
      "3\n",
      "********************\n",
      "1\n",
      "2\n",
      "3\n",
      "********************\n",
      "one -- 1\n",
      "two -- 2\n",
      "three -- 3\n"
     ]
    }
   ],
   "source": [
    "#遍历\n",
    "#按key里使用for循环\n",
    "d={'one':1,'two':2,'three':3}\n",
    "for k in d:\n",
    "    print(d[k])\n",
    "print('*'*20)\n",
    "#可以改成\n",
    "for k in d.keys():\n",
    "    print(d[k])\n",
    "print('*'*20)\n",
    "#只访问字典的值\n",
    "for v in d.values():\n",
    "    print(v)\n",
    "print('*'*20)\n",
    "#注意特殊用法\n",
    "for k,v in d.items():\n",
    "    print(k,'--',v)"
   ]
  },
  {
   "cell_type": "code",
   "execution_count": 35,
   "metadata": {},
   "outputs": [
    {
     "name": "stdout",
     "output_type": "stream",
     "text": [
      "{'one': 1, 'two': 2, 'three': 3}\n",
      "{'two': 2}\n"
     ]
    }
   ],
   "source": [
    "#字典生成式\n",
    "d={'one':1,'two':2,'three':3}\n",
    "dd={k:v for k,v in d.items()}\n",
    "ddd={k:v for k,v in d.items() if k=='two'}\n",
    "print(dd)\n",
    "print(ddd)"
   ]
  },
  {
   "cell_type": "markdown",
   "metadata": {},
   "source": [
    "## 字典的相关函数"
   ]
  },
  {
   "cell_type": "code",
   "execution_count": 37,
   "metadata": {},
   "outputs": [
    {
     "name": "stdout",
     "output_type": "stream",
     "text": [
      "{'one': 1, 'two': 2, 'three': 3}\n"
     ]
    }
   ],
   "source": [
    "#通用的len,max,min,dict\n",
    "#str字典：返回字典的字符串格式\n",
    "d={'one':1,'two':2,'three':3}\n",
    "print(str(d))"
   ]
  },
  {
   "cell_type": "code",
   "execution_count": 40,
   "metadata": {},
   "outputs": [
    {
     "name": "stdout",
     "output_type": "stream",
     "text": [
      "dict_items([('one', 1), ('two', 2), ('three', 3)])\n",
      "<class 'dict_items'>\n"
     ]
    }
   ],
   "source": [
    "#clear：清空\n",
    "#itemsL：返回字典的键值对组成的元组格式\n",
    "d={'one':1,'two':2,'three':3}\n",
    "print(d.items())\n",
    "print(type(d.items()))"
   ]
  },
  {
   "cell_type": "code",
   "execution_count": 42,
   "metadata": {},
   "outputs": [
    {
     "name": "stdout",
     "output_type": "stream",
     "text": [
      "dict_keys(['one', 'two', 'three'])\n",
      "<class 'dict_keys'>\n"
     ]
    }
   ],
   "source": [
    "#keys:返回字典的键组的一个结构\n",
    "d={'one':1,'two':2,'three':3}\n",
    "k=d.keys()\n",
    "print(k)\n",
    "print(type(k))"
   ]
  },
  {
   "cell_type": "code",
   "execution_count": 44,
   "metadata": {},
   "outputs": [
    {
     "name": "stdout",
     "output_type": "stream",
     "text": [
      "dict_values([1, 2, 3])\n",
      "<class 'dict_values'>\n"
     ]
    }
   ],
   "source": [
    "#values:同理\n",
    "d={'one':1,'two':2,'three':3}\n",
    "v=d.values()\n",
    "print(v)\n",
    "print(type(v))"
   ]
  },
  {
   "cell_type": "code",
   "execution_count": 48,
   "metadata": {},
   "outputs": [
    {
     "name": "stdout",
     "output_type": "stream",
     "text": [
      "None\n",
      "1\n",
      "100\n"
     ]
    },
    {
     "ename": "KeyError",
     "evalue": "'one333'",
     "traceback": [
      "\u001b[0;31m---------------------------------------------------------------------------\u001b[0m",
      "\u001b[0;31mKeyError\u001b[0m                                  Traceback (most recent call last)",
      "\u001b[0;32m<ipython-input-48-ee45baa417cf>\u001b[0m in \u001b[0;36m<module>\u001b[0;34m()\u001b[0m\n\u001b[1;32m      5\u001b[0m \u001b[0mprint\u001b[0m\u001b[0;34m(\u001b[0m\u001b[0md\u001b[0m\u001b[0;34m.\u001b[0m\u001b[0mget\u001b[0m\u001b[0;34m(\u001b[0m\u001b[0;34m'one'\u001b[0m\u001b[0;34m,\u001b[0m\u001b[0;36m100\u001b[0m\u001b[0;34m)\u001b[0m\u001b[0;34m)\u001b[0m\u001b[0;34m\u001b[0m\u001b[0m\n\u001b[1;32m      6\u001b[0m \u001b[0mprint\u001b[0m\u001b[0;34m(\u001b[0m\u001b[0md\u001b[0m\u001b[0;34m.\u001b[0m\u001b[0mget\u001b[0m\u001b[0;34m(\u001b[0m\u001b[0;34m'one333'\u001b[0m\u001b[0;34m,\u001b[0m\u001b[0;36m100\u001b[0m\u001b[0;34m)\u001b[0m\u001b[0;34m)\u001b[0m\u001b[0;34m\u001b[0m\u001b[0m\n\u001b[0;32m----> 7\u001b[0;31m \u001b[0mprint\u001b[0m\u001b[0;34m(\u001b[0m\u001b[0md\u001b[0m\u001b[0;34m[\u001b[0m\u001b[0;34m'one333'\u001b[0m\u001b[0;34m]\u001b[0m\u001b[0;34m)\u001b[0m\u001b[0;34m\u001b[0m\u001b[0m\n\u001b[0m",
      "\u001b[0;31mKeyError\u001b[0m: 'one333'"
     ],
     "output_type": "error"
    }
   ],
   "source": [
    "#get:根据指定键返回相应的值，好处，可以设置默认值\n",
    "d={'one':1,'two':2,'three':3}\n",
    "print(d.get('one333'))\n",
    "#可以设置默认值\n",
    "print(d.get('one',100))\n",
    "print(d.get('one333',100))\n",
    "print(d['one333'])"
   ]
  },
  {
   "cell_type": "code",
   "execution_count": 51,
   "metadata": {},
   "outputs": [
    {
     "name": "stdout",
     "output_type": "stream",
     "text": [
      "{'one': 'hhhh', 'two': 'hhhh', 'three': 'hhhh'}\n"
     ]
    }
   ],
   "source": [
    "#fromkeys:使用指定的序列作为键，使用一个值作为字典的所有的键的值\n",
    "l=['one','two','three']\n",
    "#fromkeys两个参数\n",
    "d=dict.fromkeys(l,'hhhh')\n",
    "print(d)"
   ]
  }
 ],
 "metadata": {
  "kernelspec": {
   "display_name": "Python 3",
   "language": "python",
   "name": "python3"
  },
  "language_info": {
   "codemirror_mode": {
    "name": "ipython",
    "version": 3
   },
   "file_extension": ".py",
   "mimetype": "text/x-python",
   "name": "python",
   "nbconvert_exporter": "python",
   "pygments_lexer": "ipython3",
   "version": "3.6.3"
  }
 },
 "nbformat": 4,
 "nbformat_minor": 2
}
