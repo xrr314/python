{
 "cells": [
  {
   "cell_type": "markdown",
   "metadata": {},
   "source": [
    "# Log模块资料\n",
    "- https://www.cnblogs.com/yyds/p/6901864.html"
   ]
  },
  {
   "cell_type": "markdown",
   "metadata": {},
   "source": [
    "# python语言的高级特性"
   ]
  },
  {
   "cell_type": "markdown",
   "metadata": {},
   "source": [
    "## 函数式编程(FunctionalProgramming)\n",
    "- 基于lambda演算的一种编程方式\n",
    "    - 程序中只有函数\n",
    "    - 函数可以作为参数,同样可以作为返回值\n",
    "    - 纯函数式编程语言:LISP,Haskell\n",
    "    \n",
    "- python函数编程只是借鉴函数式编程的一些特点,可以理解成一半函数式,一半python\n",
    "- 需要讲述\n",
    "    - 高阶函数\n",
    "    - 返回函数\n",
    "    - 匿名函数\n",
    "    - 装饰器\n",
    "    - 偏函数"
   ]
  },
  {
   "cell_type": "markdown",
   "metadata": {},
   "source": [
    "### lambda表达式\n",
    "- 函数:最大程度复用代码\n",
    "    - 存在问题:如果函数很小,很短,则会造成啰嗦\n",
    "    - 如果函数被调用次数少,则造成浪费\n",
    "    - 对于阅读者来说,造成阅读中断\n",
    "- lambda表达式(匿名函数):\n",
    "    - 一个表达式,函数体相对简单\n",
    "    - 不是一个代码块,仅仅是一个表达式\n",
    "    - 可以有参数,有多个参数也可以,用,号隔开"
   ]
  },
  {
   "cell_type": "code",
   "execution_count": 2,
   "metadata": {},
   "outputs": [
    {
     "name": "stdout",
     "output_type": "stream",
     "text": [
      "AAAA\n"
     ]
    }
   ],
   "source": [
    "#'小'函数\n",
    "def printA():\n",
    "    print('AAAA')\n",
    "    \n",
    "printA()"
   ]
  },
  {
   "cell_type": "code",
   "execution_count": 7,
   "metadata": {},
   "outputs": [
    {
     "data": {
      "text/plain": [
       "8900"
      ]
     },
     "execution_count": 7,
     "metadata": {},
     "output_type": "execute_result"
    }
   ],
   "source": [
    "#lambda表达式\n",
    "#1.以lambda开头\n",
    "#2.紧跟一定参数(如果有)\n",
    "#3.参数后:和表达式主题隔开\n",
    "#4.只是一个表达式,所以没有return\n",
    "\n",
    "\n",
    "# 计算一个数字的100倍数\n",
    "stm = lambda x : 100 * x\n",
    "#使用上跟函数调用一样\n",
    "stm(89)"
   ]
  },
  {
   "cell_type": "code",
   "execution_count": 8,
   "metadata": {},
   "outputs": [
    {
     "data": {
      "text/plain": [
       "200"
      ]
     },
     "execution_count": 8,
     "metadata": {},
     "output_type": "execute_result"
    }
   ],
   "source": [
    "stm2=lambda x,y :100*x*y\n",
    "stm2(1,2)"
   ]
  },
  {
   "cell_type": "markdown",
   "metadata": {},
   "source": [
    "### 高阶函数\n",
    "- 把函数作为参数使用的函数,叫做高阶函数"
   ]
  },
  {
   "cell_type": "code",
   "execution_count": 9,
   "metadata": {
    "collapsed": true
   },
   "outputs": [],
   "source": [
    "#变量可以赋值\n",
    "a=1100\n",
    "b=a"
   ]
  },
  {
   "cell_type": "code",
   "execution_count": 13,
   "metadata": {},
   "outputs": [
    {
     "name": "stdout",
     "output_type": "stream",
     "text": [
      "<function funA at 0x7fe88c4db6a8>\n",
      "In funA\n"
     ]
    }
   ],
   "source": [
    "#函数名称就是一个变量\n",
    "def funA():\n",
    "    print('In funA')\n",
    "    \n",
    "print(funA)    \n",
    "funB=funA\n",
    "funB()"
   ]
  },
  {
   "cell_type": "markdown",
   "metadata": {},
   "source": [
    "### 以上代码得出结论\n",
    "- 函数名称是变量\n",
    "- funB和funA只是名称不一样而已\n",
    "- 既函数名称是变量,则应该可以被当做参数传入另一个函数"
   ]
  },
  {
   "cell_type": "code",
   "execution_count": 19,
   "metadata": {},
   "outputs": [
    {
     "name": "stdout",
     "output_type": "stream",
     "text": [
      "2700\n",
      "2700\n",
      "210\n"
     ]
    }
   ],
   "source": [
    "#高阶函数举例\n",
    "#funA是普通函数,返回一个传入数字的100倍数字\n",
    "def funA(num):\n",
    "    return num*100\n",
    "\n",
    "#再写一个函数,把参数乘以300倍,利用高阶函数\n",
    "def funB(n):\n",
    "    return funA(n)*3\n",
    "print(funB(9))\n",
    "\n",
    "\n",
    "#写一个高级函数\n",
    "def funC(n,f):\n",
    "    #假定函数是把n扩大100倍\n",
    "    #在扩大3倍\n",
    "    return f(n)*3\n",
    "print(funC(9,funA))\n",
    "\n",
    "#比较funC和funB,显然funC的写法优于funB\n",
    "#例如:\n",
    "def funD(n):\n",
    "    return n*10\n",
    "\n",
    "#需求变更,需要把n放大30倍,此时funB则无法实现\n",
    "print(funC(7,funD))"
   ]
  },
  {
   "cell_type": "markdown",
   "metadata": {},
   "source": [
    "### 系统高级函数-map\n",
    "- 原意就是映射,即把集合或者列表中的元素,每一个元素都按照一定的规则进行操作,生成一个新的列表或者集合\n",
    "- map函数是系统提供的具有映射功能的函数,返回值一个迭代对象"
   ]
  },
  {
   "cell_type": "code",
   "execution_count": 32,
   "metadata": {},
   "outputs": [
    {
     "name": "stdout",
     "output_type": "stream",
     "text": [
      "[0, 10, 20, 30, 40, 50, 60, 70, 80, 90]\n",
      "<class 'map'>\n",
      "[0, 10, 20, 30, 40, 50, 60, 70, 80, 90]\n"
     ]
    }
   ],
   "source": [
    "#map举例\n",
    "#有一个列表,想对列表中的每一个元素*10,并得到新的列表\n",
    "\n",
    "#原本的写法\n",
    "l1=[i for i in range(10)]\n",
    "l2=[]\n",
    "for i in l1:\n",
    "    l2.append(i*10)\n",
    "    \n",
    "print(l2)\n",
    "\n",
    "#利用map实现\n",
    "#参数\n",
    "    #函数名,可迭代对象\n",
    "def mulTen(n):\n",
    "    return n*10\n",
    "l3=map(mulTen,l1)\n",
    "print(type(l3))\n",
    "l=list(l3)\n",
    "print(l)"
   ]
  },
  {
   "cell_type": "markdown",
   "metadata": {},
   "source": [
    "### reduce\n",
    "- 原意是归并,缩减\n",
    "- 把一个可迭代对象最后归并成一个结果\n",
    "- 参数要求:必须有2个参数,必须有返回结果\n",
    "- reduce([1,2,3,4,5])==f(f(f(f(1,2),3),4),5)\n",
    "- raduce需要导入functools包"
   ]
  },
  {
   "cell_type": "code",
   "execution_count": 34,
   "metadata": {},
   "outputs": [
    {
     "name": "stdout",
     "output_type": "stream",
     "text": [
      "21\n"
     ]
    }
   ],
   "source": [
    "from functools import reduce\n",
    "\n",
    "#定义一个操作函数\n",
    "#加入操作函数只是相加\n",
    "def myAdd(x,y):\n",
    "    return x+y\n",
    "\n",
    "rst=reduce(myAdd,[1,2,3,4,5,6])\n",
    "print(rst)"
   ]
  }
 ],
 "metadata": {
  "kernelspec": {
   "display_name": "Python 3",
   "language": "python",
   "name": "python3"
  },
  "language_info": {
   "codemirror_mode": {
    "name": "ipython",
    "version": 3
   },
   "file_extension": ".py",
   "mimetype": "text/x-python",
   "name": "python",
   "nbconvert_exporter": "python",
   "pygments_lexer": "ipython3",
   "version": "3.6.3"
  }
 },
 "nbformat": 4,
 "nbformat_minor": 2
}
